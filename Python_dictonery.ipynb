{
 "cells": [
  {
   "cell_type": "code",
   "execution_count": 4,
   "id": "d2d6f3c2-7e90-4051-bddc-0cf57990674d",
   "metadata": {},
   "outputs": [],
   "source": [
    "dict={\"key1\":\"value1\",\"key2\":\"value2\",\"key3\":\"Value3\"}"
   ]
  },
  {
   "cell_type": "code",
   "execution_count": 6,
   "id": "d11496d0-eb3b-4de1-af54-32dedc9eac0a",
   "metadata": {},
   "outputs": [
    {
     "data": {
      "text/plain": [
       "{'key1': 'value1', 'key2': 'value2', 'key3': 'Value3'}"
      ]
     },
     "execution_count": 6,
     "metadata": {},
     "output_type": "execute_result"
    }
   ],
   "source": [
    "dict"
   ]
  },
  {
   "cell_type": "code",
   "execution_count": 8,
   "id": "c0c3057f-915f-43e2-a677-b5fddc524dc2",
   "metadata": {},
   "outputs": [
    {
     "data": {
      "text/plain": [
       "'Value3'"
      ]
     },
     "execution_count": 8,
     "metadata": {},
     "output_type": "execute_result"
    }
   ],
   "source": [
    "dict['key3']"
   ]
  },
  {
   "cell_type": "code",
   "execution_count": 10,
   "id": "0f82bf27-4e40-464e-9578-26b3046f73af",
   "metadata": {},
   "outputs": [],
   "source": [
    "# we can put any data type\n",
    "d1={'k1':234,'k2':487.55,'k3':'hari'}"
   ]
  },
  {
   "cell_type": "code",
   "execution_count": 11,
   "id": "c93b71eb-2672-41c2-83dc-6284e18d7b5e",
   "metadata": {},
   "outputs": [
    {
     "data": {
      "text/plain": [
       "487.55"
      ]
     },
     "execution_count": 11,
     "metadata": {},
     "output_type": "execute_result"
    }
   ],
   "source": [
    "d1['k2']"
   ]
  },
  {
   "cell_type": "code",
   "execution_count": 9,
   "id": "ea9495c2-3d88-4ae4-955b-d36bd730bdde",
   "metadata": {},
   "outputs": [],
   "source": [
    "#we can also put list and dictonary inside a dict"
   ]
  },
  {
   "cell_type": "code",
   "execution_count": 12,
   "id": "b1387489-be49-427a-aef9-19320758d6f2",
   "metadata": {},
   "outputs": [],
   "source": [
    "d={'k1':155,'k2':[23,55.6,'lala'],'k3':{'apple':13,'mango':45.45}}"
   ]
  },
  {
   "cell_type": "code",
   "execution_count": 13,
   "id": "b3e8efbf-5467-46d6-b449-4c8db2365101",
   "metadata": {},
   "outputs": [
    {
     "data": {
      "text/plain": [
       "{'k1': 155, 'k2': [23, 55.6, 'lala'], 'k3': {'apple': 13, 'mango': 45.45}}"
      ]
     },
     "execution_count": 13,
     "metadata": {},
     "output_type": "execute_result"
    }
   ],
   "source": [
    "d"
   ]
  },
  {
   "cell_type": "code",
   "execution_count": 14,
   "id": "3ad25d19-9ecf-4088-b079-0606956e8024",
   "metadata": {},
   "outputs": [
    {
     "data": {
      "text/plain": [
       "[23, 55.6, 'lala']"
      ]
     },
     "execution_count": 14,
     "metadata": {},
     "output_type": "execute_result"
    }
   ],
   "source": [
    "d['k2']"
   ]
  },
  {
   "cell_type": "code",
   "execution_count": 15,
   "id": "528f41e7-0968-4e49-afef-86a6b9847db0",
   "metadata": {},
   "outputs": [
    {
     "data": {
      "text/plain": [
       "55.6"
      ]
     },
     "execution_count": 15,
     "metadata": {},
     "output_type": "execute_result"
    }
   ],
   "source": [
    "d['k2'][1]"
   ]
  },
  {
   "cell_type": "code",
   "execution_count": 16,
   "id": "4d3f0e76-e445-422f-a9b5-bade022005b4",
   "metadata": {},
   "outputs": [
    {
     "data": {
      "text/plain": [
       "{'apple': 13, 'mango': 45.45}"
      ]
     },
     "execution_count": 16,
     "metadata": {},
     "output_type": "execute_result"
    }
   ],
   "source": [
    "d['k3']"
   ]
  },
  {
   "cell_type": "code",
   "execution_count": 17,
   "id": "9f06f6d8-0b8a-414f-b02b-71506fee6d47",
   "metadata": {},
   "outputs": [
    {
     "data": {
      "text/plain": [
       "45.45"
      ]
     },
     "execution_count": 17,
     "metadata": {},
     "output_type": "execute_result"
    }
   ],
   "source": [
    "d['k3']['mango']"
   ]
  },
  {
   "cell_type": "code",
   "execution_count": 18,
   "id": "87bb9e24-0394-4a11-897a-73a16f7136a8",
   "metadata": {},
   "outputs": [],
   "source": [
    "#addition and modification of value"
   ]
  },
  {
   "cell_type": "code",
   "execution_count": 19,
   "id": "ac75d633-da5a-43e6-87bf-a11856d95ac7",
   "metadata": {},
   "outputs": [],
   "source": [
    "d2={'k1':1324,'k2':356.77}"
   ]
  },
  {
   "cell_type": "code",
   "execution_count": 20,
   "id": "07507d14-2a42-4260-b44b-7584557effd5",
   "metadata": {},
   "outputs": [
    {
     "data": {
      "text/plain": [
       "{'k1': 1324, 'k2': 356.77}"
      ]
     },
     "execution_count": 20,
     "metadata": {},
     "output_type": "execute_result"
    }
   ],
   "source": [
    "d2"
   ]
  },
  {
   "cell_type": "code",
   "execution_count": 21,
   "id": "0e249c4d-6fcf-48dc-a680-b64c3cf55bdc",
   "metadata": {},
   "outputs": [],
   "source": [
    "d2['k3']=555"
   ]
  },
  {
   "cell_type": "code",
   "execution_count": 22,
   "id": "a05f9620-6fda-4e20-a82c-e216720e14c7",
   "metadata": {},
   "outputs": [
    {
     "data": {
      "text/plain": [
       "{'k1': 1324, 'k2': 356.77, 'k3': 555}"
      ]
     },
     "execution_count": 22,
     "metadata": {},
     "output_type": "execute_result"
    }
   ],
   "source": [
    "d2"
   ]
  },
  {
   "cell_type": "code",
   "execution_count": 23,
   "id": "15da5777-9746-43f2-a017-fc42efcaf962",
   "metadata": {},
   "outputs": [],
   "source": [
    "d2['k1']=\"new_value\""
   ]
  },
  {
   "cell_type": "code",
   "execution_count": 24,
   "id": "e1dae854-b803-4c08-991d-566d1b0b6b17",
   "metadata": {},
   "outputs": [
    {
     "data": {
      "text/plain": [
       "{'k1': 'new_value', 'k2': 356.77, 'k3': 555}"
      ]
     },
     "execution_count": 24,
     "metadata": {},
     "output_type": "execute_result"
    }
   ],
   "source": [
    "d2"
   ]
  },
  {
   "cell_type": "code",
   "execution_count": 25,
   "id": "076e9115-a3fc-4c56-8297-b2048baf26e1",
   "metadata": {},
   "outputs": [
    {
     "data": {
      "text/plain": [
       "dict_keys(['k1', 'k2', 'k3'])"
      ]
     },
     "execution_count": 25,
     "metadata": {},
     "output_type": "execute_result"
    }
   ],
   "source": [
    "d2.keys()"
   ]
  },
  {
   "cell_type": "code",
   "execution_count": 26,
   "id": "470e2f71-dedd-4bdc-be24-63635fff7c3c",
   "metadata": {},
   "outputs": [
    {
     "data": {
      "text/plain": [
       "dict_values(['new_value', 356.77, 555])"
      ]
     },
     "execution_count": 26,
     "metadata": {},
     "output_type": "execute_result"
    }
   ],
   "source": [
    "d2.values()"
   ]
  },
  {
   "cell_type": "code",
   "execution_count": 27,
   "id": "186d39b6-49ed-4c54-8577-1c7d1d9808c8",
   "metadata": {},
   "outputs": [
    {
     "data": {
      "text/plain": [
       "dict_items([('k1', 'new_value'), ('k2', 356.77), ('k3', 555)])"
      ]
     },
     "execution_count": 27,
     "metadata": {},
     "output_type": "execute_result"
    }
   ],
   "source": [
    "d2.items()"
   ]
  },
  {
   "cell_type": "markdown",
   "id": "931b2e2e-14f0-4d15-89b9-dae5a8f1089b",
   "metadata": {},
   "source": [
    "# tuple  "
   ]
  },
  {
   "cell_type": "code",
   "execution_count": 28,
   "id": "a04dce8c-df43-4116-8af9-c12e32b1b760",
   "metadata": {},
   "outputs": [],
   "source": [
    "#it is similer to list but it is immutable"
   ]
  },
  {
   "cell_type": "code",
   "execution_count": 29,
   "id": "8918831f-e7d6-489a-8bac-f0669a9200ad",
   "metadata": {},
   "outputs": [],
   "source": [
    "t=(24,55.64,'arjun')"
   ]
  },
  {
   "cell_type": "code",
   "execution_count": 30,
   "id": "5b4284bf-9e89-4e7b-9eb0-212dd1e6d367",
   "metadata": {},
   "outputs": [
    {
     "data": {
      "text/plain": [
       "(24, 55.64, 'arjun')"
      ]
     },
     "execution_count": 30,
     "metadata": {},
     "output_type": "execute_result"
    }
   ],
   "source": [
    "t"
   ]
  },
  {
   "cell_type": "code",
   "execution_count": 31,
   "id": "5da7b5af-2ebd-4b85-977e-18b3174dacbc",
   "metadata": {},
   "outputs": [
    {
     "data": {
      "text/plain": [
       "'arjun'"
      ]
     },
     "execution_count": 31,
     "metadata": {},
     "output_type": "execute_result"
    }
   ],
   "source": [
    "t[2]"
   ]
  },
  {
   "cell_type": "code",
   "execution_count": 32,
   "id": "30c47c10-5526-4855-b069-aec4a18e18eb",
   "metadata": {},
   "outputs": [
    {
     "data": {
      "text/plain": [
       "'arjun'"
      ]
     },
     "execution_count": 32,
     "metadata": {},
     "output_type": "execute_result"
    }
   ],
   "source": [
    "t[-1]"
   ]
  },
  {
   "cell_type": "code",
   "execution_count": 33,
   "id": "884caadd-1de3-43dc-a1b1-0630af6482cc",
   "metadata": {},
   "outputs": [],
   "source": [
    "t2=('d','x','d','y')"
   ]
  },
  {
   "cell_type": "code",
   "execution_count": 34,
   "id": "8d8c8131-b4f6-48ae-b511-e7345a2d55f9",
   "metadata": {},
   "outputs": [
    {
     "data": {
      "text/plain": [
       "2"
      ]
     },
     "execution_count": 34,
     "metadata": {},
     "output_type": "execute_result"
    }
   ],
   "source": [
    "t2.count('d')"
   ]
  },
  {
   "cell_type": "code",
   "execution_count": 36,
   "id": "48eef6e2-2ba4-40b0-adb0-58a0e7313761",
   "metadata": {},
   "outputs": [
    {
     "data": {
      "text/plain": [
       "3"
      ]
     },
     "execution_count": 36,
     "metadata": {},
     "output_type": "execute_result"
    }
   ],
   "source": [
    "t2.index('y')"
   ]
  },
  {
   "cell_type": "code",
   "execution_count": null,
   "id": "94cc7149-c28b-4b03-a60c-27eb4baf886a",
   "metadata": {},
   "outputs": [],
   "source": []
  }
 ],
 "metadata": {
  "kernelspec": {
   "display_name": "Python 3 (ipykernel)",
   "language": "python",
   "name": "python3"
  },
  "language_info": {
   "codemirror_mode": {
    "name": "ipython",
    "version": 3
   },
   "file_extension": ".py",
   "mimetype": "text/x-python",
   "name": "python",
   "nbconvert_exporter": "python",
   "pygments_lexer": "ipython3",
   "version": "3.10.7"
  }
 },
 "nbformat": 4,
 "nbformat_minor": 5
}
