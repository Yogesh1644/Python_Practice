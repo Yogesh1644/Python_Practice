{
 "cells": [
  {
   "cell_type": "code",
   "execution_count": 7,
   "id": "66f78c51-ecd4-4727-b75b-8624c157cd43",
   "metadata": {},
   "outputs": [],
   "source": [
    "from selenium import webdriver"
   ]
  },
  {
   "cell_type": "code",
   "execution_count": 8,
   "id": "bc669bd5-ca89-4b14-b0d0-edcf1950ff2a",
   "metadata": {},
   "outputs": [],
   "source": [
    "from selenium.webdriver.chrome.service import Service"
   ]
  },
  {
   "cell_type": "code",
   "execution_count": 19,
   "id": "6d68dca7-77c7-49c6-95bc-10faf266f7aa",
   "metadata": {},
   "outputs": [],
   "source": [
    "from selenium.webdriver.common.keys import Keys"
   ]
  },
  {
   "cell_type": "code",
   "execution_count": 20,
   "id": "12259ab8-9d4c-486f-a2ff-69f28c97f974",
   "metadata": {},
   "outputs": [],
   "source": [
    "path=\"D:/Data_Engineer/selenium/chromedriver-win32/chromedriver.exe\""
   ]
  },
  {
   "cell_type": "code",
   "execution_count": null,
   "id": "cff79bb9-ec04-421e-879e-82363a8771d6",
   "metadata": {},
   "outputs": [],
   "source": [
    "/html/body/div[1]/div[3]/form/div[1]/div[1]/div[1]/div/div[2]/input"
   ]
  },
  {
   "cell_type": "code",
   "execution_count": 33,
   "id": "56125e8c-b6d1-40d7-afa3-9e850769d353",
   "metadata": {},
   "outputs": [],
   "source": [
    "# from selenium import webdriver\n",
    "# from selenium.webdriver.chrome.service import Service\n",
    "#path=\"D:/Data_Engineer/selenium/chromedriver.exe\"\n",
    "s= Service(path)\n",
    "driver=webdriver.Chrome(service=s)\n",
    "driver.get(\"https://www.google.com/\") \n",
    " "
   ]
  },
  {
   "cell_type": "code",
   "execution_count": 38,
   "id": "93e1127f-dc64-426f-9ffa-9946e335a29d",
   "metadata": {},
   "outputs": [],
   "source": [
    "from selenium import webdriver\n",
    "from selenium.webdriver.common.keys import Keys\n",
    "from selenium.webdriver.common.by import By\n",
    "import time\n",
    "path=\"D:/Data_Engineer/selenium/chromedriver-win32/chromedriver.exe\"\n",
    "\n",
    "s= Service(path)\n",
    "driver=webdriver.Chrome(service=s)\n",
    "driver.get(\"http://www.python.org\")\n",
    "assert \"Python\" in driver.title\n",
    "elem = driver.find_element(By.NAME, \"q\")\n",
    "elem.clear()\n",
    "elem.send_keys(\"pycon\")\n",
    "elem.send_keys(Keys.RETURN)\n",
    "assert \"No results found.\" not in driver.page_source\n",
    "time.sleep(6)\n",
    "driver.close()"
   ]
  },
  {
   "cell_type": "code",
   "execution_count": 46,
   "id": "3d786b52-6801-4b7c-ad56-ab9d6ba99982",
   "metadata": {},
   "outputs": [],
   "source": [
    "from selenium import webdriver\n",
    "from selenium.webdriver.chrome.service import Service\n",
    "import time\n",
    "from selenium.webdriver.common.keys import Keys\n",
    "from selenium.webdriver.common.by import By\n",
    "path=\"D:/Data_Engineer/selenium/chromedriver-win32/chromedriver.exe\"\n",
    "s= Service(path)\n",
    "driver=webdriver.Chrome(service=s)\n",
    "driver.get(\"https://www.google.com/\")\n",
    "google_search=driver.find_element(By.ID,\"APjFqb\")\n",
    "google_search.send_keys(\"Games Of Thrones\")\n",
    "google_search.send_keys(Keys.RETURN)\n",
    "# driver.find_element(By.NAME,\"btnK\").click()\n",
    "time.sleep(2)"
   ]
  },
  {
   "cell_type": "code",
   "execution_count": null,
   "id": "65880297-7e26-4da0-ab1b-51a21fa91239",
   "metadata": {},
   "outputs": [],
   "source": []
  }
 ],
 "metadata": {
  "kernelspec": {
   "display_name": "Python 3 (ipykernel)",
   "language": "python",
   "name": "python3"
  },
  "language_info": {
   "codemirror_mode": {
    "name": "ipython",
    "version": 3
   },
   "file_extension": ".py",
   "mimetype": "text/x-python",
   "name": "python",
   "nbconvert_exporter": "python",
   "pygments_lexer": "ipython3",
   "version": "3.12.5"
  }
 },
 "nbformat": 4,
 "nbformat_minor": 5
}
