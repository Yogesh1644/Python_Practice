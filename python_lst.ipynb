{
 "cells": [
  {
   "cell_type": "code",
   "execution_count": 2,
   "id": "5ca8456a",
   "metadata": {
    "scrolled": true
   },
   "outputs": [
    {
     "name": "stdout",
     "output_type": "stream",
     "text": [
      "I need an apple\n"
     ]
    }
   ],
   "source": [
    "print(\"I need an {}\".format(\"apple\"))"
   ]
  },
  {
   "cell_type": "code",
   "execution_count": 4,
   "id": "b8429647",
   "metadata": {
    "scrolled": true
   },
   "outputs": [
    {
     "name": "stdout",
     "output_type": "stream",
     "text": [
      "hello guyse meet my brother rahul\n"
     ]
    }
   ],
   "source": [
    "print(\"hello guyse meet my {} {}\".format('brother','rahul'))"
   ]
  },
  {
   "cell_type": "code",
   "execution_count": 7,
   "id": "7951a179",
   "metadata": {},
   "outputs": [],
   "source": [
    "Fname='rahul'\n",
    "Lname='Roy'\n"
   ]
  },
  {
   "cell_type": "code",
   "execution_count": 11,
   "id": "484d6c44",
   "metadata": {},
   "outputs": [
    {
     "name": "stdout",
     "output_type": "stream",
     "text": [
      "hello guyse meet Mr.rahul Roy\n"
     ]
    }
   ],
   "source": [
    "print(f\"hello guyse meet Mr.{Fname} {Lname}\")"
   ]
  },
  {
   "cell_type": "code",
   "execution_count": 15,
   "id": "ed28571d",
   "metadata": {},
   "outputs": [],
   "source": [
    "marks=68.326805"
   ]
  },
  {
   "cell_type": "code",
   "execution_count": 22,
   "id": "bb8d06f2",
   "metadata": {},
   "outputs": [
    {
     "name": "stdout",
     "output_type": "stream",
     "text": [
      "she get 68.33 in her math\n"
     ]
    }
   ],
   "source": [
    "print(f'she get {marks:05.4} in her math')"
   ]
  },
  {
   "cell_type": "code",
   "execution_count": 23,
   "id": "c1af82a7",
   "metadata": {},
   "outputs": [],
   "source": [
    "list=[23,56,87]"
   ]
  },
  {
   "cell_type": "code",
   "execution_count": 24,
   "id": "54a464f3",
   "metadata": {},
   "outputs": [],
   "source": [
    "list2=[23,'shiya',24.99,000]"
   ]
  },
  {
   "cell_type": "code",
   "execution_count": 57,
   "id": "bbac5503",
   "metadata": {},
   "outputs": [],
   "source": [
    "lst1=['one','two','three']\n",
    "lst2=['four','five']"
   ]
  },
  {
   "cell_type": "code",
   "execution_count": 58,
   "id": "d5eb39ae",
   "metadata": {},
   "outputs": [],
   "source": [
    "nlst=lst1+lst2"
   ]
  },
  {
   "cell_type": "code",
   "execution_count": 59,
   "id": "b702e376",
   "metadata": {},
   "outputs": [
    {
     "data": {
      "text/plain": [
       "['one', 'two', 'three', 'four', 'five']"
      ]
     },
     "execution_count": 59,
     "metadata": {},
     "output_type": "execute_result"
    }
   ],
   "source": [
    "\n",
    "nlst"
   ]
  },
  {
   "cell_type": "code",
   "execution_count": 29,
   "id": "c3a3eb8c",
   "metadata": {},
   "outputs": [],
   "source": [
    "lst1[0]='One'"
   ]
  },
  {
   "cell_type": "code",
   "execution_count": 30,
   "id": "5f3cf55b",
   "metadata": {},
   "outputs": [
    {
     "data": {
      "text/plain": [
       "['One', 'two', 'three']"
      ]
     },
     "execution_count": 30,
     "metadata": {},
     "output_type": "execute_result"
    }
   ],
   "source": [
    "lst1"
   ]
  },
  {
   "cell_type": "markdown",
   "id": "eec64b5a",
   "metadata": {},
   "source": [
    "additio in list"
   ]
  },
  {
   "cell_type": "code",
   "execution_count": 60,
   "id": "287eaf87",
   "metadata": {},
   "outputs": [],
   "source": [
    "nlst.append('six')"
   ]
  },
  {
   "cell_type": "code",
   "execution_count": 61,
   "id": "98dcbd71",
   "metadata": {},
   "outputs": [
    {
     "data": {
      "text/plain": [
       "['one', 'two', 'three', 'four', 'five', 'six']"
      ]
     },
     "execution_count": 61,
     "metadata": {},
     "output_type": "execute_result"
    }
   ],
   "source": [
    "nlst"
   ]
  },
  {
   "cell_type": "code",
   "execution_count": null,
   "id": "05d0b11a",
   "metadata": {},
   "outputs": [],
   "source": []
  },
  {
   "cell_type": "markdown",
   "id": "12fd9762",
   "metadata": {},
   "source": [
    "Removal of list"
   ]
  },
  {
   "cell_type": "markdown",
   "id": "5ffc868d",
   "metadata": {},
   "source": [
    "1. removing eliment of an index by using pop() method"
   ]
  },
  {
   "cell_type": "code",
   "execution_count": 62,
   "id": "f6e49c7e",
   "metadata": {},
   "outputs": [
    {
     "data": {
      "text/plain": [
       "['one', 'two', 'three', 'four', 'five', 'six']"
      ]
     },
     "execution_count": 62,
     "metadata": {},
     "output_type": "execute_result"
    }
   ],
   "source": [
    "nlst"
   ]
  },
  {
   "cell_type": "code",
   "execution_count": 63,
   "id": "b29101dd",
   "metadata": {},
   "outputs": [
    {
     "data": {
      "text/plain": [
       "'six'"
      ]
     },
     "execution_count": 63,
     "metadata": {},
     "output_type": "execute_result"
    }
   ],
   "source": [
    "nlst.pop()"
   ]
  },
  {
   "cell_type": "code",
   "execution_count": 64,
   "id": "3e5475b6",
   "metadata": {},
   "outputs": [
    {
     "data": {
      "text/plain": [
       "['one', 'two', 'three', 'four', 'five']"
      ]
     },
     "execution_count": 64,
     "metadata": {},
     "output_type": "execute_result"
    }
   ],
   "source": [
    "nlst"
   ]
  },
  {
   "cell_type": "code",
   "execution_count": 65,
   "id": "7a041f2a",
   "metadata": {},
   "outputs": [],
   "source": [
    "poped_elemenr=nlst.pop()"
   ]
  },
  {
   "cell_type": "code",
   "execution_count": 66,
   "id": "1c545bde",
   "metadata": {},
   "outputs": [
    {
     "data": {
      "text/plain": [
       "'five'"
      ]
     },
     "execution_count": 66,
     "metadata": {},
     "output_type": "execute_result"
    }
   ],
   "source": [
    "poped_elemenr"
   ]
  },
  {
   "cell_type": "code",
   "execution_count": 67,
   "id": "2551aa68",
   "metadata": {},
   "outputs": [
    {
     "data": {
      "text/plain": [
       "['one', 'two', 'three', 'four']"
      ]
     },
     "execution_count": 67,
     "metadata": {},
     "output_type": "execute_result"
    }
   ],
   "source": [
    "nlst"
   ]
  },
  {
   "cell_type": "code",
   "execution_count": 68,
   "id": "7eaf7ae2",
   "metadata": {},
   "outputs": [
    {
     "data": {
      "text/plain": [
       "'two'"
      ]
     },
     "execution_count": 68,
     "metadata": {},
     "output_type": "execute_result"
    }
   ],
   "source": [
    "nlst.pop(1)"
   ]
  },
  {
   "cell_type": "code",
   "execution_count": 73,
   "id": "a18c391e",
   "metadata": {},
   "outputs": [],
   "source": [
    "#sorting of list\n",
    "alist=['r','g','a','l']\n",
    "numlst=[2,6,1,9,0]"
   ]
  },
  {
   "cell_type": "code",
   "execution_count": 74,
   "id": "414737f3",
   "metadata": {},
   "outputs": [],
   "source": [
    "alist.sort()"
   ]
  },
  {
   "cell_type": "code",
   "execution_count": 75,
   "id": "2755fc74",
   "metadata": {},
   "outputs": [
    {
     "data": {
      "text/plain": [
       "['a', 'g', 'l', 'r']"
      ]
     },
     "execution_count": 75,
     "metadata": {},
     "output_type": "execute_result"
    }
   ],
   "source": [
    "alist"
   ]
  },
  {
   "cell_type": "code",
   "execution_count": 76,
   "id": "8684323b",
   "metadata": {},
   "outputs": [
    {
     "data": {
      "text/plain": [
       "[2, 6, 1, 9, 0]"
      ]
     },
     "execution_count": 76,
     "metadata": {},
     "output_type": "execute_result"
    }
   ],
   "source": [
    "numlst"
   ]
  },
  {
   "cell_type": "code",
   "execution_count": 77,
   "id": "01d5ac4f",
   "metadata": {},
   "outputs": [],
   "source": [
    "numlst.sort()"
   ]
  },
  {
   "cell_type": "code",
   "execution_count": 78,
   "id": "28b2bdfe",
   "metadata": {},
   "outputs": [
    {
     "data": {
      "text/plain": [
       "[0, 1, 2, 6, 9]"
      ]
     },
     "execution_count": 78,
     "metadata": {},
     "output_type": "execute_result"
    }
   ],
   "source": [
    "numlst"
   ]
  },
  {
   "cell_type": "code",
   "execution_count": 83,
   "id": "bdc1cb6b",
   "metadata": {},
   "outputs": [],
   "source": [
    "#reverse of lst\n",
    "numlst.reverse()"
   ]
  },
  {
   "cell_type": "code",
   "execution_count": 84,
   "id": "a628684e",
   "metadata": {},
   "outputs": [
    {
     "data": {
      "text/plain": [
       "[9, 6, 2, 1, 0]"
      ]
     },
     "execution_count": 84,
     "metadata": {},
     "output_type": "execute_result"
    }
   ],
   "source": [
    "numlst"
   ]
  },
  {
   "cell_type": "code",
   "execution_count": null,
   "id": "67452b36",
   "metadata": {},
   "outputs": [],
   "source": []
  }
 ],
 "metadata": {
  "kernelspec": {
   "display_name": "Python 3 (ipykernel)",
   "language": "python",
   "name": "python3"
  },
  "language_info": {
   "codemirror_mode": {
    "name": "ipython",
    "version": 3
   },
   "file_extension": ".py",
   "mimetype": "text/x-python",
   "name": "python",
   "nbconvert_exporter": "python",
   "pygments_lexer": "ipython3",
   "version": "3.10.7"
  }
 },
 "nbformat": 4,
 "nbformat_minor": 5
}
