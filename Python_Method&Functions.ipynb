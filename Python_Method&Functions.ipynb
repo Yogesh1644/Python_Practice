{
 "cells": [
  {
   "cell_type": "code",
   "execution_count": 1,
   "id": "9836b430-81e2-425d-ac86-408233716a3e",
   "metadata": {},
   "outputs": [],
   "source": [
    "lst=[1,2,3]"
   ]
  },
  {
   "cell_type": "code",
   "execution_count": 2,
   "id": "7b02dfc4-4345-4cfd-8bef-c052991c813e",
   "metadata": {},
   "outputs": [],
   "source": [
    "lst.append(4)"
   ]
  },
  {
   "cell_type": "code",
   "execution_count": 3,
   "id": "3dc9436d-ac26-4d0c-86d8-643afe3a0cf9",
   "metadata": {},
   "outputs": [
    {
     "data": {
      "text/plain": [
       "[1, 2, 3, 4]"
      ]
     },
     "execution_count": 3,
     "metadata": {},
     "output_type": "execute_result"
    }
   ],
   "source": [
    "lst"
   ]
  },
  {
   "cell_type": "code",
   "execution_count": 4,
   "id": "2d3f4914-14a7-4651-a96b-83c3283200fb",
   "metadata": {},
   "outputs": [
    {
     "data": {
      "text/plain": [
       "4"
      ]
     },
     "execution_count": 4,
     "metadata": {},
     "output_type": "execute_result"
    }
   ],
   "source": [
    "lst.pop()"
   ]
  },
  {
   "cell_type": "code",
   "execution_count": 5,
   "id": "7ca73e38-c004-458a-9e8e-b36adde44857",
   "metadata": {},
   "outputs": [
    {
     "data": {
      "text/plain": [
       "[1, 2, 3]"
      ]
     },
     "execution_count": 5,
     "metadata": {},
     "output_type": "execute_result"
    }
   ],
   "source": [
    "lst"
   ]
  },
  {
   "cell_type": "code",
   "execution_count": null,
   "id": "04c613a6-c9cf-4178-8d7a-eb144ced1f25",
   "metadata": {},
   "outputs": [],
   "source": [
    "# here append and pop are methods. to explore more method ener: lst.{tab}"
   ]
  },
  {
   "cell_type": "code",
   "execution_count": 9,
   "id": "597e22b2-d55d-40a7-8f48-47e27cb010b8",
   "metadata": {},
   "outputs": [],
   "source": [
    "lst.insert(2,12)"
   ]
  },
  {
   "cell_type": "code",
   "execution_count": 14,
   "id": "77164083-3e62-4935-b0d0-af5dbaf06e45",
   "metadata": {},
   "outputs": [
    {
     "name": "stdout",
     "output_type": "stream",
     "text": [
      "Help on built-in function insert:\n",
      "\n",
      "insert(index, object, /) method of builtins.list instance\n",
      "    Insert object before index.\n",
      "\n"
     ]
    }
   ],
   "source": [
    "help(lst.insert)"
   ]
  },
  {
   "cell_type": "code",
   "execution_count": 12,
   "id": "ae7f7a20-1816-4184-9e8e-ab2c522bbe12",
   "metadata": {},
   "outputs": [
    {
     "data": {
      "text/plain": [
       "[1, 2, 12, 3]"
      ]
     },
     "execution_count": 12,
     "metadata": {},
     "output_type": "execute_result"
    }
   ],
   "source": [
    "lst"
   ]
  },
  {
   "cell_type": "code",
   "execution_count": 13,
   "id": "4effdfbf-a27c-4f20-9a6f-68675c237a16",
   "metadata": {},
   "outputs": [],
   "source": [
    "# to explore more about python : https://docs.python.org/3/"
   ]
  },
  {
   "cell_type": "markdown",
   "id": "2df5691e-3c59-4e21-a291-8dcad211247e",
   "metadata": {},
   "source": [
    "# Function"
   ]
  },
  {
   "cell_type": "code",
   "execution_count": 1,
   "id": "9d67eb98-d674-4c51-97ce-d6b1af4daaeb",
   "metadata": {},
   "outputs": [],
   "source": [
    "# defining a fxn\n",
    "def say_hello():\n",
    "    print('hello')"
   ]
  },
  {
   "cell_type": "code",
   "execution_count": 2,
   "id": "98e04a0e-6209-4559-9433-8866c58b3851",
   "metadata": {},
   "outputs": [
    {
     "name": "stdout",
     "output_type": "stream",
     "text": [
      "hello\n"
     ]
    }
   ],
   "source": [
    "#calling a fxn\n",
    "say_hello()"
   ]
  },
  {
   "cell_type": "code",
   "execution_count": 4,
   "id": "b5a216a8-a4d3-442e-91e1-a98a4fa4a354",
   "metadata": {},
   "outputs": [
    {
     "name": "stdout",
     "output_type": "stream",
     "text": [
      "hello sonu\n"
     ]
    }
   ],
   "source": [
    "#fxn with argument\n",
    "def greet(name):\n",
    "    print(f'hello {name}')\n",
    "greet('sonu')"
   ]
  },
  {
   "cell_type": "code",
   "execution_count": 5,
   "id": "00a8c86b-ceb3-4fff-82a8-4bab02d4321f",
   "metadata": {},
   "outputs": [
    {
     "ename": "TypeError",
     "evalue": "greet() missing 1 required positional argument: 'name'",
     "output_type": "error",
     "traceback": [
      "\u001b[1;31m---------------------------------------------------------------------------\u001b[0m",
      "\u001b[1;31mTypeError\u001b[0m                                 Traceback (most recent call last)",
      "Cell \u001b[1;32mIn[5], line 1\u001b[0m\n\u001b[1;32m----> 1\u001b[0m \u001b[43mgreet\u001b[49m\u001b[43m(\u001b[49m\u001b[43m)\u001b[49m\n",
      "\u001b[1;31mTypeError\u001b[0m: greet() missing 1 required positional argument: 'name'"
     ]
    }
   ],
   "source": [
    "greet()"
   ]
  },
  {
   "cell_type": "code",
   "execution_count": 6,
   "id": "6d9625f8-83ce-46b3-99e7-e51a259c2272",
   "metadata": {},
   "outputs": [
    {
     "name": "stdout",
     "output_type": "stream",
     "text": [
      "hello sonu\n"
     ]
    }
   ],
   "source": [
    "#fnx with default value:\n",
    "def greet(name='NoOne'):\n",
    "    print(f'hello {name}')\n",
    "greet('sonu')"
   ]
  },
  {
   "cell_type": "code",
   "execution_count": 7,
   "id": "92c13628-c67f-4123-b5d6-cc5bfc56f3e5",
   "metadata": {},
   "outputs": [
    {
     "name": "stdout",
     "output_type": "stream",
     "text": [
      "hello NoOne\n"
     ]
    }
   ],
   "source": [
    "greet()"
   ]
  },
  {
   "cell_type": "code",
   "execution_count": 8,
   "id": "003b89ea-ebfd-431e-b0a6-01221f14a844",
   "metadata": {},
   "outputs": [],
   "source": [
    "#function with return"
   ]
  },
  {
   "cell_type": "code",
   "execution_count": 12,
   "id": "8ec3a1e4-80fd-4e2e-a1bf-a377ab98bef5",
   "metadata": {},
   "outputs": [
    {
     "data": {
      "text/plain": [
       "16"
      ]
     },
     "execution_count": 12,
     "metadata": {},
     "output_type": "execute_result"
    }
   ],
   "source": [
    "def add_num(num1,num2):\n",
    "    return num1+num2\n",
    "add_num(7,9)"
   ]
  },
  {
   "cell_type": "code",
   "execution_count": 13,
   "id": "f9dc4d9c-1239-4688-b1fb-4bdacf94b759",
   "metadata": {},
   "outputs": [
    {
     "data": {
      "text/plain": [
       "8"
      ]
     },
     "execution_count": 13,
     "metadata": {},
     "output_type": "execute_result"
    }
   ],
   "source": [
    "# return allow you to save the result in a variable\n",
    "sum=add_num(3,5)\n",
    "sum"
   ]
  },
  {
   "cell_type": "code",
   "execution_count": 14,
   "id": "b3732532-5e14-406d-a7b7-057e30aa847f",
   "metadata": {},
   "outputs": [
    {
     "data": {
      "text/plain": [
       "'1234'"
      ]
     },
     "execution_count": 14,
     "metadata": {},
     "output_type": "execute_result"
    }
   ],
   "source": [
    "add_num('12','34') # issue of dtype"
   ]
  },
  {
   "cell_type": "code",
   "execution_count": 15,
   "id": "e9f79174-469d-41ee-bd80-8e8826598114",
   "metadata": {},
   "outputs": [],
   "source": [
    "# we can also use both print and return togather\n",
    "def print_add(num1,num2):\n",
    "    print(num1+num2)\n",
    "    return num1+num2"
   ]
  },
  {
   "cell_type": "code",
   "execution_count": 16,
   "id": "a1f71be9-bd4f-4f77-92d2-12257d252d6d",
   "metadata": {},
   "outputs": [
    {
     "name": "stdout",
     "output_type": "stream",
     "text": [
      "8\n"
     ]
    },
    {
     "data": {
      "text/plain": [
       "8"
      ]
     },
     "execution_count": 16,
     "metadata": {},
     "output_type": "execute_result"
    }
   ],
   "source": [
    "print_add(3,5)"
   ]
  },
  {
   "cell_type": "code",
   "execution_count": 17,
   "id": "792c4c48-a484-4d70-99f3-e02c66ac48df",
   "metadata": {},
   "outputs": [
    {
     "name": "stdout",
     "output_type": "stream",
     "text": [
      "11\n"
     ]
    }
   ],
   "source": [
    "result=print_add(8,3)"
   ]
  },
  {
   "cell_type": "code",
   "execution_count": 18,
   "id": "558f8f41-f218-4ce2-b386-2eb0dea3048f",
   "metadata": {},
   "outputs": [
    {
     "data": {
      "text/plain": [
       "11"
      ]
     },
     "execution_count": 18,
     "metadata": {},
     "output_type": "execute_result"
    }
   ],
   "source": [
    "result"
   ]
  },
  {
   "cell_type": "code",
   "execution_count": 1,
   "id": "4a399d11-7102-4b49-8e61-9ec350b85b81",
   "metadata": {},
   "outputs": [
    {
     "data": {
      "text/plain": [
       "False"
      ]
     },
     "execution_count": 1,
     "metadata": {},
     "output_type": "execute_result"
    }
   ],
   "source": [
    "def even_check(num):\n",
    "    return num%2==0\n",
    "even_check(33)"
   ]
  },
  {
   "cell_type": "code",
   "execution_count": 2,
   "id": "ad03e98a-58ff-4b94-a989-952bad8c9b7e",
   "metadata": {},
   "outputs": [
    {
     "data": {
      "text/plain": [
       "True"
      ]
     },
     "execution_count": 2,
     "metadata": {},
     "output_type": "execute_result"
    }
   ],
   "source": [
    "even_check(90)"
   ]
  },
  {
   "cell_type": "code",
   "execution_count": 3,
   "id": "4965b940-f462-44ba-93fa-107c8e54116c",
   "metadata": {},
   "outputs": [],
   "source": [
    "#return true if any number in lst is even"
   ]
  },
  {
   "cell_type": "code",
   "execution_count": 5,
   "id": "b879325e-d1d3-4bdf-a463-fbc50cd39f7b",
   "metadata": {},
   "outputs": [],
   "source": [
    "def even_check_lst(num_lst):\n",
    "    for num in num_lst:\n",
    "        if num%2==0:\n",
    "            return True\n",
    "        else:\n",
    "            pass"
   ]
  },
  {
   "cell_type": "code",
   "execution_count": 6,
   "id": "7782726e-becc-43be-8620-ab2b92762c34",
   "metadata": {},
   "outputs": [],
   "source": [
    "even_check_lst([23,45,71])"
   ]
  },
  {
   "cell_type": "code",
   "execution_count": 7,
   "id": "2c1d2b2a-416f-4690-b107-abb8978822b1",
   "metadata": {},
   "outputs": [
    {
     "data": {
      "text/plain": [
       "True"
      ]
     },
     "execution_count": 7,
     "metadata": {},
     "output_type": "execute_result"
    }
   ],
   "source": [
    "even_check_lst([12,11,23])"
   ]
  },
  {
   "cell_type": "code",
   "execution_count": 8,
   "id": "fbd25c86-ab00-455d-9bfb-83d4c195ccb5",
   "metadata": {},
   "outputs": [
    {
     "data": {
      "text/plain": [
       "True"
      ]
     },
     "execution_count": 8,
     "metadata": {},
     "output_type": "execute_result"
    }
   ],
   "source": [
    "even_check_lst([1,1,1,2])\n"
   ]
  },
  {
   "cell_type": "code",
   "execution_count": 9,
   "id": "894ef245-2d24-4b0c-a99e-c7bbbac9d9c9",
   "metadata": {},
   "outputs": [],
   "source": [
    "# for even true and odd false\n",
    "def even_check_lst(num_lst):\n",
    "    for num in num_lst:\n",
    "        if num%2==0:\n",
    "            return True\n",
    "        else:\n",
    "            return False #Wrong!!"
   ]
  },
  {
   "cell_type": "code",
   "execution_count": 11,
   "id": "9551f89d-1e59-4342-a3e6-a3252b288c3d",
   "metadata": {},
   "outputs": [
    {
     "data": {
      "text/plain": [
       "False"
      ]
     },
     "execution_count": 11,
     "metadata": {},
     "output_type": "execute_result"
    }
   ],
   "source": [
    "even_check_lst([1,1,1,2]) # above fxn is checking only first element"
   ]
  },
  {
   "cell_type": "code",
   "execution_count": 1,
   "id": "1cb86208-e7f3-4124-9d56-52f009aabdd2",
   "metadata": {},
   "outputs": [],
   "source": [
    "# for even true and odd false\n",
    "def even_check_lst(num_lst):\n",
    "    for num in num_lst:\n",
    "        if num%2==0:\n",
    "            return True\n",
    "        else:\n",
    "            pass\n",
    "    return False # now first it will check in entier list for even if even will not there then after renning entier loop it will return false"
   ]
  },
  {
   "cell_type": "code",
   "execution_count": 13,
   "id": "ea4b464a-397d-4432-b79d-c47568b96e8f",
   "metadata": {},
   "outputs": [
    {
     "data": {
      "text/plain": [
       "True"
      ]
     },
     "execution_count": 13,
     "metadata": {},
     "output_type": "execute_result"
    }
   ],
   "source": [
    "even_check_lst([12,11,23])"
   ]
  },
  {
   "cell_type": "code",
   "execution_count": 14,
   "id": "1fa32c75-197a-488e-a2c2-5fa9cf78b929",
   "metadata": {},
   "outputs": [
    {
     "data": {
      "text/plain": [
       "False"
      ]
     },
     "execution_count": 14,
     "metadata": {},
     "output_type": "execute_result"
    }
   ],
   "source": [
    "even_check_lst([23,45,71])"
   ]
  },
  {
   "cell_type": "code",
   "execution_count": 15,
   "id": "11954b04-54f6-480c-acc0-d3e608005722",
   "metadata": {},
   "outputs": [
    {
     "data": {
      "text/plain": [
       "True"
      ]
     },
     "execution_count": 15,
     "metadata": {},
     "output_type": "execute_result"
    }
   ],
   "source": [
    "even_check_lst([1,1,1,2])"
   ]
  },
  {
   "cell_type": "code",
   "execution_count": 16,
   "id": "f8343369-160d-4df3-874a-9178da1b2df2",
   "metadata": {},
   "outputs": [],
   "source": [
    "# print all even number of a list"
   ]
  },
  {
   "cell_type": "code",
   "execution_count": 17,
   "id": "1ae62aa0-65c3-4de6-ba5b-13d68e7ec972",
   "metadata": {},
   "outputs": [],
   "source": [
    "def even_num_list(num_lst):\n",
    "    even_lst=[]\n",
    "    for num in num_lst:\n",
    "        if num%2==0:\n",
    "            even_lst.append(num)\n",
    "        else:\n",
    "            pass\n",
    "    return even_lst"
   ]
  },
  {
   "cell_type": "code",
   "execution_count": 19,
   "id": "5394adb2-a727-4c74-93cc-8175d1e850c3",
   "metadata": {},
   "outputs": [
    {
     "data": {
      "text/plain": [
       "[12, 34, 56]"
      ]
     },
     "execution_count": 19,
     "metadata": {},
     "output_type": "execute_result"
    }
   ],
   "source": [
    "even_num_list([12,23,34,45,56])"
   ]
  },
  {
   "cell_type": "code",
   "execution_count": 20,
   "id": "e7179436-4b6e-4bdd-975f-a022b553f2ca",
   "metadata": {},
   "outputs": [
    {
     "data": {
      "text/plain": [
       "[2, 4, 6]"
      ]
     },
     "execution_count": 20,
     "metadata": {},
     "output_type": "execute_result"
    }
   ],
   "source": [
    "even_num_list([2,3,4,5,6,7])"
   ]
  },
  {
   "cell_type": "code",
   "execution_count": 21,
   "id": "8c10aaf5-2950-4c3f-8a67-56a19373c49f",
   "metadata": {},
   "outputs": [],
   "source": [
    "# tupple unpacking with fxn"
   ]
  },
  {
   "cell_type": "code",
   "execution_count": 24,
   "id": "40a0fbb7-e3a6-4ac8-a206-c405a7e23055",
   "metadata": {},
   "outputs": [],
   "source": [
    "crick_score=[('Dhoni',10000),('Saurav',11000),('Kohli',12000),('Ponting',13000)]"
   ]
  },
  {
   "cell_type": "code",
   "execution_count": 26,
   "id": "c9c001d0-2aee-42a0-b465-1a971d077fe1",
   "metadata": {},
   "outputs": [
    {
     "name": "stdout",
     "output_type": "stream",
     "text": [
      "Dhoni\n",
      "10000\n",
      "Saurav\n",
      "11000\n",
      "Kohli\n",
      "12000\n",
      "Ponting\n",
      "13000\n"
     ]
    }
   ],
   "source": [
    "for player,run in crick_score:\n",
    "    print(player)\n",
    "    print(run)"
   ]
  },
  {
   "cell_type": "code",
   "execution_count": 27,
   "id": "2b46aeb7-8978-411f-8151-15291cf8a54c",
   "metadata": {},
   "outputs": [
    {
     "name": "stdout",
     "output_type": "stream",
     "text": [
      "('Dhoni', 10000)\n",
      "('Saurav', 11000)\n",
      "('Kohli', 12000)\n",
      "('Ponting', 13000)\n"
     ]
    }
   ],
   "source": [
    "for item in crick_score:\n",
    "    print(item)"
   ]
  },
  {
   "cell_type": "code",
   "execution_count": 32,
   "id": "1096cfb9-cb15-4513-9007-d18dc49d2538",
   "metadata": {},
   "outputs": [],
   "source": [
    "def cricket(crick_score):\n",
    "    score=0\n",
    "    top_scorer=''\n",
    "    for player,run in crick_score:\n",
    "        if run>score:\n",
    "            score=run\n",
    "            top_scorer=player\n",
    "        else:\n",
    "            pass\n",
    "    return (top_scorer,score)"
   ]
  },
  {
   "cell_type": "code",
   "execution_count": 33,
   "id": "aeee3d89-ac9a-4fcd-9dbc-e03718d2159e",
   "metadata": {},
   "outputs": [
    {
     "data": {
      "text/plain": [
       "('Ponting', 13000)"
      ]
     },
     "execution_count": 33,
     "metadata": {},
     "output_type": "execute_result"
    }
   ],
   "source": [
    "cricket(crick_score)"
   ]
  },
  {
   "cell_type": "code",
   "execution_count": 34,
   "id": "e03d4333-20f0-4522-bd29-7e057a8b699b",
   "metadata": {},
   "outputs": [],
   "source": [
    "crick_score=[('Dhoni',10000),('Saurav',11000),('Sachin',18000),('Kohli',12000),('Ponting',13000)]"
   ]
  },
  {
   "cell_type": "code",
   "execution_count": 35,
   "id": "2e1552ad-2b97-42d7-8728-a27031c753de",
   "metadata": {},
   "outputs": [
    {
     "data": {
      "text/plain": [
       "('Sachin', 18000)"
      ]
     },
     "execution_count": 35,
     "metadata": {},
     "output_type": "execute_result"
    }
   ],
   "source": [
    "cricket(crick_score)"
   ]
  },
  {
   "cell_type": "code",
   "execution_count": 5,
   "id": "bde1e38b-7d1c-44c5-a7ff-53496797914c",
   "metadata": {},
   "outputs": [],
   "source": [
    "from random import shuffle"
   ]
  },
  {
   "cell_type": "code",
   "execution_count": 3,
   "id": "9691d402-b28e-4c9b-b121-2f770a134f39",
   "metadata": {},
   "outputs": [],
   "source": [
    "lst=[2,3,5,6]"
   ]
  },
  {
   "cell_type": "code",
   "execution_count": 5,
   "id": "84bc5e07-1ac2-4d98-89c0-c9da2096f6b6",
   "metadata": {},
   "outputs": [],
   "source": [
    "shuffle(lst)"
   ]
  },
  {
   "cell_type": "code",
   "execution_count": 6,
   "id": "64e7fe28-dcc1-4d40-912d-9a759096d81c",
   "metadata": {},
   "outputs": [
    {
     "data": {
      "text/plain": [
       "[5, 2, 6, 3]"
      ]
     },
     "execution_count": 6,
     "metadata": {},
     "output_type": "execute_result"
    }
   ],
   "source": [
    "lst"
   ]
  },
  {
   "cell_type": "code",
   "execution_count": 7,
   "id": "06544499-774e-488e-bbbe-7cdd6cdeb456",
   "metadata": {},
   "outputs": [],
   "source": [
    "result=shuffle(lst)"
   ]
  },
  {
   "cell_type": "code",
   "execution_count": 9,
   "id": "ec00ab21-dd50-4bdb-8546-cf30d0e0c748",
   "metadata": {},
   "outputs": [],
   "source": [
    "result# we cant save shufflr lst in variable for that we have to create a fxn"
   ]
  },
  {
   "cell_type": "markdown",
   "id": "e14d80a0-4ef6-4cb6-a3f7-d08f482f9888",
   "metadata": {},
   "source": [
    "# Creating a ball pick game"
   ]
  },
  {
   "cell_type": "code",
   "execution_count": 6,
   "id": "bcfeaeaa-3d59-468f-9e76-97211fbb5260",
   "metadata": {},
   "outputs": [],
   "source": [
    "mlst=[' ','0',' ']\n",
    "def shuffel_lst(mlst):\n",
    "    shuffle(mlst)\n",
    "    return mlst"
   ]
  },
  {
   "cell_type": "code",
   "execution_count": 7,
   "id": "7816f0f8-aa59-474b-b479-3d90378b857a",
   "metadata": {},
   "outputs": [
    {
     "data": {
      "text/plain": [
       "['0', ' ', ' ']"
      ]
     },
     "execution_count": 7,
     "metadata": {},
     "output_type": "execute_result"
    }
   ],
   "source": [
    "shuffel_lst(mlst)"
   ]
  },
  {
   "cell_type": "code",
   "execution_count": 8,
   "id": "eb705e36-bd19-4618-b5a1-15278d40b51b",
   "metadata": {},
   "outputs": [],
   "source": [
    "def player_guss():\n",
    "    guss=''\n",
    "    while guss not in ['0','1','2']:\n",
    "        guss=input('guess the number 0,1 or 2 only: ')\n",
    "    return int(guss)"
   ]
  },
  {
   "cell_type": "code",
   "execution_count": 9,
   "id": "abbe5348-1e64-4103-864f-7886c9200571",
   "metadata": {},
   "outputs": [
    {
     "name": "stdin",
     "output_type": "stream",
     "text": [
      "guess the number 0,1 or 2 only:  5\n",
      "guess the number 0,1 or 2 only:  2\n"
     ]
    },
    {
     "data": {
      "text/plain": [
       "2"
      ]
     },
     "execution_count": 9,
     "metadata": {},
     "output_type": "execute_result"
    }
   ],
   "source": [
    "player_guss()"
   ]
  },
  {
   "cell_type": "code",
   "execution_count": 11,
   "id": "7d115024-57b4-4c69-9841-272d0b89a017",
   "metadata": {},
   "outputs": [],
   "source": [
    "def check_guss(mlst,guss):\n",
    "    if mlst[guss]=='0':\n",
    "        print('Correct')\n",
    "    else:\n",
    "        print('Wrong!! Better Luck Next Time!!')\n",
    "        print(mlst)"
   ]
  },
  {
   "cell_type": "code",
   "execution_count": 13,
   "id": "3c8a971a-907e-4e4c-98ac-0097fdeb3ca3",
   "metadata": {},
   "outputs": [
    {
     "name": "stdin",
     "output_type": "stream",
     "text": [
      "guess the number 0,1 or 2 only:  1\n"
     ]
    },
    {
     "name": "stdout",
     "output_type": "stream",
     "text": [
      "Wrong!! Better Luck Next Time!!\n",
      "[' ', ' ', '0']\n"
     ]
    }
   ],
   "source": [
    "#Script for the ball check game\n",
    "#INITIAL LIST\n",
    "mlst=[' ',' ','0']\n",
    "#shuffle list\n",
    "ShuffelList=shuffel_lst(mlst)\n",
    "# guess of player\n",
    "guss=player_guss()\n",
    "\n",
    "#check the gues\n",
    "check_guss(ShuffelList,guss)"
   ]
  },
  {
   "cell_type": "code",
   "execution_count": 42,
   "id": "4bc75f1c-e5c2-4d0d-85bf-14e9a906d5f8",
   "metadata": {},
   "outputs": [
    {
     "name": "stdout",
     "output_type": "stream",
     "text": [
      "Hello Ram\n"
     ]
    }
   ],
   "source": [
    "def myfunc(name):\n",
    "    print(f'Hello {name}')\n",
    "myfunc('Ram')"
   ]
  },
  {
   "cell_type": "markdown",
   "id": "09f70404-04f3-423b-8f21-b11a624e97e0",
   "metadata": {},
   "source": [
    "# *args and **kwarg "
   ]
  },
  {
   "cell_type": "code",
   "execution_count": 3,
   "id": "fd25a9c2-78b3-43a1-9a34-3962cf22f15d",
   "metadata": {},
   "outputs": [],
   "source": [
    "def sum_num(a,b):\n",
    "    #return 5% of sum of numbers\n",
    "    return sum((a,b))*0.05\n"
   ]
  },
  {
   "cell_type": "code",
   "execution_count": 4,
   "id": "69d46294-56a9-4186-980a-b20b7ed750fc",
   "metadata": {},
   "outputs": [
    {
     "data": {
      "text/plain": [
       "5.0"
      ]
     },
     "execution_count": 4,
     "metadata": {},
     "output_type": "execute_result"
    }
   ],
   "source": [
    "sum_num(60,40)"
   ]
  },
  {
   "cell_type": "code",
   "execution_count": 5,
   "id": "9f213745-7718-44c5-8cab-bb108d43b05d",
   "metadata": {},
   "outputs": [],
   "source": [
    "#for more m=numbers we have to pass more argument\n",
    "def sum_num(a,b,c=0,d=0):\n",
    "    #return 5% of sum of numbers\n",
    "    return sum((a,b))*0.05"
   ]
  },
  {
   "cell_type": "code",
   "execution_count": 6,
   "id": "9295c5ad-6122-4a56-a682-1cf10fd7bb3d",
   "metadata": {},
   "outputs": [
    {
     "data": {
      "text/plain": [
       "3.35"
      ]
     },
     "execution_count": 6,
     "metadata": {},
     "output_type": "execute_result"
    }
   ],
   "source": [
    "sum_num(12,55)"
   ]
  },
  {
   "cell_type": "code",
   "execution_count": 7,
   "id": "64e1be8d-4fb0-4d3e-8eee-bdcfd9be32be",
   "metadata": {},
   "outputs": [
    {
     "data": {
      "text/plain": [
       "4.5"
      ]
     },
     "execution_count": 7,
     "metadata": {},
     "output_type": "execute_result"
    }
   ],
   "source": [
    "sum_num(34,56,78,90)"
   ]
  },
  {
   "cell_type": "code",
   "execution_count": 9,
   "id": "c2ad12ac-6df7-4be0-9a2e-062af71ca7c3",
   "metadata": {},
   "outputs": [
    {
     "ename": "TypeError",
     "evalue": "sum_num() takes from 2 to 4 positional arguments but 5 were given",
     "output_type": "error",
     "traceback": [
      "\u001b[1;31m---------------------------------------------------------------------------\u001b[0m",
      "\u001b[1;31mTypeError\u001b[0m                                 Traceback (most recent call last)",
      "Cell \u001b[1;32mIn[9], line 1\u001b[0m\n\u001b[1;32m----> 1\u001b[0m \u001b[43msum_num\u001b[49m\u001b[43m(\u001b[49m\u001b[38;5;241;43m34\u001b[39;49m\u001b[43m,\u001b[49m\u001b[38;5;241;43m56\u001b[39;49m\u001b[43m,\u001b[49m\u001b[38;5;241;43m78\u001b[39;49m\u001b[43m,\u001b[49m\u001b[38;5;241;43m90\u001b[39;49m\u001b[43m,\u001b[49m\u001b[38;5;241;43m33\u001b[39;49m\u001b[43m)\u001b[49m \u001b[38;5;66;03m# if we pass more than argument\u001b[39;00m\n",
      "\u001b[1;31mTypeError\u001b[0m: sum_num() takes from 2 to 4 positional arguments but 5 were given"
     ]
    }
   ],
   "source": [
    "sum_num(34,56,78,90,33) # if we pass more than argument"
   ]
  },
  {
   "cell_type": "code",
   "execution_count": 40,
   "id": "82798715-97da-4e9a-a484-a76d4c985685",
   "metadata": {},
   "outputs": [],
   "source": [
    "# *args: rsturns a tuple\n",
    "def myfxn(*args):\n",
    "    print(args) # will return a tuples\n",
    "    return sum(args) *0.05"
   ]
  },
  {
   "cell_type": "code",
   "execution_count": 38,
   "id": "2c004c7f-9cf2-4172-b5f2-15fe1af6f4f6",
   "metadata": {},
   "outputs": [
    {
     "name": "stdout",
     "output_type": "stream",
     "text": [
      "(45, 55)\n"
     ]
    },
    {
     "data": {
      "text/plain": [
       "5.0"
      ]
     },
     "execution_count": 38,
     "metadata": {},
     "output_type": "execute_result"
    }
   ],
   "source": [
    "myfxn(45,55)"
   ]
  },
  {
   "cell_type": "code",
   "execution_count": 39,
   "id": "99ec6cf4-9d67-487b-b4c7-eb7fb5e125cb",
   "metadata": {},
   "outputs": [
    {
     "name": "stdout",
     "output_type": "stream",
     "text": [
      "(45, 55, 24, 56, 78)\n"
     ]
    },
    {
     "data": {
      "text/plain": [
       "12.9"
      ]
     },
     "execution_count": 39,
     "metadata": {},
     "output_type": "execute_result"
    }
   ],
   "source": [
    "myfxn(45,55,24,56,78)"
   ]
  },
  {
   "cell_type": "code",
   "execution_count": 32,
   "id": "86cbd44a-696c-4329-8244-3aebc2725905",
   "metadata": {},
   "outputs": [],
   "source": [
    "def myfxn(*args):\n",
    "    for num in args:\n",
    "        print(num)\n",
    "    return sum(args) *0.05"
   ]
  },
  {
   "cell_type": "code",
   "execution_count": 33,
   "id": "97109ea3-4fb1-4d03-bbe3-7d74d1b4070f",
   "metadata": {},
   "outputs": [
    {
     "name": "stdout",
     "output_type": "stream",
     "text": [
      "45\n",
      "55\n",
      "24\n",
      "56\n",
      "78\n"
     ]
    },
    {
     "data": {
      "text/plain": [
       "12.9"
      ]
     },
     "execution_count": 33,
     "metadata": {},
     "output_type": "execute_result"
    }
   ],
   "source": [
    "myfxn(45,55,24,56,78)"
   ]
  },
  {
   "cell_type": "markdown",
   "id": "7a9a19d6-e2d4-48cb-bb4c-622d7c3421f7",
   "metadata": {},
   "source": [
    "# **kwargs: return a dictonary"
   ]
  },
  {
   "cell_type": "code",
   "execution_count": 49,
   "id": "d6405ed1-76f2-4ec8-8de0-fe6e41432143",
   "metadata": {},
   "outputs": [],
   "source": [
    "def myfxn(**kwargs):\n",
    "    print(kwargs) # will return a dict\n",
    "    if 'city' in kwargs:\n",
    "        print(f\"I want to go {kwargs['city']}\")\n",
    "    else:\n",
    "        print('I dont find any city')"
   ]
  },
  {
   "cell_type": "code",
   "execution_count": 50,
   "id": "ea80501a-49a3-4a05-9863-5d81a0773c8a",
   "metadata": {},
   "outputs": [
    {
     "name": "stdout",
     "output_type": "stream",
     "text": [
      "{'city': 'Patna', 'cm': 'Nitish'}\n",
      "I want to go Patna\n"
     ]
    }
   ],
   "source": [
    "myfxn(city='Patna',cm='Nitish')"
   ]
  },
  {
   "cell_type": "code",
   "execution_count": null,
   "id": "060f711b-0ca2-416e-8f5e-d0d6eac393bf",
   "metadata": {},
   "outputs": [],
   "source": []
  },
  {
   "cell_type": "code",
   "execution_count": 52,
   "id": "071e5ec6-0c1d-4b13-bc43-437bd2b9fe91",
   "metadata": {},
   "outputs": [],
   "source": [
    "def myfxn(*args,**kwargs):\n",
    "    print(args)\n",
    "    print(kwargs)\n",
    "    print('I would eat {} {}'.format(args[1],kwargs['food']))\n",
    "    "
   ]
  },
  {
   "cell_type": "code",
   "execution_count": 53,
   "id": "36e35c76-6676-4f33-8b2f-b8f71c1a8721",
   "metadata": {},
   "outputs": [
    {
     "name": "stdout",
     "output_type": "stream",
     "text": [
      "(1, 10, 20, 50, 100)\n",
      "{'city': 'Patna', 'food': 'roti', 'movie': 'piku'}\n",
      "I would eat 10 roti\n"
     ]
    }
   ],
   "source": [
    "myfxn(1,10,20,50,100,city='Patna',food='roti',movie='piku')"
   ]
  },
  {
   "cell_type": "code",
   "execution_count": 4,
   "id": "465eba1f-d8ab-4fc8-8366-ff0b8bdbb34b",
   "metadata": {},
   "outputs": [],
   "source": [
    "def fxn(*args,**kwargs):\n",
    "    print(f\"I am going to {kwargs['city']} for {args[2]} days'\")"
   ]
  },
  {
   "cell_type": "code",
   "execution_count": 5,
   "id": "5d3c08dc-dbbe-419c-bb43-7e87d6e5a7fb",
   "metadata": {},
   "outputs": [
    {
     "name": "stdout",
     "output_type": "stream",
     "text": [
      "I am going to Delhi for 3 days'\n"
     ]
    }
   ],
   "source": [
    "fxn(1,2,3,food='roti',city='Delhi')"
   ]
  },
  {
   "cell_type": "markdown",
   "id": "e7cfd470-4f72-4f96-b37b-a56a169d9896",
   "metadata": {},
   "source": [
    "#Q Define a function called myfunc that takes in a string, and returns a matching string where every even letter is uppercase, and every odd letter is lowercase. Assume that the incoming string only contains letters, and don't worry about numbers, spaces or punctuation. The output string can start with either an uppercase or lowercase letter, so long as letters alternate throughout the string.\n",
    "\n",
    "Remember, don't run the function, simply provide the definition.\n",
    "\n",
    "To give an idea what the function would look like when tested:\n",
    "\n",
    "myfunc('Anthropomorphism')\n",
    "# Output: 'aNtHrOpOmOrPhIsM'\n",
    "Added note: this exercise requires that the function return a string. Print statements will not work here."
   ]
  },
  {
   "cell_type": "code",
   "execution_count": 25,
   "id": "0daa2e16-febc-47f7-b67f-2c7251fcee71",
   "metadata": {},
   "outputs": [],
   "source": [
    "mstr='Namestay'\n",
    "str=''\n",
    "index=0\n",
    "def fxn(mstr):\n",
    "    index=0\n",
    "    str=''\n",
    "    for latter in mstr:\n",
    "        if index%2!=0:\n",
    "            print(latter.upper())\n",
    "            str=str+latter.upper()\n",
    "        else:\n",
    "            print(latter.lower())\n",
    "            str=str+latter.lower()\n",
    "        index+=1\n",
    "    return str\n",
    "        "
   ]
  },
  {
   "cell_type": "code",
   "execution_count": 26,
   "id": "f853c1ba-905f-44ab-835c-6fc027d48550",
   "metadata": {},
   "outputs": [
    {
     "name": "stdout",
     "output_type": "stream",
     "text": [
      "n\n",
      "A\n",
      "m\n",
      "E\n",
      "s\n",
      "T\n",
      "a\n",
      "Y\n"
     ]
    },
    {
     "data": {
      "text/plain": [
       "'nAmEsTaY'"
      ]
     },
     "execution_count": 26,
     "metadata": {},
     "output_type": "execute_result"
    }
   ],
   "source": [
    "fxn(mstr)"
   ]
  },
  {
   "cell_type": "code",
   "execution_count": 18,
   "id": "1f983849-a17c-4a0c-8575-db166b6d2f16",
   "metadata": {},
   "outputs": [
    {
     "data": {
      "text/plain": [
       "'NAMESTAY'"
      ]
     },
     "execution_count": 18,
     "metadata": {},
     "output_type": "execute_result"
    }
   ],
   "source": [
    "mstr='Namestay'\n",
    "mstr.upper()"
   ]
  },
  {
   "cell_type": "code",
   "execution_count": 34,
   "id": "1af9f384-735c-4354-94c1-556e009edece",
   "metadata": {},
   "outputs": [],
   "source": [
    "\n",
    "def fxn (mstr):\n",
    "    str=''\n",
    "    for index,latter in enumerate(mstr):\n",
    "         if index%2!=0:\n",
    "            #print(latter.upper())\n",
    "            str=str+latter.upper()\n",
    "         else:\n",
    "            #print(latter.lower())\n",
    "            str=str+latter.lower()\n",
    "    return str\n",
    "        \n",
    "\n",
    "        "
   ]
  },
  {
   "cell_type": "code",
   "execution_count": 36,
   "id": "e1a4efa0-095a-48ac-8aa8-0ccf3199a58d",
   "metadata": {},
   "outputs": [
    {
     "name": "stdout",
     "output_type": "stream",
     "text": [
      "h\n",
      "E\n",
      "l\n",
      "L\n",
      "o\n"
     ]
    },
    {
     "data": {
      "text/plain": [
       "'hElLo'"
      ]
     },
     "execution_count": 36,
     "metadata": {},
     "output_type": "execute_result"
    }
   ],
   "source": [
    "fxn('hello')"
   ]
  },
  {
   "cell_type": "markdown",
   "id": "ab2dc633-5ad9-4545-a815-616565959eb8",
   "metadata": {},
   "source": [
    "# map  map(func, *iterables) --> map object"
   ]
  },
  {
   "cell_type": "code",
   "execution_count": 37,
   "id": "922512dc-bac5-4666-b969-dfd1b5c31a3a",
   "metadata": {},
   "outputs": [],
   "source": [
    "def square (number):\n",
    "    return number**2\n",
    "    "
   ]
  },
  {
   "cell_type": "code",
   "execution_count": 41,
   "id": "261723fa-9706-40e2-9831-2413a09662ac",
   "metadata": {},
   "outputs": [
    {
     "data": {
      "text/plain": [
       "<map at 0x1afbca1bd60>"
      ]
     },
     "execution_count": 41,
     "metadata": {},
     "output_type": "execute_result"
    }
   ],
   "source": [
    "# if we have to square every number of a list\n",
    "lst=[2,3,4]\n",
    "map(square,lst)"
   ]
  },
  {
   "cell_type": "code",
   "execution_count": 43,
   "id": "31e265f3-7eca-4152-9989-1ebea215de82",
   "metadata": {},
   "outputs": [
    {
     "name": "stdout",
     "output_type": "stream",
     "text": [
      "4\n",
      "9\n",
      "16\n"
     ]
    }
   ],
   "source": [
    "for num in map(square,lst):\n",
    "    print(num)"
   ]
  },
  {
   "cell_type": "code",
   "execution_count": 44,
   "id": "bb37b665-13c2-4319-8cdc-b1449d5ebff7",
   "metadata": {},
   "outputs": [],
   "source": [
    "sqr_lst=list(map(square,lst))"
   ]
  },
  {
   "cell_type": "code",
   "execution_count": 45,
   "id": "e9daa84d-588d-4252-aab2-6413405a1198",
   "metadata": {},
   "outputs": [
    {
     "data": {
      "text/plain": [
       "[4, 9, 16]"
      ]
     },
     "execution_count": 45,
     "metadata": {},
     "output_type": "execute_result"
    }
   ],
   "source": [
    "sqr_lst"
   ]
  },
  {
   "cell_type": "code",
   "execution_count": 59,
   "id": "18c78351-21ff-4767-81de-8b0f6c303591",
   "metadata": {},
   "outputs": [],
   "source": [
    "def even_check_lst(num_lst):\n",
    "    if num_lst%2==0:\n",
    "        return True\n",
    "    else:\n",
    "        pass\n",
    "    return False"
   ]
  },
  {
   "cell_type": "code",
   "execution_count": 60,
   "id": "52f5cf80-26d3-4445-aa40-fe6c28ef5f70",
   "metadata": {},
   "outputs": [],
   "source": [
    "lst=[1,2,3,4]"
   ]
  },
  {
   "cell_type": "code",
   "execution_count": 61,
   "id": "617d14fb-3bcd-4547-b64b-0e6adcd2e14c",
   "metadata": {},
   "outputs": [
    {
     "name": "stdout",
     "output_type": "stream",
     "text": [
      "False\n",
      "True\n",
      "False\n",
      "True\n"
     ]
    }
   ],
   "source": [
    "for item in map(even_check_lst,lst):\n",
    "    print(item)"
   ]
  },
  {
   "cell_type": "code",
   "execution_count": null,
   "id": "4ce92314-fc8b-4516-afa9-1a2847f02663",
   "metadata": {},
   "outputs": [],
   "source": []
  }
 ],
 "metadata": {
  "kernelspec": {
   "display_name": "Python 3 (ipykernel)",
   "language": "python",
   "name": "python3"
  },
  "language_info": {
   "codemirror_mode": {
    "name": "ipython",
    "version": 3
   },
   "file_extension": ".py",
   "mimetype": "text/x-python",
   "name": "python",
   "nbconvert_exporter": "python",
   "pygments_lexer": "ipython3",
   "version": "3.10.7"
  }
 },
 "nbformat": 4,
 "nbformat_minor": 5
}
