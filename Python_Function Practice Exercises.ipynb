{
 "cells": [
  {
   "cell_type": "markdown",
   "id": "18a75a3f-69be-446e-9c52-e39fac3049f9",
   "metadata": {},
   "source": [
    "Q LESSER OF TWO EVENS: Write a function that returns the lesser of two given numbers if both numbers are even, but returns the greater if one or both numbers are odd"
   ]
  },
  {
   "cell_type": "code",
   "execution_count": 7,
   "id": "a789e20e-a99c-4809-adc5-646fe5b704fe",
   "metadata": {},
   "outputs": [],
   "source": [
    "def lesser_even(x,y):\n",
    "    if (x==0 and ny==0):\n",
    "         return min(x,y)\n",
    "    else:\n",
    "         return max(x,y)\n",
    "    "
   ]
  },
  {
   "cell_type": "code",
   "execution_count": 12,
   "id": "1123bd07-72d1-45bc-93a9-3a7e31bdbf42",
   "metadata": {},
   "outputs": [
    {
     "data": {
      "text/plain": [
       "9"
      ]
     },
     "execution_count": 12,
     "metadata": {},
     "output_type": "execute_result"
    }
   ],
   "source": [
    "lesser_even(4,9)"
   ]
  },
  {
   "cell_type": "code",
   "execution_count": 29,
   "id": "3f766997-d887-4931-a0fe-2c32bf84abc2",
   "metadata": {},
   "outputs": [],
   "source": [
    "#ANIMAL CRACKERS: Write a function takes a two-word string and returns True if both words begin with same letter\n",
    "def animal_crackers(Two_word):\n",
    "    if Two_word.split()[0][0]==Two_word.split()[1][0]:\n",
    "        return True\n",
    "    else:\n",
    "        return False"
   ]
  },
  {
   "cell_type": "code",
   "execution_count": 13,
   "id": "3ecf7617-90ec-4252-a57d-4cc52002a672",
   "metadata": {},
   "outputs": [],
   "source": [
    "txt='Hello Herry'"
   ]
  },
  {
   "cell_type": "code",
   "execution_count": 19,
   "id": "1da84ef0-ee31-4bc1-8b0c-a476f91290aa",
   "metadata": {},
   "outputs": [
    {
     "data": {
      "text/plain": [
       "False"
      ]
     },
     "execution_count": 19,
     "metadata": {},
     "output_type": "execute_result"
    }
   ],
   "source": [
    "animal_crackers('Dirty pog')"
   ]
  },
  {
   "cell_type": "code",
   "execution_count": 43,
   "id": "702f2aea-9358-402d-ba5f-a1d9975a4a77",
   "metadata": {},
   "outputs": [],
   "source": [
    "def animal_crackers(Two_word):\n",
    "    word=Two_word.split()\n",
    "    return word[0][0]==word[1][0]"
   ]
  },
  {
   "cell_type": "code",
   "execution_count": 45,
   "id": "752c4576-ca5a-46bb-b28e-e5b21947a6b3",
   "metadata": {},
   "outputs": [
    {
     "data": {
      "text/plain": [
       "True"
      ]
     },
     "execution_count": 45,
     "metadata": {},
     "output_type": "execute_result"
    }
   ],
   "source": [
    "animal_crackers('Dirty Dog')"
   ]
  },
  {
   "cell_type": "code",
   "execution_count": 30,
   "id": "758259e9-1d86-4634-820c-97c8109c3888",
   "metadata": {},
   "outputs": [],
   "source": [
    "#MAKES TWENTY: Given two integers, return True if the sum of the integers is 20 or if one of the integers is 20. If not, return False\n",
    "def makes_twenty(x,y):\n",
    "    if x==20 or y==20:\n",
    "        return True\n",
    "    elif x+y==20:\n",
    "        return True\n",
    "    else:\n",
    "        return False"
   ]
  },
  {
   "cell_type": "code",
   "execution_count": 28,
   "id": "ba76d216-fc7c-4689-b2ff-a2836832ea77",
   "metadata": {},
   "outputs": [
    {
     "data": {
      "text/plain": [
       "True"
      ]
     },
     "execution_count": 28,
     "metadata": {},
     "output_type": "execute_result"
    }
   ],
   "source": [
    "makes_twenty(12,8)"
   ]
  },
  {
   "cell_type": "code",
   "execution_count": 39,
   "id": "4bf45df0-077d-4070-a137-0e111da39ed7",
   "metadata": {},
   "outputs": [],
   "source": [
    "def makes_twenty(n1,n2):\n",
    "    return (n1+n2)==20 or n1==20 or n2==20"
   ]
  },
  {
   "cell_type": "code",
   "execution_count": 42,
   "id": "fc5bdc57-a24b-410c-987a-4e774985d5ae",
   "metadata": {},
   "outputs": [
    {
     "data": {
      "text/plain": [
       "True"
      ]
     },
     "execution_count": 42,
     "metadata": {},
     "output_type": "execute_result"
    }
   ],
   "source": [
    "makes_twenty(12,20)"
   ]
  },
  {
   "cell_type": "code",
   "execution_count": 37,
   "id": "dd5c9de7-562a-4e2b-b42b-ea31523cf151",
   "metadata": {},
   "outputs": [],
   "source": [
    "#OLD MACDONALD: Write a function that capitalizes the first and fourth letters of a name\n",
    "def olf_mac (name):\n",
    "    str=''\n",
    "    for index,letter in enumerate(name):\n",
    "        if index==0 or index==3:\n",
    "            str=str+letter.upper()\n",
    "        else:\n",
    "            str=str+letter\n",
    "    return str\n",
    "            "
   ]
  },
  {
   "cell_type": "code",
   "execution_count": 38,
   "id": "b69af8f0-6bb4-4f1e-9f48-44a4f4dfa124",
   "metadata": {},
   "outputs": [
    {
     "data": {
      "text/plain": [
       "'MacDonald'"
      ]
     },
     "execution_count": 38,
     "metadata": {},
     "output_type": "execute_result"
    }
   ],
   "source": [
    "olf_mac('macdonald')"
   ]
  },
  {
   "cell_type": "code",
   "execution_count": 46,
   "id": "d099d646-0f84-490f-8a56-65348eb13e93",
   "metadata": {},
   "outputs": [],
   "source": [
    "# Note: 'macdonald'.capitalize() returns 'Macdonald'"
   ]
  },
  {
   "cell_type": "code",
   "execution_count": 52,
   "id": "88c2aae8-670b-4a89-b6d6-0ab15ac2a894",
   "metadata": {},
   "outputs": [],
   "source": [
    "def olf_mac (name):\n",
    "    if len(name)>3:\n",
    "        return name[:3].capitalize() +name[3:].capitalize()\n",
    "    else:\n",
    "        return 'name is too short !!'"
   ]
  },
  {
   "cell_type": "code",
   "execution_count": 53,
   "id": "d05978ff-231c-4a59-90c3-b667e09e8cf8",
   "metadata": {},
   "outputs": [
    {
     "data": {
      "text/plain": [
       "'MacDonald'"
      ]
     },
     "execution_count": 53,
     "metadata": {},
     "output_type": "execute_result"
    }
   ],
   "source": [
    "olf_mac('macdonald')"
   ]
  },
  {
   "cell_type": "code",
   "execution_count": 54,
   "id": "1560c22a-47c8-4769-ae8b-68ad1c25c68a",
   "metadata": {},
   "outputs": [
    {
     "data": {
      "text/plain": [
       "'name is too short !!'"
      ]
     },
     "execution_count": 54,
     "metadata": {},
     "output_type": "execute_result"
    }
   ],
   "source": [
    "olf_mac('shi')"
   ]
  },
  {
   "cell_type": "code",
   "execution_count": 55,
   "id": "9d5ab545-fc5d-486a-85a1-cb90e671557e",
   "metadata": {},
   "outputs": [],
   "source": [
    "#MASTER YODA: Given a sentence, return a sentence with the words reversed\n"
   ]
  },
  {
   "cell_type": "markdown",
   "id": "61ed3a66-0ef2-46f9-b168-05a479920ac6",
   "metadata": {},
   "source": [
    "Note: The .join() method may be useful here. The .join() method allows you to join together strings in a list with some connector string. For example, some uses of the .join() method:\n",
    "\n",
    ">>> \"--\".join(['a','b','c'])\n",
    ">>> 'a--b--c'\n",
    "This means if you had a list of words you wanted to turn back into a sentence, you could just join them with a single space string:\n",
    "\n",
    ">>> \" \".join(['Hello','world'])\n",
    ">>> \"Hello world\""
   ]
  },
  {
   "cell_type": "code",
   "execution_count": 102,
   "id": "c1fdfa25-3333-4761-8f46-266ebf6a400d",
   "metadata": {},
   "outputs": [],
   "source": [
    "def master_yodha(sentence):\n",
    "    str_lst=sentence.split()\n",
    "    str_lst=str_lst[::-1]\n",
    "    rev_sentence=''\n",
    "    for word in str_lst:\n",
    "        rev_sentence=rev_sentence+' '+word\n",
    "    return rev_sentence.strip()\n",
    "    "
   ]
  },
  {
   "cell_type": "code",
   "execution_count": 103,
   "id": "7c6c56bf-14c0-48cc-b180-64e88c87454e",
   "metadata": {},
   "outputs": [
    {
     "data": {
      "text/plain": [
       "'you? are how Bob hello'"
      ]
     },
     "execution_count": 103,
     "metadata": {},
     "output_type": "execute_result"
    }
   ],
   "source": [
    "master_yodha('hello Bob how are you?')"
   ]
  },
  {
   "cell_type": "code",
   "execution_count": 104,
   "id": "a1b05107-5043-4c4a-b828-47e854219b7f",
   "metadata": {},
   "outputs": [],
   "source": [
    "def master_yodha(sentence):\n",
    "    str_lst=sentence.split()\n",
    "    str_lst=str_lst[::-1] \n",
    "    return \" \".join(str_lst)\n",
    "    "
   ]
  },
  {
   "cell_type": "code",
   "execution_count": 105,
   "id": "3adaeacf-1378-4843-9590-9b2742d77afe",
   "metadata": {},
   "outputs": [
    {
     "data": {
      "text/plain": [
       "'you? are how Bob hello'"
      ]
     },
     "execution_count": 105,
     "metadata": {},
     "output_type": "execute_result"
    }
   ],
   "source": [
    "master_yodha('hello Bob how are you?')"
   ]
  },
  {
   "cell_type": "code",
   "execution_count": 106,
   "id": "bbbb001f-1084-4f0c-91b4-a5280b9bf61d",
   "metadata": {},
   "outputs": [
    {
     "data": {
      "text/plain": [
       "['you?', 'are', 'how', 'Bob', 'hello']"
      ]
     },
     "execution_count": 106,
     "metadata": {},
     "output_type": "execute_result"
    }
   ],
   "source": [
    "str_lst[::-1]"
   ]
  },
  {
   "cell_type": "code",
   "execution_count": null,
   "id": "6e64dd99-4860-4633-8870-6006385d0ab0",
   "metadata": {},
   "outputs": [],
   "source": [
    "#ALMOST THERE: Given an integer n, return True if n is within 10 of either 100 or 200"
   ]
  },
  {
   "cell_type": "code",
   "execution_count": 7,
   "id": "c194d456-5be0-4230-a5d5-688262b876b6",
   "metadata": {},
   "outputs": [],
   "source": [
    "def alost_there(n):\n",
    "    return 90<=n<=110 or 190<=n<=210\n",
    "    "
   ]
  },
  {
   "cell_type": "code",
   "execution_count": 8,
   "id": "42a5a71c-23e4-491f-9ebc-e4c505f6dc5b",
   "metadata": {},
   "outputs": [
    {
     "data": {
      "text/plain": [
       "True"
      ]
     },
     "execution_count": 8,
     "metadata": {},
     "output_type": "execute_result"
    }
   ],
   "source": [
    "alost_there(205)"
   ]
  },
  {
   "cell_type": "code",
   "execution_count": 9,
   "id": "5a99f5e6-53f0-42de-96e1-9704ef6bfcc5",
   "metadata": {},
   "outputs": [],
   "source": [
    "#abs(num) returns the absolute value of a number\n",
    "def alost_there(n):\n",
    "    return (abs(100-n)<=10) or (abs(200-n)<=10)"
   ]
  },
  {
   "cell_type": "code",
   "execution_count": 12,
   "id": "13d75bcb-618a-48a3-800b-de8f2a15db9b",
   "metadata": {},
   "outputs": [
    {
     "data": {
      "text/plain": [
       "True"
      ]
     },
     "execution_count": 12,
     "metadata": {},
     "output_type": "execute_result"
    }
   ],
   "source": [
    "alost_there(102)"
   ]
  },
  {
   "cell_type": "markdown",
   "id": "5eed229b-a9ff-4515-9f17-6f849c4ab3ce",
   "metadata": {},
   "source": [
    "# Level 2"
   ]
  },
  {
   "cell_type": "markdown",
   "id": "2753dc9e-00dd-45b7-84ab-7542db2ef0bc",
   "metadata": {},
   "source": [
    "Given a list of ints, return True if the array contains a 3 next to a 3 somewhere.\n",
    "\n",
    "has_33([1, 3, 3]) → True\n",
    "has_33([1, 3, 1, 3]) → False\n",
    "has_33([3, 1, 3]) → False"
   ]
  },
  {
   "cell_type": "code",
   "execution_count": null,
   "id": "cd6fc358-f2a9-45cb-8060-2f35e0471189",
   "metadata": {},
   "outputs": [],
   "source": [
    "def has_33(lst):\n",
    "    for x in range(len(lst)-1) \n",
    "        if (lst[x]==3) and (lst[x+1]==3):\n",
    "            return True\n",
    "        else:\n",
    "            pass\n",
    "    return False\n",
    "        "
   ]
  },
  {
   "cell_type": "code",
   "execution_count": null,
   "id": "82d7c120-bd1d-4b02-8589-df2c6b474147",
   "metadata": {},
   "outputs": [],
   "source": [
    "lst=[1, 3,5,3]"
   ]
  },
  {
   "cell_type": "code",
   "execution_count": null,
   "id": "6b33c53d-c818-44a0-a0f0-c3d18767e8e3",
   "metadata": {},
   "outputs": [],
   "source": [
    "lst"
   ]
  },
  {
   "cell_type": "code",
   "execution_count": null,
   "id": "8e528093-bf6d-4065-9bcf-ae86c3e91858",
   "metadata": {},
   "outputs": [],
   "source": []
  }
 ],
 "metadata": {
  "kernelspec": {
   "display_name": "Python 3 (ipykernel)",
   "language": "python",
   "name": "python3"
  },
  "language_info": {
   "codemirror_mode": {
    "name": "ipython",
    "version": 3
   },
   "file_extension": ".py",
   "mimetype": "text/x-python",
   "name": "python",
   "nbconvert_exporter": "python",
   "pygments_lexer": "ipython3",
   "version": "3.10.7"
  }
 },
 "nbformat": 4,
 "nbformat_minor": 5
}
