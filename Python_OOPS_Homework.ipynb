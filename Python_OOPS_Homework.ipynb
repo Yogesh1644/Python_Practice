{
 "cells": [
  {
   "cell_type": "code",
   "execution_count": 47,
   "id": "869b2cdb-1e98-4e2f-b79d-c9aeae7c52d2",
   "metadata": {},
   "outputs": [],
   "source": [
    "#Fill in the Line class methods to accept coordinates as a pair of tuples and return the slope and distance of the line.\n",
    "class Line:\n",
    "    \n",
    "    def __init__(self,coor1,coor2):\n",
    "        self.coor1=coor1\n",
    "        self.coor2=coor2\n",
    "    \n",
    "    def distance(self):\n",
    "        return ((self.coor2[0]-self.coor1[0])**2+(self.coor2[1]-self.coor1[1])**2)**0.5\n",
    "    \n",
    "    def slope(self):\n",
    "        return abs(self.coor2[1]-self.coor1[1])/abs(self.coor2[0]-self.coor1[0])"
   ]
  },
  {
   "cell_type": "code",
   "execution_count": null,
   "id": "a6445387-cf8d-4de3-a00d-0a7f8eaf1552",
   "metadata": {},
   "outputs": [],
   "source": [
    "# class Line(object):\n",
    "    \n",
    "#     def __init__(self,coor1,coor2):\n",
    "#         self.coor1 = coor1\n",
    "#         self.coor2 = coor2\n",
    "    \n",
    "#     def distance(self):\n",
    "#         x1,y1 = self.coor1\n",
    "#         x2,y2 = self.coor2\n",
    "#         return ((x2-x1)**2 + (y2-y1)**2)**0.5\n",
    "    \n",
    "#     def slope(self):\n",
    "#         x1,y1 = self.coor1\n",
    "#         x2,y2 = self.coor2\n",
    "#         return (y2-y1)/(x2-x1)"
   ]
  },
  {
   "cell_type": "code",
   "execution_count": 33,
   "id": "3011458a-d323-4327-b021-203473c33f60",
   "metadata": {},
   "outputs": [],
   "source": [
    "My_line=Line((3,2),(8,10))"
   ]
  },
  {
   "cell_type": "code",
   "execution_count": 34,
   "id": "cf06aa65-1bff-442e-925d-629265fa0952",
   "metadata": {},
   "outputs": [
    {
     "data": {
      "text/plain": [
       "9.433981132056603"
      ]
     },
     "execution_count": 34,
     "metadata": {},
     "output_type": "execute_result"
    }
   ],
   "source": [
    "My_line.distance()"
   ]
  },
  {
   "cell_type": "code",
   "execution_count": 35,
   "id": "8009448c-729f-4957-b9c2-ee9e81a19894",
   "metadata": {},
   "outputs": [
    {
     "data": {
      "text/plain": [
       "1.6"
      ]
     },
     "execution_count": 35,
     "metadata": {},
     "output_type": "execute_result"
    }
   ],
   "source": [
    "My_line.slope()"
   ]
  },
  {
   "cell_type": "code",
   "execution_count": 43,
   "id": "c7a3735a-a1ff-42de-8eb5-11835b08403a",
   "metadata": {},
   "outputs": [],
   "source": [
    "class Cylinder:\n",
    "    \n",
    "    def __init__(self,height=1,radius=1):\n",
    "        self.h=height\n",
    "        self.r=radius\n",
    "        \n",
    "    def volume(self):\n",
    "        return 3.14*self.r*self.r*self.h\n",
    "    \n",
    "    def surface_area(self):\n",
    "        return 2*3.14*self.r*self.h+3.14*self.r*self.r*self.h"
   ]
  },
  {
   "cell_type": "code",
   "execution_count": 44,
   "id": "15b0e080-9475-4497-a629-7547a94aa546",
   "metadata": {},
   "outputs": [],
   "source": [
    "My_Cylinder=Cylinder(2,3)"
   ]
  },
  {
   "cell_type": "code",
   "execution_count": 45,
   "id": "b2524cf1-60c4-4c4d-a5e4-207aa4c16916",
   "metadata": {},
   "outputs": [
    {
     "data": {
      "text/plain": [
       "56.519999999999996"
      ]
     },
     "execution_count": 45,
     "metadata": {},
     "output_type": "execute_result"
    }
   ],
   "source": [
    "My_Cylinder.volume()"
   ]
  },
  {
   "cell_type": "code",
   "execution_count": 46,
   "id": "45d28e83-59c8-4b48-ab9b-dd59c765bff1",
   "metadata": {},
   "outputs": [
    {
     "data": {
      "text/plain": [
       "94.19999999999999"
      ]
     },
     "execution_count": 46,
     "metadata": {},
     "output_type": "execute_result"
    }
   ],
   "source": [
    "My_Cylinder.surface_area()"
   ]
  },
  {
   "cell_type": "markdown",
   "id": "490173df-0e4b-4da9-a308-1821963ad028",
   "metadata": {},
   "source": [
    "Object Oriented Programming Challenge\n",
    "For this challenge, create a bank account class that has two attributes:\n",
    "\n",
    "owner\n",
    "balance\n",
    "and two methods:\n",
    "\n",
    "deposit\n",
    "withdraw\n",
    "As an added requirement, withdrawals may not exceed the available balance.\n",
    "\n",
    "Instantiate your class, make several deposits and withdrawals, and test to make sure the account can't be overdrawn."
   ]
  },
  {
   "cell_type": "code",
   "execution_count": 11,
   "id": "f2f4afbb-3e4a-4f46-b233-7714f3936cd8",
   "metadata": {},
   "outputs": [],
   "source": [
    "class Account():\n",
    "    \n",
    "    # creating two attribute owner and balance\n",
    "    def __init__(self,owner,balance):\n",
    "        self.owner=owner\n",
    "        self.balance=balance\n",
    "        \n",
    "    # creating method\n",
    "    def inquary(self):\n",
    "            Bal_inquary=input('pres y to check balance:')\n",
    "            if Bal_inquary.upper()=='Y':\n",
    "                print(f'your balance is {self.balance}')\n",
    "            else:\n",
    "                print('Have a nice day sir')\n",
    "                \n",
    "    def deposit(self,deposit_amount):\n",
    "        self.balance+=deposit_amount\n",
    "        print('Deposit Accepted')\n",
    "        self.inquary() \n",
    "        \n",
    "    def withdraw(self,withdrawal_amount):\n",
    "        if self.balance<withdrawal_amount:\n",
    "            print(f'you have only {self.balance} in your account')\n",
    "        else:\n",
    "            self.balance-=withdrawal_amount\n",
    "            print('Withdrawal Accepted')\n",
    "            self.inquary()\n",
    "    #creating method to print the instances       \n",
    "    def __str__(self):\n",
    "        #print(f\"Account Owner: {self.owner}\\n Account Balance: {self.balance}\")\n",
    "        return 'Account Owner: '+ self.owner +'\\n' + 'Account balance: '+str(self.balance)\n",
    "        \n",
    "        \n",
    "         \n",
    "        "
   ]
  },
  {
   "cell_type": "code",
   "execution_count": 12,
   "id": "bcc8bec3-20ea-4310-a357-bddee548301f",
   "metadata": {},
   "outputs": [],
   "source": [
    "ac1=Account('Sam',400000)"
   ]
  },
  {
   "cell_type": "code",
   "execution_count": 13,
   "id": "92ffeb46-95e4-459e-a96c-be6506d5c491",
   "metadata": {},
   "outputs": [
    {
     "data": {
      "text/plain": [
       "400000"
      ]
     },
     "execution_count": 13,
     "metadata": {},
     "output_type": "execute_result"
    }
   ],
   "source": [
    "ac1.balance"
   ]
  },
  {
   "cell_type": "code",
   "execution_count": 14,
   "id": "00173983-802c-4f99-aad4-40fc1ea8f497",
   "metadata": {},
   "outputs": [
    {
     "data": {
      "text/plain": [
       "'Sam'"
      ]
     },
     "execution_count": 14,
     "metadata": {},
     "output_type": "execute_result"
    }
   ],
   "source": [
    "ac1.owner"
   ]
  },
  {
   "cell_type": "code",
   "execution_count": 16,
   "id": "e2aa824f-19cd-4114-9eb6-19fae58878d6",
   "metadata": {},
   "outputs": [
    {
     "name": "stdout",
     "output_type": "stream",
     "text": [
      "Deposit Accepted\n"
     ]
    },
    {
     "name": "stdin",
     "output_type": "stream",
     "text": [
      "pres y to check balance: y\n"
     ]
    },
    {
     "name": "stdout",
     "output_type": "stream",
     "text": [
      "your balance is 401400\n"
     ]
    }
   ],
   "source": [
    "ac1.deposit(700)"
   ]
  },
  {
   "cell_type": "code",
   "execution_count": 17,
   "id": "bdb98069-a46d-41e4-a100-477c4f8d4bdc",
   "metadata": {},
   "outputs": [
    {
     "data": {
      "text/plain": [
       "401400"
      ]
     },
     "execution_count": 17,
     "metadata": {},
     "output_type": "execute_result"
    }
   ],
   "source": [
    "ac1.balance"
   ]
  },
  {
   "cell_type": "code",
   "execution_count": 19,
   "id": "10b18d9f-6e5e-481b-9d76-f151b54f988c",
   "metadata": {},
   "outputs": [
    {
     "name": "stdout",
     "output_type": "stream",
     "text": [
      "Withdrawal Accepted\n"
     ]
    },
    {
     "name": "stdin",
     "output_type": "stream",
     "text": [
      "pres y to check balance: y\n"
     ]
    },
    {
     "name": "stdout",
     "output_type": "stream",
     "text": [
      "your balance is 400800\n"
     ]
    }
   ],
   "source": [
    "ac1.withdraw(300)"
   ]
  },
  {
   "cell_type": "code",
   "execution_count": 20,
   "id": "b4ac98ec-2257-4d6e-a650-463ebdce2c5c",
   "metadata": {},
   "outputs": [
    {
     "data": {
      "text/plain": [
       "400800"
      ]
     },
     "execution_count": 20,
     "metadata": {},
     "output_type": "execute_result"
    }
   ],
   "source": [
    "ac1.balance"
   ]
  },
  {
   "cell_type": "code",
   "execution_count": 21,
   "id": "44c2ab81-669a-4b44-9fd7-d65cba512983",
   "metadata": {},
   "outputs": [
    {
     "name": "stdout",
     "output_type": "stream",
     "text": [
      "you have only 400800 in your account\n"
     ]
    }
   ],
   "source": [
    "ac1.withdraw(560000)"
   ]
  },
  {
   "cell_type": "code",
   "execution_count": 22,
   "id": "cf5cf07b-177e-4e54-8db1-70aa7f4e7bc6",
   "metadata": {},
   "outputs": [
    {
     "data": {
      "text/plain": [
       "400800"
      ]
     },
     "execution_count": 22,
     "metadata": {},
     "output_type": "execute_result"
    }
   ],
   "source": [
    "ac1.balance"
   ]
  },
  {
   "cell_type": "code",
   "execution_count": 23,
   "id": "0f65a47a-aa56-4450-b26b-a33f292fa283",
   "metadata": {},
   "outputs": [
    {
     "name": "stdout",
     "output_type": "stream",
     "text": [
      "Account Owner: Sam\n",
      "Account balance: 400800\n"
     ]
    }
   ],
   "source": [
    "print(ac1)"
   ]
  },
  {
   "cell_type": "code",
   "execution_count": null,
   "id": "2a3b4908-7b7e-4ca3-b683-dc86403a6171",
   "metadata": {},
   "outputs": [],
   "source": []
  }
 ],
 "metadata": {
  "kernelspec": {
   "display_name": "Python 3 (ipykernel)",
   "language": "python",
   "name": "python3"
  },
  "language_info": {
   "codemirror_mode": {
    "name": "ipython",
    "version": 3
   },
   "file_extension": ".py",
   "mimetype": "text/x-python",
   "name": "python",
   "nbconvert_exporter": "python",
   "pygments_lexer": "ipython3",
   "version": "3.10.7"
  }
 },
 "nbformat": 4,
 "nbformat_minor": 5
}
