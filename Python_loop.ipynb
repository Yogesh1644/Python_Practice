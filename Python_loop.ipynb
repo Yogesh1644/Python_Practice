{
 "cells": [
  {
   "cell_type": "code",
   "execution_count": 1,
   "id": "def54ed3-5644-400c-87a9-65b04455ca9c",
   "metadata": {},
   "outputs": [],
   "source": [
    "import pandas as pd"
   ]
  },
  {
   "cell_type": "code",
   "execution_count": 2,
   "id": "f44dd767-ae47-4940-b75a-d448f2e897e9",
   "metadata": {},
   "outputs": [
    {
     "name": "stdout",
     "output_type": "stream",
     "text": [
      "h\n",
      "e\n",
      "l\n",
      "l\n",
      "o\n",
      " \n",
      "I\n",
      "n\n",
      "d\n",
      "i\n",
      "a\n"
     ]
    }
   ],
   "source": [
    "mstr='hello India'\n",
    "for x in mstr:\n",
    "    print(x)"
   ]
  },
  {
   "cell_type": "code",
   "execution_count": 3,
   "id": "e39c2142-8f85-40c1-9ca9-c3ff530fb551",
   "metadata": {},
   "outputs": [
    {
     "name": "stdout",
     "output_type": "stream",
     "text": [
      "Max\n",
      "Max\n",
      "Max\n",
      "Max\n",
      "Max\n",
      "Max\n",
      "Max\n",
      "Max\n",
      "Max\n",
      "Max\n",
      "Max\n"
     ]
    }
   ],
   "source": [
    "for _ in 'Hello India':\n",
    "    print('Max')"
   ]
  },
  {
   "cell_type": "code",
   "execution_count": 4,
   "id": "0ee39968-fb60-47dc-82d7-11224bd700f9",
   "metadata": {},
   "outputs": [
    {
     "name": "stdout",
     "output_type": "stream",
     "text": [
      "wer\n",
      "6565\n",
      "tttr\n"
     ]
    }
   ],
   "source": [
    "lst=['wer',6565,'tttr']\n",
    "for x in lst:\n",
    "    print(x)"
   ]
  },
  {
   "cell_type": "code",
   "execution_count": 5,
   "id": "c262a4a4-1351-4989-aa2e-92f7c4747aac",
   "metadata": {},
   "outputs": [
    {
     "name": "stdout",
     "output_type": "stream",
     "text": [
      "1\n",
      "Kol\n",
      "2\n",
      "Kol\n",
      "3\n",
      "Kol\n",
      "4\n",
      "Kol\n"
     ]
    }
   ],
   "source": [
    "tup=(1,2,3,4)\n",
    "for x in tup:\n",
    "    print(x)\n",
    "    print('Kol')"
   ]
  },
  {
   "cell_type": "code",
   "execution_count": 6,
   "id": "7c1bec6b-8d47-4052-b606-c2032160486f",
   "metadata": {},
   "outputs": [
    {
     "data": {
      "text/plain": [
       "[(1, 2), (3, 4), (5, 6), (7, 8)]"
      ]
     },
     "execution_count": 6,
     "metadata": {},
     "output_type": "execute_result"
    }
   ],
   "source": [
    "mlst=[(1,2),(3,4),(5,6),(7,8)]\n",
    "mlst"
   ]
  },
  {
   "cell_type": "code",
   "execution_count": 7,
   "id": "36644c1d-c7a2-4cd9-bdc6-051bbaa8fedc",
   "metadata": {},
   "outputs": [
    {
     "name": "stdout",
     "output_type": "stream",
     "text": [
      "(1, 2)\n",
      "(3, 4)\n",
      "(5, 6)\n",
      "(7, 8)\n"
     ]
    }
   ],
   "source": [
    "for x in mlst:\n",
    "    print(x)"
   ]
  },
  {
   "cell_type": "code",
   "execution_count": 8,
   "id": "d2199c25-a587-429e-8974-4f6fdbad0d96",
   "metadata": {},
   "outputs": [
    {
     "name": "stdout",
     "output_type": "stream",
     "text": [
      "1\n",
      "2\n",
      "3\n",
      "4\n",
      "5\n",
      "6\n",
      "7\n",
      "8\n"
     ]
    }
   ],
   "source": [
    "#tupple unpacking'\n",
    "for a,b in mlst:\n",
    "    print(a)\n",
    "    print(b)"
   ]
  },
  {
   "cell_type": "code",
   "execution_count": 9,
   "id": "4066fe21-0d58-4c0b-937c-657e1877993c",
   "metadata": {},
   "outputs": [
    {
     "name": "stdout",
     "output_type": "stream",
     "text": [
      "2\n",
      "4\n",
      "6\n",
      "8\n"
     ]
    }
   ],
   "source": [
    "for a,b in mlst:\n",
    "    print(b)\n",
    "     "
   ]
  },
  {
   "cell_type": "code",
   "execution_count": 10,
   "id": "beb1d5ea-6fef-4644-84a5-dddd2393da8f",
   "metadata": {},
   "outputs": [
    {
     "data": {
      "text/plain": [
       "{'k1': 12, 'k2': 65, 'k3': 87}"
      ]
     },
     "execution_count": 10,
     "metadata": {},
     "output_type": "execute_result"
    }
   ],
   "source": [
    "dict={'k1':12,'k2':65,'k3':87}\n",
    "dict"
   ]
  },
  {
   "cell_type": "code",
   "execution_count": 11,
   "id": "752192e9-04d1-4544-8356-a2e565a9fab8",
   "metadata": {},
   "outputs": [
    {
     "name": "stdout",
     "output_type": "stream",
     "text": [
      "k1\n",
      "k2\n",
      "k3\n"
     ]
    }
   ],
   "source": [
    "for x in dict:\n",
    "    print(x)  \n",
    "# it will only itrate key"
   ]
  },
  {
   "cell_type": "code",
   "execution_count": 12,
   "id": "2aa07263-4b01-4394-bc58-ca28a1713561",
   "metadata": {},
   "outputs": [
    {
     "name": "stdout",
     "output_type": "stream",
     "text": [
      "('k1', 12)\n",
      "('k2', 65)\n",
      "('k3', 87)\n"
     ]
    }
   ],
   "source": [
    "# to print both key and value use .items()\n",
    "for x in dict.items():\n",
    "    print(x)\n",
    "    "
   ]
  },
  {
   "cell_type": "code",
   "execution_count": 13,
   "id": "21b5712d-fd1c-4e78-aaa7-7435f6f08f66",
   "metadata": {},
   "outputs": [
    {
     "name": "stdout",
     "output_type": "stream",
     "text": [
      "12\n",
      "65\n",
      "87\n"
     ]
    }
   ],
   "source": [
    "#to print only value\n",
    "for value in dict.values():\n",
    "    print(value)"
   ]
  },
  {
   "cell_type": "code",
   "execution_count": 15,
   "id": "24e088c2-c2d1-4bff-b954-a91a6512bb17",
   "metadata": {},
   "outputs": [
    {
     "name": "stdout",
     "output_type": "stream",
     "text": [
      "k\n",
      "1\n",
      "k\n",
      "2\n",
      "k\n",
      "3\n"
     ]
    }
   ],
   "source": [
    "# to print itam and value seprate use unpacking \n",
    "for key,value in dict:\n",
    "    print(key)\n",
    "    print(value)"
   ]
  },
  {
   "cell_type": "code",
   "execution_count": 16,
   "id": "63d9ff08-08b0-4fcd-b482-78cc104c8824",
   "metadata": {},
   "outputs": [
    {
     "name": "stdout",
     "output_type": "stream",
     "text": [
      "0\n",
      "1\n",
      "2\n",
      "3\n",
      "4\n"
     ]
    }
   ],
   "source": [
    "x=0\n",
    "while x<5:\n",
    "    print(x)\n",
    "    x+=1"
   ]
  },
  {
   "cell_type": "code",
   "execution_count": 17,
   "id": "a112202d-fd4b-4dc8-be84-61038296d229",
   "metadata": {},
   "outputs": [],
   "source": [
    "# pass\n",
    "str='lkmlkfsd'\n",
    "for x in str:\n",
    "    pass"
   ]
  },
  {
   "cell_type": "code",
   "execution_count": 18,
   "id": "6d812379-f414-4c54-a331-8fff045525d0",
   "metadata": {},
   "outputs": [
    {
     "name": "stdout",
     "output_type": "stream",
     "text": [
      "I\n",
      "n\n",
      "d\n"
     ]
    }
   ],
   "source": [
    "#break\n",
    "mstr='India'\n",
    "for x in mstr:\n",
    "    if x=='i':\n",
    "        break\n",
    "    print(x)"
   ]
  },
  {
   "cell_type": "code",
   "execution_count": 19,
   "id": "7b7f9645-654b-4312-9c3f-7f1c16103b2d",
   "metadata": {},
   "outputs": [
    {
     "name": "stdout",
     "output_type": "stream",
     "text": [
      "I\n",
      "n\n",
      "d\n",
      "a\n"
     ]
    }
   ],
   "source": [
    "#continue\n",
    "for x in mstr:\n",
    "    if x=='i':\n",
    "        continue\n",
    "    print(x)"
   ]
  },
  {
   "cell_type": "markdown",
   "id": "e88d54f8-6c1b-4b95-b045-fc44ae871f4d",
   "metadata": {},
   "source": [
    "# Range function : range(start,end,step) end number"
   ]
  },
  {
   "cell_type": "code",
   "execution_count": 20,
   "id": "e2051614-d3e5-4be6-8de1-d7046c4d914c",
   "metadata": {},
   "outputs": [
    {
     "name": "stdout",
     "output_type": "stream",
     "text": [
      "0\n",
      "1\n",
      "2\n",
      "3\n",
      "4\n",
      "5\n",
      "6\n",
      "7\n",
      "8\n",
      "9\n"
     ]
    }
   ],
   "source": [
    "for num in range(10):\n",
    "    print(num)"
   ]
  },
  {
   "cell_type": "code",
   "execution_count": 21,
   "id": "62e9cbde-63e7-49af-8ab4-3b41d519279c",
   "metadata": {},
   "outputs": [
    {
     "name": "stdout",
     "output_type": "stream",
     "text": [
      "2\n",
      "3\n",
      "4\n",
      "5\n"
     ]
    }
   ],
   "source": [
    "for num in range(2,6):\n",
    "    print(num)"
   ]
  },
  {
   "cell_type": "code",
   "execution_count": 22,
   "id": "9f3b15dc-2015-4cf0-a7f1-cf50d5aad6ed",
   "metadata": {},
   "outputs": [
    {
     "name": "stdout",
     "output_type": "stream",
     "text": [
      "0\n",
      "2\n",
      "4\n",
      "6\n",
      "8\n"
     ]
    }
   ],
   "source": [
    "for num in range(0,10,2):\n",
    "    print(num)"
   ]
  },
  {
   "cell_type": "code",
   "execution_count": 23,
   "id": "8b3815ba-1ea7-4d95-aea4-8adc8056d5b3",
   "metadata": {},
   "outputs": [
    {
     "data": {
      "text/plain": [
       "range(0, 10, 2)"
      ]
     },
     "execution_count": 23,
     "metadata": {},
     "output_type": "execute_result"
    }
   ],
   "source": [
    "range(0,10,2) # range is also a generator"
   ]
  },
  {
   "cell_type": "code",
   "execution_count": 24,
   "id": "145504c4-3932-4c59-8bf4-59ecbf497186",
   "metadata": {},
   "outputs": [
    {
     "data": {
      "text/plain": [
       "[0, 2, 4, 6, 8]"
      ]
     },
     "execution_count": 24,
     "metadata": {},
     "output_type": "execute_result"
    }
   ],
   "source": [
    "lst=list(range(0,10,2))\n",
    "lst"
   ]
  },
  {
   "cell_type": "markdown",
   "id": "a980dbad-b857-4c00-a3a0-a92b3f5a1a49",
   "metadata": {},
   "source": [
    "# print item with index with enumerate"
   ]
  },
  {
   "cell_type": "code",
   "execution_count": 25,
   "id": "0c1f2216-8fa7-4a58-a54a-d8e66a67fedd",
   "metadata": {},
   "outputs": [
    {
     "name": "stdout",
     "output_type": "stream",
     "text": [
      "latter at 0 is h\n",
      "latter at 1 is e\n",
      "latter at 2 is l\n",
      "latter at 3 is l\n",
      "latter at 4 is o\n",
      "latter at 5 is I\n",
      "latter at 6 is n\n",
      "latter at 7 is d\n",
      "latter at 8 is i\n",
      "latter at 9 is a\n"
     ]
    }
   ],
   "source": [
    "index_n=0\n",
    "for latter in 'helloIndia':\n",
    "    print('latter at {} is {}'.format(index_n,latter))\n",
    "    index_n+=1"
   ]
  },
  {
   "cell_type": "code",
   "execution_count": 26,
   "id": "5f515114-0d70-4d2a-8873-cb215a91beb1",
   "metadata": {},
   "outputs": [
    {
     "name": "stdout",
     "output_type": "stream",
     "text": [
      "(0, 'H')\n",
      "(1, 'e')\n",
      "(2, 'l')\n",
      "(3, 'l')\n",
      "(4, 'o')\n",
      "(5, 'I')\n",
      "(6, 'n')\n",
      "(7, 'd')\n",
      "(8, 'i')\n",
      "(9, 'a')\n"
     ]
    }
   ],
   "source": [
    "word='HelloIndia'\n",
    "for item  in enumerate (word):\n",
    "    print(item)"
   ]
  },
  {
   "cell_type": "code",
   "execution_count": 27,
   "id": "b7875290-5b12-4c95-8cf8-fdf6789adca7",
   "metadata": {},
   "outputs": [
    {
     "name": "stdout",
     "output_type": "stream",
     "text": [
      "0\n",
      "H\n",
      "\n",
      "\n",
      "1\n",
      "e\n",
      "\n",
      "\n",
      "2\n",
      "l\n",
      "\n",
      "\n",
      "3\n",
      "l\n",
      "\n",
      "\n",
      "4\n",
      "o\n",
      "\n",
      "\n",
      "5\n",
      "I\n",
      "\n",
      "\n",
      "6\n",
      "n\n",
      "\n",
      "\n",
      "7\n",
      "d\n",
      "\n",
      "\n",
      "8\n",
      "i\n",
      "\n",
      "\n",
      "9\n",
      "a\n",
      "\n",
      "\n"
     ]
    }
   ],
   "source": [
    "for index,latter in enumerate(word):\n",
    "    print(index)\n",
    "    print(latter)\n",
    "    print('\\n')"
   ]
  },
  {
   "cell_type": "code",
   "execution_count": 19,
   "id": "7b057341-0d9d-40ec-ab2e-40119b6d67b6",
   "metadata": {},
   "outputs": [],
   "source": [
    "# Zip"
   ]
  },
  {
   "cell_type": "code",
   "execution_count": 28,
   "id": "162dda2d-2c96-45de-80e7-e52fcf7c876d",
   "metadata": {},
   "outputs": [],
   "source": [
    "lst1=[1,2,3]\n",
    "lst2=['a','b','c']\n",
    "lst3=[100,200,300]"
   ]
  },
  {
   "cell_type": "code",
   "execution_count": 29,
   "id": "6ace4748-7cd0-4670-8fb9-06aaa07b707d",
   "metadata": {},
   "outputs": [
    {
     "name": "stdout",
     "output_type": "stream",
     "text": [
      "(1, 'a')\n",
      "(2, 'b')\n",
      "(3, 'c')\n"
     ]
    }
   ],
   "source": [
    "for item in zip(lst1,lst2):\n",
    "    print(item)"
   ]
  },
  {
   "cell_type": "code",
   "execution_count": 30,
   "id": "5701a757-80fa-4079-9ffa-513956e1fe4c",
   "metadata": {},
   "outputs": [
    {
     "name": "stdout",
     "output_type": "stream",
     "text": [
      "(1, 'a', 100)\n",
      "(2, 'b', 200)\n",
      "(3, 'c', 300)\n"
     ]
    }
   ],
   "source": [
    "for item in zip(lst1,lst2,lst3):\n",
    "    print(item)"
   ]
  },
  {
   "cell_type": "code",
   "execution_count": 31,
   "id": "c5e19cf2-f10f-4a60-88c6-dafee7e3ca4a",
   "metadata": {},
   "outputs": [],
   "source": [
    "mlst1=[1,2,3,4,5,6]\n",
    "mlst2=['a','b','c']\n",
    "mlst3=[100,200,300]"
   ]
  },
  {
   "cell_type": "code",
   "execution_count": 32,
   "id": "f03e2092-8a82-4ce1-b6c5-480027d1652a",
   "metadata": {},
   "outputs": [
    {
     "name": "stdout",
     "output_type": "stream",
     "text": [
      "(1, 'a', 100)\n",
      "(2, 'b', 200)\n",
      "(3, 'c', 300)\n"
     ]
    }
   ],
   "source": [
    "for item in zip(mlst1,mlst2,mlst3):\n",
    "    print(item)"
   ]
  },
  {
   "cell_type": "code",
   "execution_count": 33,
   "id": "3d42d2ee-fdd8-4d23-93af-3a05ae846742",
   "metadata": {},
   "outputs": [
    {
     "data": {
      "text/plain": [
       "[(1, 'a'), (2, 'b'), (3, 'c')]"
      ]
     },
     "execution_count": 33,
     "metadata": {},
     "output_type": "execute_result"
    }
   ],
   "source": [
    "mylist=list(zip(lst1,lst2))\n",
    "mylist"
   ]
  },
  {
   "cell_type": "code",
   "execution_count": 34,
   "id": "a8a665d0-248d-4e36-b306-f5d4d654b4df",
   "metadata": {},
   "outputs": [],
   "source": [
    "# in operators"
   ]
  },
  {
   "cell_type": "code",
   "execution_count": 35,
   "id": "19d763ac-4953-462d-aa0a-4a6c47b5f8f3",
   "metadata": {},
   "outputs": [
    {
     "data": {
      "text/plain": [
       "False"
      ]
     },
     "execution_count": 35,
     "metadata": {},
     "output_type": "execute_result"
    }
   ],
   "source": [
    "'a' in [1,2,3]"
   ]
  },
  {
   "cell_type": "code",
   "execution_count": 36,
   "id": "4d5c8428-1ab9-4135-af6c-9bbce8aa467a",
   "metadata": {},
   "outputs": [
    {
     "data": {
      "text/plain": [
       "True"
      ]
     },
     "execution_count": 36,
     "metadata": {},
     "output_type": "execute_result"
    }
   ],
   "source": [
    "'a' in 'India'"
   ]
  },
  {
   "cell_type": "code",
   "execution_count": 37,
   "id": "b69592be-2118-4554-b6ab-5bcc07c7f7a0",
   "metadata": {},
   "outputs": [
    {
     "data": {
      "text/plain": [
       "False"
      ]
     },
     "execution_count": 37,
     "metadata": {},
     "output_type": "execute_result"
    }
   ],
   "source": [
    "4 in ['z','y','z']"
   ]
  },
  {
   "cell_type": "code",
   "execution_count": 38,
   "id": "84329a7b-7240-4bd6-80e6-6301c966a536",
   "metadata": {},
   "outputs": [],
   "source": [
    "dict={'key1':23,'key2':64}"
   ]
  },
  {
   "cell_type": "code",
   "execution_count": 39,
   "id": "5e1fafaa-72fa-4217-8ac0-2b8998f764fd",
   "metadata": {},
   "outputs": [
    {
     "data": {
      "text/plain": [
       "True"
      ]
     },
     "execution_count": 39,
     "metadata": {},
     "output_type": "execute_result"
    }
   ],
   "source": [
    "23 in dict.values()"
   ]
  },
  {
   "cell_type": "code",
   "execution_count": 42,
   "id": "8f2b3167-7994-4d4b-9360-356e9a0da44d",
   "metadata": {},
   "outputs": [
    {
     "data": {
      "text/plain": [
       "[1, 2, 3, 4, 5, 6, 7, 8]"
      ]
     },
     "execution_count": 42,
     "metadata": {},
     "output_type": "execute_result"
    }
   ],
   "source": [
    "lst=[1,2,3,4,5,6,7,8]\n",
    "lst"
   ]
  },
  {
   "cell_type": "code",
   "execution_count": 43,
   "id": "fefe0348-5845-435d-9ed0-2a2f2896f558",
   "metadata": {},
   "outputs": [],
   "source": [
    "from random import shuffle"
   ]
  },
  {
   "cell_type": "code",
   "execution_count": 44,
   "id": "bad933b8-c3c6-48dc-854d-5df4d614cd93",
   "metadata": {},
   "outputs": [],
   "source": [
    "shuffle(lst)"
   ]
  },
  {
   "cell_type": "code",
   "execution_count": 45,
   "id": "5a0a3f5b-97a1-4007-8d35-02b2dc63f8c4",
   "metadata": {},
   "outputs": [
    {
     "data": {
      "text/plain": [
       "[4, 3, 8, 6, 7, 2, 5, 1]"
      ]
     },
     "execution_count": 45,
     "metadata": {},
     "output_type": "execute_result"
    }
   ],
   "source": [
    "lst"
   ]
  },
  {
   "cell_type": "code",
   "execution_count": 46,
   "id": "6f88b62d-44a6-48ac-a862-c793128b34e2",
   "metadata": {},
   "outputs": [],
   "source": [
    "from random import randint"
   ]
  },
  {
   "cell_type": "code",
   "execution_count": 47,
   "id": "13cf51e4-65b6-47a2-88bc-de755de66040",
   "metadata": {},
   "outputs": [
    {
     "data": {
      "text/plain": [
       "31"
      ]
     },
     "execution_count": 47,
     "metadata": {},
     "output_type": "execute_result"
    }
   ],
   "source": [
    "randint(2,100)"
   ]
  },
  {
   "cell_type": "code",
   "execution_count": 48,
   "id": "17914d67-16bb-4abd-b43f-d0fdb3652966",
   "metadata": {},
   "outputs": [],
   "source": [
    "x=randint(4,8)"
   ]
  },
  {
   "cell_type": "code",
   "execution_count": 49,
   "id": "1049a6f3-b0ca-4d9e-957e-470da315c627",
   "metadata": {},
   "outputs": [
    {
     "data": {
      "text/plain": [
       "8"
      ]
     },
     "execution_count": 49,
     "metadata": {},
     "output_type": "execute_result"
    }
   ],
   "source": [
    "x"
   ]
  },
  {
   "cell_type": "code",
   "execution_count": 54,
   "id": "b5ebd18f-6d41-4176-9189-70a69b7cf3bf",
   "metadata": {},
   "outputs": [],
   "source": [
    "# Input: always give string"
   ]
  },
  {
   "cell_type": "code",
   "execution_count": 55,
   "id": "1d4a9bcb-88e0-48a3-a262-d387d2de8160",
   "metadata": {},
   "outputs": [
    {
     "name": "stdin",
     "output_type": "stream",
     "text": [
      "Enter your name:  yogi\n"
     ]
    },
    {
     "data": {
      "text/plain": [
       "'yogi'"
      ]
     },
     "execution_count": 55,
     "metadata": {},
     "output_type": "execute_result"
    }
   ],
   "source": [
    "input('Enter your name: ')"
   ]
  },
  {
   "cell_type": "code",
   "execution_count": 52,
   "id": "19f24142-95a5-4469-bf08-7e0a18ac1f3c",
   "metadata": {},
   "outputs": [
    {
     "name": "stdin",
     "output_type": "stream",
     "text": [
      "enter your number: 455\n"
     ]
    }
   ],
   "source": [
    "result=input('enter your number:')"
   ]
  },
  {
   "cell_type": "code",
   "execution_count": 53,
   "id": "16243c17-884b-4855-a91e-d421560019c6",
   "metadata": {},
   "outputs": [
    {
     "data": {
      "text/plain": [
       "'455'"
      ]
     },
     "execution_count": 53,
     "metadata": {},
     "output_type": "execute_result"
    }
   ],
   "source": [
    "result"
   ]
  },
  {
   "cell_type": "markdown",
   "id": "3a976770-4d64-4b16-a785-4fa91fb991c8",
   "metadata": {},
   "source": [
    "# List Comprehension : easy way to create a list"
   ]
  },
  {
   "cell_type": "code",
   "execution_count": 60,
   "id": "35b35ea5-64ab-4209-88a6-86388117b530",
   "metadata": {},
   "outputs": [],
   "source": [
    "mstr='hello'\n"
   ]
  },
  {
   "cell_type": "code",
   "execution_count": 61,
   "id": "63fd1afb-6e0a-49fe-b9b5-28c8c7d9f792",
   "metadata": {},
   "outputs": [],
   "source": [
    "lst=[]\n",
    "for latter in mstr:\n",
    "    lst.append(latter)"
   ]
  },
  {
   "cell_type": "code",
   "execution_count": 62,
   "id": "a01c6bc3-f0f4-4954-8eee-82926d666dca",
   "metadata": {},
   "outputs": [
    {
     "data": {
      "text/plain": [
       "['h', 'e', 'l', 'l', 'o']"
      ]
     },
     "execution_count": 62,
     "metadata": {},
     "output_type": "execute_result"
    }
   ],
   "source": [
    "lst"
   ]
  },
  {
   "cell_type": "code",
   "execution_count": 63,
   "id": "fe8270e0-3e39-4dd5-a643-cb92f9570099",
   "metadata": {},
   "outputs": [],
   "source": [
    "# Now with lst Compp.\n",
    "lst1=[latter for latter in mstr]"
   ]
  },
  {
   "cell_type": "code",
   "execution_count": 64,
   "id": "2a13c257-9276-4b6f-8453-0b39b3ab6cf6",
   "metadata": {},
   "outputs": [
    {
     "data": {
      "text/plain": [
       "['h', 'e', 'l', 'l', 'o']"
      ]
     },
     "execution_count": 64,
     "metadata": {},
     "output_type": "execute_result"
    }
   ],
   "source": [
    "lst1"
   ]
  },
  {
   "cell_type": "code",
   "execution_count": 65,
   "id": "c9fcca97-473b-4981-b7f0-7c2f920451e2",
   "metadata": {},
   "outputs": [
    {
     "data": {
      "text/plain": [
       "['N', 'a', 'm', 'e', 's', 't', 'a', 'y']"
      ]
     },
     "execution_count": 65,
     "metadata": {},
     "output_type": "execute_result"
    }
   ],
   "source": [
    "lst=[latter for latter in 'Namestay']\n",
    "lst"
   ]
  },
  {
   "cell_type": "code",
   "execution_count": 68,
   "id": "df1bf87a-0f4e-4822-81b3-d8afeb961035",
   "metadata": {},
   "outputs": [
    {
     "data": {
      "text/plain": [
       "[0, 1, 2, 3, 4, 5, 6, 7, 8, 9, 10, 11]"
      ]
     },
     "execution_count": 68,
     "metadata": {},
     "output_type": "execute_result"
    }
   ],
   "source": [
    "lst=[num for num in range(0,12)]\n",
    "lst"
   ]
  },
  {
   "cell_type": "code",
   "execution_count": 69,
   "id": "ffc8f432-e270-43de-ba96-479c6759f7e3",
   "metadata": {},
   "outputs": [
    {
     "data": {
      "text/plain": [
       "[1, 4, 9, 16, 25]"
      ]
     },
     "execution_count": 69,
     "metadata": {},
     "output_type": "execute_result"
    }
   ],
   "source": [
    "# we can also perform operation\n",
    "lst=[num**2 for num in range(1,6)]\n",
    "lst"
   ]
  },
  {
   "cell_type": "code",
   "execution_count": 3,
   "id": "e6d34f9c-7e6d-4f7c-a40c-90958b8ec414",
   "metadata": {},
   "outputs": [
    {
     "data": {
      "text/plain": [
       "[0, 2, 4, 6, 8]"
      ]
     },
     "execution_count": 3,
     "metadata": {},
     "output_type": "execute_result"
    }
   ],
   "source": [
    "# if statement in listComp.\n",
    "lst=[x for x in range(10) if x%2==0]\n",
    "lst"
   ]
  },
  {
   "cell_type": "code",
   "execution_count": 4,
   "id": "1f5f97cf-dd8b-4388-bd14-bbb0ced0f63d",
   "metadata": {},
   "outputs": [
    {
     "data": {
      "text/plain": [
       "[73.4, 98.60000000000001, 113.0]"
      ]
     },
     "execution_count": 4,
     "metadata": {},
     "output_type": "execute_result"
    }
   ],
   "source": [
    "celc=[23,37,45]\n",
    "fren=[((9/5)*temp +32) for temp in celc]\n",
    "fren"
   ]
  },
  {
   "cell_type": "code",
   "execution_count": 5,
   "id": "a30e676f-1d2c-447a-9d40-69c250770aee",
   "metadata": {},
   "outputs": [
    {
     "data": {
      "text/plain": [
       "[73.4, 98.60000000000001, 113.0]"
      ]
     },
     "execution_count": 5,
     "metadata": {},
     "output_type": "execute_result"
    }
   ],
   "source": [
    "#with for loop\n",
    "fren=[]\n",
    "for temp in celc:\n",
    "    fren.append(((9/5)*temp +32))\n",
    "\n",
    "fren\n",
    "    "
   ]
  },
  {
   "cell_type": "code",
   "execution_count": 8,
   "id": "88bc7f8f-80b3-40a7-b528-abbb6d36700a",
   "metadata": {},
   "outputs": [],
   "source": [
    "lst=[x if x%2==0 else 'odd' for x in range(2,10)]"
   ]
  },
  {
   "cell_type": "code",
   "execution_count": 9,
   "id": "059e595d-fd9b-4ed5-87ae-599a02212d20",
   "metadata": {},
   "outputs": [
    {
     "data": {
      "text/plain": [
       "[2, 'odd', 4, 'odd', 6, 'odd', 8, 'odd']"
      ]
     },
     "execution_count": 9,
     "metadata": {},
     "output_type": "execute_result"
    }
   ],
   "source": [
    "lst"
   ]
  },
  {
   "cell_type": "code",
   "execution_count": 11,
   "id": "9f5746cc-f249-46c7-913d-d5a42eb9a518",
   "metadata": {},
   "outputs": [
    {
     "data": {
      "text/plain": [
       "['even', 'odd', 'even', 'odd', 'even', 'odd', 'even', 'odd']"
      ]
     },
     "execution_count": 11,
     "metadata": {},
     "output_type": "execute_result"
    }
   ],
   "source": [
    "lst=['even' if x%2==0 else 'odd' for x in range(2,10)]\n",
    "lst"
   ]
  },
  {
   "cell_type": "code",
   "execution_count": 12,
   "id": "83576feb-c4b5-41e5-9ed6-38a61e044372",
   "metadata": {},
   "outputs": [],
   "source": [
    "#nested loop with listComp."
   ]
  },
  {
   "cell_type": "code",
   "execution_count": 13,
   "id": "cbd7a68c-9620-4e79-8084-e7a5a6b22a82",
   "metadata": {},
   "outputs": [
    {
     "data": {
      "text/plain": [
       "[2, 20, 200, 4, 40, 400, 6, 60, 600]"
      ]
     },
     "execution_count": 13,
     "metadata": {},
     "output_type": "execute_result"
    }
   ],
   "source": [
    "lst=[]\n",
    "for x in [2,4,6]:\n",
    "    for y in [1,10,100]:\n",
    "        lst.append(x*y)\n",
    "lst"
   ]
  },
  {
   "cell_type": "code",
   "execution_count": 14,
   "id": "51a8e2f8-e9b5-409e-b91c-40ad39615f8e",
   "metadata": {},
   "outputs": [
    {
     "data": {
      "text/plain": [
       "[2, 20, 200, 4, 40, 400, 6, 60, 600]"
      ]
     },
     "execution_count": 14,
     "metadata": {},
     "output_type": "execute_result"
    }
   ],
   "source": [
    "lst=[(x*y) for x in [2,4,6] for y in [1,10,100]]\n",
    "lst"
   ]
  },
  {
   "cell_type": "code",
   "execution_count": null,
   "id": "631abbb0-b905-4e52-be91-99b921c18582",
   "metadata": {},
   "outputs": [],
   "source": []
  }
 ],
 "metadata": {
  "kernelspec": {
   "display_name": "Python 3 (ipykernel)",
   "language": "python",
   "name": "python3"
  },
  "language_info": {
   "codemirror_mode": {
    "name": "ipython",
    "version": 3
   },
   "file_extension": ".py",
   "mimetype": "text/x-python",
   "name": "python",
   "nbconvert_exporter": "python",
   "pygments_lexer": "ipython3",
   "version": "3.10.7"
  }
 },
 "nbformat": 4,
 "nbformat_minor": 5
}
