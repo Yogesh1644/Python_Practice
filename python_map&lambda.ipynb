{
 "cells": [
  {
   "cell_type": "markdown",
   "id": "17c67547-ea43-4ba1-ac3e-e9f659d0fe6f",
   "metadata": {},
   "source": [
    "map: map(func, *iterables) use to itrate any function"
   ]
  },
  {
   "cell_type": "code",
   "execution_count": 2,
   "id": "f8582545-4b6f-42bc-a518-0f9d25b76820",
   "metadata": {},
   "outputs": [],
   "source": [
    "def sqr(num):\n",
    "    return num**2"
   ]
  },
  {
   "cell_type": "code",
   "execution_count": 4,
   "id": "47871fc1-83aa-41c6-99d2-50e55dc96377",
   "metadata": {},
   "outputs": [],
   "source": [
    "lst=[12,23,34]"
   ]
  },
  {
   "cell_type": "code",
   "execution_count": 10,
   "id": "a6efa910-6690-4055-9209-04e5ce35bad1",
   "metadata": {},
   "outputs": [
    {
     "data": {
      "text/plain": [
       "<map at 0x219332fa8c0>"
      ]
     },
     "execution_count": 10,
     "metadata": {},
     "output_type": "execute_result"
    }
   ],
   "source": [
    "map(sqr,lst)"
   ]
  },
  {
   "cell_type": "code",
   "execution_count": 9,
   "id": "cb487f36-6bca-4151-a533-3cf93d56a364",
   "metadata": {},
   "outputs": [
    {
     "name": "stdout",
     "output_type": "stream",
     "text": [
      "144\n",
      "529\n",
      "1156\n"
     ]
    }
   ],
   "source": [
    "for item in map(sqr,lst):\n",
    "    print(item)"
   ]
  },
  {
   "cell_type": "code",
   "execution_count": 12,
   "id": "a9361877-c749-44f0-bb57-9c9711728cfc",
   "metadata": {},
   "outputs": [
    {
     "data": {
      "text/plain": [
       "[144, 529, 1156]"
      ]
     },
     "execution_count": 12,
     "metadata": {},
     "output_type": "execute_result"
    }
   ],
   "source": [
    "list(map(sqr,lst))"
   ]
  },
  {
   "cell_type": "code",
   "execution_count": 13,
   "id": "0e252f9a-657c-4af2-8624-6dabb7de9ba6",
   "metadata": {},
   "outputs": [],
   "source": [
    "def check_even(num):\n",
    "    return num%2==0"
   ]
  },
  {
   "cell_type": "markdown",
   "id": "142b755a-b08a-4b5e-96e9-2ece23833ec1",
   "metadata": {},
   "source": [
    "filter: filter(function or None, iterable) --> filter object\n",
    "\n",
    "Return an iterator yielding those items of iterable for which function(item)\n",
    "is true. If function is None, return the items that are true"
   ]
  },
  {
   "cell_type": "code",
   "execution_count": 14,
   "id": "23beb645-e368-4dcd-99f8-465766130646",
   "metadata": {},
   "outputs": [],
   "source": [
    "num=[2,3,4,5,6,7,8]"
   ]
  },
  {
   "cell_type": "code",
   "execution_count": 15,
   "id": "4c907d91-770d-429a-955e-8e2ee345d847",
   "metadata": {},
   "outputs": [
    {
     "data": {
      "text/plain": [
       "<filter at 0x21933b4ae60>"
      ]
     },
     "execution_count": 15,
     "metadata": {},
     "output_type": "execute_result"
    }
   ],
   "source": [
    "filter(check_even,num)"
   ]
  },
  {
   "cell_type": "code",
   "execution_count": 16,
   "id": "7fa4356d-5db5-43f0-96b1-46d83c8faa93",
   "metadata": {},
   "outputs": [
    {
     "data": {
      "text/plain": [
       "[2, 4, 6, 8]"
      ]
     },
     "execution_count": 16,
     "metadata": {},
     "output_type": "execute_result"
    }
   ],
   "source": [
    "list(filter(check_even,num))"
   ]
  },
  {
   "cell_type": "code",
   "execution_count": null,
   "id": "d2b2dcf7-0162-4182-9c33-e164435d33ae",
   "metadata": {},
   "outputs": [],
   "source": [
    "#lambda:- use to create function"
   ]
  },
  {
   "cell_type": "code",
   "execution_count": 17,
   "id": "beb8905a-3c3c-477a-b948-8e80d8cc2605",
   "metadata": {},
   "outputs": [],
   "source": [
    "def sqr(num):\n",
    "    return num**2"
   ]
  },
  {
   "cell_type": "code",
   "execution_count": 18,
   "id": "03485864-12e7-4681-b328-9de8076ca2a6",
   "metadata": {},
   "outputs": [
    {
     "data": {
      "text/plain": [
       "121"
      ]
     },
     "execution_count": 18,
     "metadata": {},
     "output_type": "execute_result"
    }
   ],
   "source": [
    "sqr(11)"
   ]
  },
  {
   "cell_type": "code",
   "execution_count": 20,
   "id": "4242ea6f-4c07-4592-aca2-1781a70ecaf6",
   "metadata": {},
   "outputs": [],
   "source": [
    "square=lambda num:num**2"
   ]
  },
  {
   "cell_type": "code",
   "execution_count": 21,
   "id": "9f9312bc-934d-43ef-8024-e47d175dea5e",
   "metadata": {},
   "outputs": [
    {
     "data": {
      "text/plain": [
       "81"
      ]
     },
     "execution_count": 21,
     "metadata": {},
     "output_type": "execute_result"
    }
   ],
   "source": [
    "square(9)"
   ]
  },
  {
   "cell_type": "code",
   "execution_count": 24,
   "id": "98c411af-e73c-4e0d-a1d2-4d840d193c20",
   "metadata": {},
   "outputs": [
    {
     "data": {
      "text/plain": [
       "[144, 529, 1156]"
      ]
     },
     "execution_count": 24,
     "metadata": {},
     "output_type": "execute_result"
    }
   ],
   "source": [
    "# lambda and map\n",
    "list(map(lambda num:num**2,lst))"
   ]
  },
  {
   "cell_type": "code",
   "execution_count": 28,
   "id": "819bb3be-6da3-479f-b6ae-0abca834aae2",
   "metadata": {},
   "outputs": [],
   "source": [
    "#lambda and filter fxn\n",
    "check_even=lambda num:num%2==0"
   ]
  },
  {
   "cell_type": "code",
   "execution_count": 29,
   "id": "3f796703-867a-4181-92be-8305c33043b0",
   "metadata": {},
   "outputs": [
    {
     "data": {
      "text/plain": [
       "False"
      ]
     },
     "execution_count": 29,
     "metadata": {},
     "output_type": "execute_result"
    }
   ],
   "source": [
    "check_even(15)"
   ]
  },
  {
   "cell_type": "code",
   "execution_count": 32,
   "id": "2c21c5e5-df2e-426a-bf09-ab2a340c1b0e",
   "metadata": {},
   "outputs": [
    {
     "data": {
      "text/plain": [
       "[2, 4, 6, 8]"
      ]
     },
     "execution_count": 32,
     "metadata": {},
     "output_type": "execute_result"
    }
   ],
   "source": [
    "list(filter(lambda num:num%2==0,num))"
   ]
  },
  {
   "cell_type": "code",
   "execution_count": null,
   "id": "2a3bbda8-b2ef-4077-9483-85f5c3ce79c4",
   "metadata": {},
   "outputs": [],
   "source": []
  }
 ],
 "metadata": {
  "kernelspec": {
   "display_name": "Python 3 (ipykernel)",
   "language": "python",
   "name": "python3"
  },
  "language_info": {
   "codemirror_mode": {
    "name": "ipython",
    "version": 3
   },
   "file_extension": ".py",
   "mimetype": "text/x-python",
   "name": "python",
   "nbconvert_exporter": "python",
   "pygments_lexer": "ipython3",
   "version": "3.10.7"
  }
 },
 "nbformat": 4,
 "nbformat_minor": 5
}
