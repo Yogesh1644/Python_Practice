{
 "cells": [
  {
   "cell_type": "code",
   "execution_count": 125,
   "id": "575a5114-3b4b-47ac-9961-4068dbf64542",
   "metadata": {},
   "outputs": [],
   "source": [
    "class Sample():\n",
    "    pass"
   ]
  },
  {
   "cell_type": "code",
   "execution_count": 126,
   "id": "14f01b02-fe1f-45be-abff-5004091faa07",
   "metadata": {},
   "outputs": [],
   "source": [
    "msample=Sample()"
   ]
  },
  {
   "cell_type": "code",
   "execution_count": 127,
   "id": "7c5df5cf-95f5-48d6-8fa9-d4a2efa04d83",
   "metadata": {},
   "outputs": [
    {
     "data": {
      "text/plain": [
       "<__main__.Sample at 0x1a906daf7f0>"
      ]
     },
     "execution_count": 127,
     "metadata": {},
     "output_type": "execute_result"
    }
   ],
   "source": [
    "msample"
   ]
  },
  {
   "cell_type": "code",
   "execution_count": 128,
   "id": "750b4c48-9c08-4213-8053-36bec4ad526c",
   "metadata": {},
   "outputs": [],
   "source": [
    "class Country():\n",
    "    def __init__(self,Name):\n",
    "        self.Name=Name\n",
    "        \n",
    "        "
   ]
  },
  {
   "cell_type": "code",
   "execution_count": 129,
   "id": "833a4e14-29be-4fdb-a845-a94b91d96033",
   "metadata": {},
   "outputs": [],
   "source": [
    "My_country=Country('Bharat')"
   ]
  },
  {
   "cell_type": "code",
   "execution_count": 130,
   "id": "b8516812-8309-4e09-9d64-f01d922b74d3",
   "metadata": {},
   "outputs": [
    {
     "data": {
      "text/plain": [
       "'Bharat'"
      ]
     },
     "execution_count": 130,
     "metadata": {},
     "output_type": "execute_result"
    }
   ],
   "source": [
    "My_country.Name"
   ]
  },
  {
   "cell_type": "code",
   "execution_count": 131,
   "id": "33708bb0-e66d-4b09-8f8f-9b4bef608740",
   "metadata": {},
   "outputs": [],
   "source": [
    "class Country():\n",
    "    def __init__(self,MyName):\n",
    "        #Attribute\n",
    "        #self.My_attribute\n",
    "        self.Name=MyName # here Name is a attribut\n",
    "         "
   ]
  },
  {
   "cell_type": "markdown",
   "id": "82091dc4-3986-4524-8c49-3a82e1356392",
   "metadata": {},
   "source": [
    "An Object is an instance of a Class. A class is like a blueprint while an instance is a copy of the class with actual values."
   ]
  },
  {
   "cell_type": "code",
   "execution_count": 132,
   "id": "2e42e0e4-4663-492f-836e-e799ae63f697",
   "metadata": {},
   "outputs": [],
   "source": [
    "My_country=Country('Bharat') # Object (Here My_country is an Object)"
   ]
  },
  {
   "cell_type": "code",
   "execution_count": 44,
   "id": "ff9a2232-bbc9-4d19-88cd-e2adefa67b56",
   "metadata": {},
   "outputs": [
    {
     "data": {
      "text/plain": [
       "__main__.Country"
      ]
     },
     "execution_count": 44,
     "metadata": {},
     "output_type": "execute_result"
    }
   ],
   "source": [
    "type(My_country)"
   ]
  },
  {
   "cell_type": "code",
   "execution_count": 133,
   "id": "db5db641-8ce7-4c03-8d20-b11453010c0f",
   "metadata": {},
   "outputs": [
    {
     "data": {
      "text/plain": [
       "'Bharat'"
      ]
     },
     "execution_count": 133,
     "metadata": {},
     "output_type": "execute_result"
    }
   ],
   "source": [
    "My_country.Name"
   ]
  },
  {
   "cell_type": "code",
   "execution_count": 35,
   "id": "bf63b524-6d03-49fa-b634-5734a28f0f92",
   "metadata": {},
   "outputs": [
    {
     "data": {
      "text/plain": [
       "'Bharat'"
      ]
     },
     "execution_count": 35,
     "metadata": {},
     "output_type": "execute_result"
    }
   ],
   "source": [
    "My_country.Name #"
   ]
  },
  {
   "cell_type": "code",
   "execution_count": 38,
   "id": "d15c7cd7-3755-419d-9877-24e328406ab3",
   "metadata": {},
   "outputs": [],
   "source": [
    "class Country():\n",
    "    def __init__(self,Name,Capital,Currency):\n",
    "        # Attributes\n",
    "        # We take in arguments\n",
    "        # Assign it using self.Attributes_name\n",
    "        self.Name=Name\n",
    "        self.Capital=Capital\n",
    "        self.Currency=Currency"
   ]
  },
  {
   "cell_type": "code",
   "execution_count": 39,
   "id": "4f4dce7b-d559-4fa5-b692-8f7dd4e53093",
   "metadata": {},
   "outputs": [],
   "source": [
    "My_country=Country('Bharat','Delhi','Rupya')"
   ]
  },
  {
   "cell_type": "code",
   "execution_count": 40,
   "id": "3ce0ba6c-c851-41fd-b57f-8614aa2e61d5",
   "metadata": {},
   "outputs": [
    {
     "data": {
      "text/plain": [
       "'Rupya'"
      ]
     },
     "execution_count": 40,
     "metadata": {},
     "output_type": "execute_result"
    }
   ],
   "source": [
    "My_country.Currency"
   ]
  },
  {
   "cell_type": "code",
   "execution_count": 45,
   "id": "440f387a-78ad-42eb-ab64-ffd5e0a4b2aa",
   "metadata": {},
   "outputs": [],
   "source": [
    "class Country():\n",
    "    # Class Object Attributes\n",
    "    # Same for any instance of class\n",
    "    Continent='Asia'\n",
    "    def __init__(self,Name,Capital,Currency):\n",
    "        # Attributes\n",
    "        # We take in arguments\n",
    "        # Assign it using self.Attributes_name\n",
    "        self.Name=Name\n",
    "        self.Capital=Capital\n",
    "        self.Currency=Currency\n",
    "    # Operation/Action--->Methods(fxn within classs called Methos)\n",
    "    "
   ]
  },
  {
   "cell_type": "code",
   "execution_count": 46,
   "id": "91e2f191-6208-48d5-9489-7b549281cdbd",
   "metadata": {},
   "outputs": [],
   "source": [
    "My_country=Country(Name='Bharat',Capital='Delhi',Currency='Rupya')"
   ]
  },
  {
   "cell_type": "code",
   "execution_count": 47,
   "id": "ffa698e9-722b-45bf-bf8d-fd91a3fd1b1e",
   "metadata": {},
   "outputs": [
    {
     "data": {
      "text/plain": [
       "'Asia'"
      ]
     },
     "execution_count": 47,
     "metadata": {},
     "output_type": "execute_result"
    }
   ],
   "source": [
    "My_country.Continent # if you will enter Tab after My_country. then you will find Continent Attributes also even we did not pass argument Continent"
   ]
  },
  {
   "cell_type": "code",
   "execution_count": 1,
   "id": "82abeba4-0332-4afb-8108-1d26e5dac66e",
   "metadata": {},
   "outputs": [],
   "source": [
    "class Country():\n",
    "    # Class Object Attributes\n",
    "    # Same for any instance of class\n",
    "    Continent='Asia'\n",
    "    def __init__(self,Name):\n",
    "        # Attributes\n",
    "        # We take in arguments\n",
    "        # Assign it using self.Attributes_name\n",
    "        self.Name=Name \n",
    "    # Operation/Action--->Methods(fxn within classs called Methos)\n",
    "    def greet(self,message):\n",
    "        print(f'{message} {self.Name}')\n",
    "        "
   ]
  },
  {
   "cell_type": "code",
   "execution_count": 2,
   "id": "dfbedf6c-6690-46db-a3b9-0b70cc30eded",
   "metadata": {},
   "outputs": [],
   "source": [
    "My_Country=Country('Nepal')"
   ]
  },
  {
   "cell_type": "code",
   "execution_count": 3,
   "id": "8eadb4f0-92d4-4925-9026-d7565b19203d",
   "metadata": {},
   "outputs": [
    {
     "data": {
      "text/plain": [
       "'Nepal'"
      ]
     },
     "execution_count": 3,
     "metadata": {},
     "output_type": "execute_result"
    }
   ],
   "source": [
    "My_Country.Name"
   ]
  },
  {
   "cell_type": "code",
   "execution_count": 5,
   "id": "83adb9a1-b1b8-44d4-b411-f623012d7ede",
   "metadata": {},
   "outputs": [
    {
     "name": "stdout",
     "output_type": "stream",
     "text": [
      "Namestay Nepal\n"
     ]
    }
   ],
   "source": [
    "My_Country.greet('Namestay') #to call Methods use paranthiasis"
   ]
  },
  {
   "cell_type": "code",
   "execution_count": null,
   "id": "e12970de-2b36-43a3-bea3-41761bf0479c",
   "metadata": {},
   "outputs": [],
   "source": []
  },
  {
   "cell_type": "code",
   "execution_count": null,
   "id": "69b94ff3-92d3-4d47-9e62-3e0aaf2771c2",
   "metadata": {},
   "outputs": [],
   "source": []
  },
  {
   "cell_type": "code",
   "execution_count": 42,
   "id": "581b8675-ea82-416b-b1ab-22994598be67",
   "metadata": {},
   "outputs": [],
   "source": [
    "class Circle():\n",
    "    # class object attributes\n",
    "    pi=3.1415\n",
    "    def __init__(self,Dia=1):\n",
    "        self.diameter=Dia\n",
    "    # Methods\n",
    "    def Circumferrence(self): \n",
    "        return print(f'{self.pi*self.diameter}cm') \n",
    "        \n",
    "        "
   ]
  },
  {
   "cell_type": "code",
   "execution_count": 43,
   "id": "a698e846-7985-488b-bfe5-83e96565fc5f",
   "metadata": {},
   "outputs": [],
   "source": [
    "My_circle=Circle(12)"
   ]
  },
  {
   "cell_type": "code",
   "execution_count": 44,
   "id": "7e0541aa-2849-44bc-bebb-cd2df31af4f2",
   "metadata": {},
   "outputs": [
    {
     "data": {
      "text/plain": [
       "12"
      ]
     },
     "execution_count": 44,
     "metadata": {},
     "output_type": "execute_result"
    }
   ],
   "source": [
    "My_circle.diameter"
   ]
  },
  {
   "cell_type": "code",
   "execution_count": 45,
   "id": "9081426c-bc8b-4f42-a08e-b0a246d74c94",
   "metadata": {},
   "outputs": [
    {
     "name": "stdout",
     "output_type": "stream",
     "text": [
      "37.698cm\n"
     ]
    }
   ],
   "source": [
    "My_circle.Circumferrence()"
   ]
  },
  {
   "cell_type": "code",
   "execution_count": 57,
   "id": "8091fa6c-8e36-4435-ae25-1c03f0fcaeee",
   "metadata": {},
   "outputs": [],
   "source": [
    "class Circle():\n",
    "    # class object attributes\n",
    "    pi=3.1415\n",
    "    def __init__(self,Dia=1):\n",
    "        self.diameter=Dia\n",
    "        # we can also define a instance without defining as argument \n",
    "        self.area=(Circle.pi/4)*Dia*Dia   # for class object attributes(pi) we can also use class_name.Attribute(Circle.Pi)\n",
    "    # Methods\n",
    "    def Circumferrence(self): \n",
    "        return print(f'{Circle.pi*self.diameter}cm') "
   ]
  },
  {
   "cell_type": "code",
   "execution_count": 58,
   "id": "5684bd22-62cb-40d0-a224-591d35e45ce9",
   "metadata": {},
   "outputs": [],
   "source": [
    "My_circle=Circle(5)"
   ]
  },
  {
   "cell_type": "code",
   "execution_count": 59,
   "id": "86ec2f3d-cec4-4188-860c-fa53cf4e27f2",
   "metadata": {},
   "outputs": [
    {
     "data": {
      "text/plain": [
       "19.634375000000002"
      ]
     },
     "execution_count": 59,
     "metadata": {},
     "output_type": "execute_result"
    }
   ],
   "source": [
    "My_circle.area"
   ]
  },
  {
   "cell_type": "markdown",
   "id": "824a282e-258b-4ee3-ba02-795de29a80cd",
   "metadata": {},
   "source": [
    "# Inheritance"
   ]
  },
  {
   "cell_type": "code",
   "execution_count": 113,
   "id": "e2f83aab-d860-497e-bdc1-51570c5ee832",
   "metadata": {},
   "outputs": [],
   "source": [
    "#Base class\n",
    "class Country():\n",
    "    def __init__(self):\n",
    "        print('My country is INDIA')\n",
    "    def Currency(self):\n",
    "        print(\"Our Currency is RPUEES\")\n",
    "    def Capital(Self):\n",
    "        print('Delhi is our Country Capial')"
   ]
  },
  {
   "cell_type": "code",
   "execution_count": 73,
   "id": "64c7fb71-6ace-4220-97fc-de38e31714fb",
   "metadata": {},
   "outputs": [
    {
     "name": "stdout",
     "output_type": "stream",
     "text": [
      "My country is INDIA\n"
     ]
    }
   ],
   "source": [
    "My_country=Country()"
   ]
  },
  {
   "cell_type": "code",
   "execution_count": 74,
   "id": "ea442735-6590-4b52-a98a-ef359b7804aa",
   "metadata": {},
   "outputs": [
    {
     "name": "stdout",
     "output_type": "stream",
     "text": [
      "Our Currency is RPUEES\n"
     ]
    }
   ],
   "source": [
    "My_country.Currency()"
   ]
  },
  {
   "cell_type": "code",
   "execution_count": 119,
   "id": "88c81fb5-318e-41ca-9151-67b87d25fdab",
   "metadata": {},
   "outputs": [],
   "source": [
    "class State(Country): # here we are inheariting class Country in State\n",
    "    def __init__(self,State_name):\n",
    "        self.S_name=State_name\n",
    "        Country.__init__(self)\n",
    "    def S_Capital(self,S_Capital):\n",
    "        print(f'My State Capital is {S_Capital}')\n",
    "\n",
    "# we can also reWrite method of inhearited class\n",
    "    def Capital(Self):\n",
    "        print('Our Countr Capital is New Delhi but previous one was Kolkata') # We rewrite the existing base class Method "
   ]
  },
  {
   "cell_type": "code",
   "execution_count": 120,
   "id": "e9353a66-50f8-416a-9a70-8505053a8db5",
   "metadata": {},
   "outputs": [
    {
     "name": "stdout",
     "output_type": "stream",
     "text": [
      "My country is INDIA\n"
     ]
    }
   ],
   "source": [
    "my_state=State('BIHAR')"
   ]
  },
  {
   "cell_type": "code",
   "execution_count": 121,
   "id": "05f59352-c2ae-4766-9359-9f76aeef86a8",
   "metadata": {},
   "outputs": [
    {
     "data": {
      "text/plain": [
       "'BIHAR'"
      ]
     },
     "execution_count": 121,
     "metadata": {},
     "output_type": "execute_result"
    }
   ],
   "source": [
    "my_state.S_name"
   ]
  },
  {
   "cell_type": "code",
   "execution_count": 122,
   "id": "d09bb0b9-cc9f-4bbe-bda5-4360f0abbb01",
   "metadata": {},
   "outputs": [
    {
     "name": "stdout",
     "output_type": "stream",
     "text": [
      "My State Capital is Patna\n"
     ]
    }
   ],
   "source": [
    "my_state.S_Capital('Patna')"
   ]
  },
  {
   "cell_type": "code",
   "execution_count": null,
   "id": "a36ee9b2-fdaf-45c4-bf1a-b76077872e99",
   "metadata": {},
   "outputs": [],
   "source": [
    "my_state."
   ]
  },
  {
   "cell_type": "code",
   "execution_count": 123,
   "id": "66f4c46f-b691-4e1d-888c-b3465b6d0185",
   "metadata": {},
   "outputs": [
    {
     "name": "stdout",
     "output_type": "stream",
     "text": [
      "Our Countr Capital is New Delhi but previous one was Kolkata\n"
     ]
    }
   ],
   "source": [
    "my_state.Capital()"
   ]
  },
  {
   "cell_type": "markdown",
   "id": "dd94e1f0-f909-420d-a32e-846938106f35",
   "metadata": {},
   "source": [
    "# PoleyMorphism :\n",
    "When difft. classes and object can share same method names; while there signature will be difft.\n"
   ]
  },
  {
   "cell_type": "code",
   "execution_count": 142,
   "id": "fbe0fe01-39c9-4724-b94e-a4d8b4ee509d",
   "metadata": {},
   "outputs": [],
   "source": [
    "class India():\n",
    "    def __init__(self,Name):\n",
    "        self.name=Name\n",
    "    def greet(self):\n",
    "        return 'Namestay everyone I am from ' + self.name"
   ]
  },
  {
   "cell_type": "code",
   "execution_count": 143,
   "id": "9cd54fa0-bae8-4f30-95ae-f63bcb92064f",
   "metadata": {},
   "outputs": [],
   "source": [
    "class Briten():\n",
    "    def __init__(self,Name):\n",
    "        self.name=Name\n",
    "    def greet(self):\n",
    "        return 'Hello everyone I am from ' + self.name"
   ]
  },
  {
   "cell_type": "code",
   "execution_count": null,
   "id": "1a9be069-ccd9-4b8b-9acc-32694175c5c7",
   "metadata": {},
   "outputs": [],
   "source": [
    "#Here greet()"
   ]
  },
  {
   "cell_type": "code",
   "execution_count": 144,
   "id": "5200fcf5-d6ac-494c-894c-2dd6747ac3a0",
   "metadata": {},
   "outputs": [],
   "source": [
    "Bharat=India('India')"
   ]
  },
  {
   "cell_type": "code",
   "execution_count": 145,
   "id": "bba631cf-314f-4b23-b9f3-38244ab89fea",
   "metadata": {},
   "outputs": [],
   "source": [
    "England=Briten('England')"
   ]
  },
  {
   "cell_type": "code",
   "execution_count": 146,
   "id": "e435bb72-949c-4df6-9fd2-9cf5fc7622c7",
   "metadata": {},
   "outputs": [
    {
     "data": {
      "text/plain": [
       "'Namestay everyone I am from India'"
      ]
     },
     "execution_count": 146,
     "metadata": {},
     "output_type": "execute_result"
    }
   ],
   "source": [
    "Bharat.greet()"
   ]
  },
  {
   "cell_type": "code",
   "execution_count": 147,
   "id": "8c4676a9-b7d5-4db6-af66-1d6082651b68",
   "metadata": {},
   "outputs": [
    {
     "data": {
      "text/plain": [
       "'Hello everyone I am from England'"
      ]
     },
     "execution_count": 147,
     "metadata": {},
     "output_type": "execute_result"
    }
   ],
   "source": [
    "England.greet()"
   ]
  },
  {
   "cell_type": "code",
   "execution_count": null,
   "id": "dad40475-4e44-4cb3-adfc-0f396a07044d",
   "metadata": {},
   "outputs": [],
   "source": []
  }
 ],
 "metadata": {
  "kernelspec": {
   "display_name": "Python 3 (ipykernel)",
   "language": "python",
   "name": "python3"
  },
  "language_info": {
   "codemirror_mode": {
    "name": "ipython",
    "version": 3
   },
   "file_extension": ".py",
   "mimetype": "text/x-python",
   "name": "python",
   "nbconvert_exporter": "python",
   "pygments_lexer": "ipython3",
   "version": "3.10.7"
  }
 },
 "nbformat": 4,
 "nbformat_minor": 5
}
