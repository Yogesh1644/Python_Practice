{
 "cells": [
  {
   "cell_type": "markdown",
   "id": "02e59868-8d7f-4253-bb7d-a13737b14ffc",
   "metadata": {},
   "source": [
    "# LEGB Rule:\r\n",
    "\r\n",
    "L: Local — Names assigned in any way within a function (def or lambda), and not declared global in that function.\r\n",
    "\r\n",
    "E: Enclosing function locals — Names in the local scope of any and all enclosing functions (def or lambda), from inner to outer.\r\n",
    "\r\n",
    "G: Global (module) — Names assigned at the top-level of a module file, or declared global in a def within the file.\r\n",
    "\r\n",
    "B: Built-in (Python) — Names preassigned in the built-in names module : open, range, SyntaxError,..."
   ]
  },
  {
   "cell_type": "code",
   "execution_count": 9,
   "id": "fef8a337-0400-4422-a012-eb4a224a4cc2",
   "metadata": {},
   "outputs": [],
   "source": [
    "#globel variable\n",
    "name='I am globel'\n",
    "def greet():\n",
    "    # Enclosing\n",
    "    name='Toney'\n",
    "    def hello():\n",
    "        # Local\n",
    "        name=' I am local'\n",
    "        print('Hello '+name)\n",
    "    hello()"
   ]
  },
  {
   "cell_type": "code",
   "execution_count": 10,
   "id": "97c7ebe3-6ef2-446c-b76a-036998af6a6e",
   "metadata": {},
   "outputs": [
    {
     "name": "stdout",
     "output_type": "stream",
     "text": [
      "Hello  I am local\n"
     ]
    }
   ],
   "source": [
    "greet()"
   ]
  },
  {
   "cell_type": "code",
   "execution_count": null,
   "id": "2e334e0f-1c59-45c7-9aab-48db427f4fe2",
   "metadata": {},
   "outputs": [],
   "source": []
  }
 ],
 "metadata": {
  "kernelspec": {
   "display_name": "Python 3 (ipykernel)",
   "language": "python",
   "name": "python3"
  },
  "language_info": {
   "codemirror_mode": {
    "name": "ipython",
    "version": 3
   },
   "file_extension": ".py",
   "mimetype": "text/x-python",
   "name": "python",
   "nbconvert_exporter": "python",
   "pygments_lexer": "ipython3",
   "version": "3.12.5"
  }
 },
 "nbformat": 4,
 "nbformat_minor": 5
}
