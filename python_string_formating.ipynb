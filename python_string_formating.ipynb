{
 "cells": [
  {
   "cell_type": "markdown",
   "id": "1264dbe3",
   "metadata": {},
   "source": [
    "#String Formatting\n",
    "======================"
   ]
  },
  {
   "cell_type": "markdown",
   "id": "c489fb81",
   "metadata": {},
   "source": [
    "1.Formatting with the .format() method:\n",
    "A better way to format objects into your strings for print statements is with the string .format() method. The syntax is:\n",
    "\n",
    "'String here {} then also {}'.format('something1','something2')\n"
   ]
  },
  {
   "cell_type": "code",
   "execution_count": 4,
   "id": "aa919823",
   "metadata": {},
   "outputs": [
    {
     "name": "stdout",
     "output_type": "stream",
     "text": [
      "hello INDIA namestay\n"
     ]
    }
   ],
   "source": [
    "print(\"hello {} namestay\".format('INDIA'))"
   ]
  },
  {
   "cell_type": "markdown",
   "id": "acdd75bd",
   "metadata": {},
   "source": [
    "print(\"hi {}.I'm going to {}\".format('Arun','Patna'))"
   ]
  },
  {
   "cell_type": "code",
   "execution_count": 11,
   "id": "655557c3",
   "metadata": {},
   "outputs": [
    {
     "name": "stdout",
     "output_type": "stream",
     "text": [
      "the Child, Women and Puppy\n"
     ]
    }
   ],
   "source": [
    "print(\"the {}, {} and {}\".format('Child','Women','Puppy'))"
   ]
  },
  {
   "cell_type": "code",
   "execution_count": 12,
   "id": "d8745384",
   "metadata": {},
   "outputs": [
    {
     "name": "stdout",
     "output_type": "stream",
     "text": [
      "the Women, Child and Child\n"
     ]
    }
   ],
   "source": [
    "# By passing Index number\n",
    "print(\"the {1}, {0} and {0}\".format('Child','Women','Puppy'))"
   ]
  },
  {
   "cell_type": "code",
   "execution_count": 13,
   "id": "d897b9ea",
   "metadata": {},
   "outputs": [
    {
     "name": "stdout",
     "output_type": "stream",
     "text": [
      "the Puppy, Women and Child\n"
     ]
    }
   ],
   "source": [
    "# By passing Index variable\n",
    "print(\"the {p}, {w} and {c}\".format(c='Child',w='Women',p='Puppy'))"
   ]
  },
  {
   "cell_type": "markdown",
   "id": "d275b3d3",
   "metadata": {},
   "source": [
    "Float formatting follows  {value:width.precisionf}\" "
   ]
  },
  {
   "cell_type": "code",
   "execution_count": 15,
   "id": "2460e960",
   "metadata": {},
   "outputs": [],
   "source": [
    "result=102/758"
   ]
  },
  {
   "cell_type": "code",
   "execution_count": 16,
   "id": "b86acd77",
   "metadata": {},
   "outputs": [
    {
     "data": {
      "text/plain": [
       "0.1345646437994723"
      ]
     },
     "execution_count": 16,
     "metadata": {},
     "output_type": "execute_result"
    }
   ],
   "source": [
    "result"
   ]
  },
  {
   "cell_type": "code",
   "execution_count": 18,
   "id": "fe9a7eb9",
   "metadata": {},
   "outputs": [
    {
     "name": "stdout",
     "output_type": "stream",
     "text": [
      "result is 0.1345646437994723 \n"
     ]
    }
   ],
   "source": [
    "print(\"result is {r} \".format(r=result))"
   ]
  },
  {
   "cell_type": "code",
   "execution_count": 25,
   "id": "79fd7f26",
   "metadata": {},
   "outputs": [
    {
     "name": "stdout",
     "output_type": "stream",
     "text": [
      "result is    0.135 \n"
     ]
    }
   ],
   "source": [
    "print(\"result is {r:8.3f} \".format(r=result))"
   ]
  },
  {
   "cell_type": "code",
   "execution_count": 33,
   "id": "c8aa96f7",
   "metadata": {},
   "outputs": [],
   "source": [
    "name=\"Riya\"\n",
    "age=12"
   ]
  },
  {
   "cell_type": "code",
   "execution_count": 34,
   "id": "8c9dd9e2",
   "metadata": {},
   "outputs": [
    {
     "name": "stdout",
     "output_type": "stream",
     "text": [
      "hello, she is Riya\n"
     ]
    }
   ],
   "source": [
    "print(\"hello, she is {}\".format(name))"
   ]
  },
  {
   "cell_type": "markdown",
   "id": "3071b4d4",
   "metadata": {},
   "source": [
    "Method2"
   ]
  },
  {
   "cell_type": "code",
   "execution_count": 35,
   "id": "296c23ab",
   "metadata": {},
   "outputs": [
    {
     "name": "stdout",
     "output_type": "stream",
     "text": [
      "hello, she is Riya\n"
     ]
    }
   ],
   "source": [
    "print(f\"hello, she is {name}\")"
   ]
  },
  {
   "cell_type": "code",
   "execution_count": 37,
   "id": "9b666620",
   "metadata": {},
   "outputs": [
    {
     "name": "stdout",
     "output_type": "stream",
     "text": [
      "hello, Riya is 12 year old\n"
     ]
    }
   ],
   "source": [
    "print(f'hello, {name} is {age} year old')"
   ]
  },
  {
   "cell_type": "code",
   "execution_count": null,
   "id": "6631eba0",
   "metadata": {},
   "outputs": [],
   "source": []
  }
 ],
 "metadata": {
  "kernelspec": {
   "display_name": "Python 3 (ipykernel)",
   "language": "python",
   "name": "python3"
  },
  "language_info": {
   "codemirror_mode": {
    "name": "ipython",
    "version": 3
   },
   "file_extension": ".py",
   "mimetype": "text/x-python",
   "name": "python",
   "nbconvert_exporter": "python",
   "pygments_lexer": "ipython3",
   "version": "3.12.5"
  }
 },
 "nbformat": 4,
 "nbformat_minor": 5
}
