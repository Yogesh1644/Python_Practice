{
 "cells": [
  {
   "cell_type": "code",
   "execution_count": 2,
   "id": "2bd238bc-0945-46c8-b75e-e7c9c0ec7357",
   "metadata": {},
   "outputs": [],
   "source": [
    "import requests"
   ]
  },
  {
   "cell_type": "code",
   "execution_count": 2,
   "id": "7480b6a6-2621-403a-9100-77900008106b",
   "metadata": {},
   "outputs": [],
   "source": [
    "result=requests.get(\"https://en.wikipedia.org\")"
   ]
  },
  {
   "cell_type": "code",
   "execution_count": 3,
   "id": "e7927381-67f0-45cf-9311-074ce239e75a",
   "metadata": {},
   "outputs": [
    {
     "data": {
      "text/plain": [
       "requests.models.Response"
      ]
     },
     "execution_count": 3,
     "metadata": {},
     "output_type": "execute_result"
    }
   ],
   "source": [
    "type(result)"
   ]
  },
  {
   "cell_type": "code",
   "execution_count": 14,
   "id": "52875e0a-dfc5-47e8-958e-b85c41e7ad1c",
   "metadata": {},
   "outputs": [],
   "source": [
    "#result.text"
   ]
  },
  {
   "cell_type": "code",
   "execution_count": 3,
   "id": "0e453ec9-1bdd-4949-8e86-ffc6aa51bd5e",
   "metadata": {},
   "outputs": [],
   "source": [
    "import bs4"
   ]
  },
  {
   "cell_type": "code",
   "execution_count": 5,
   "id": "9fccd18f-6238-4bc1-839a-c13a4e0ce561",
   "metadata": {},
   "outputs": [],
   "source": [
    "soup=bs4.BeautifulSoup(result.text,\"lxml\")"
   ]
  },
  {
   "cell_type": "code",
   "execution_count": 15,
   "id": "c9bfa16e-a1d6-4c0f-b275-8ea3db66e752",
   "metadata": {},
   "outputs": [],
   "source": [
    "#soup"
   ]
  },
  {
   "cell_type": "code",
   "execution_count": 6,
   "id": "25e6cfab-a21d-431f-afa4-2703764d72fa",
   "metadata": {},
   "outputs": [
    {
     "data": {
      "text/plain": [
       "[<title>Wikipedia, the free encyclopedia</title>]"
      ]
     },
     "execution_count": 6,
     "metadata": {},
     "output_type": "execute_result"
    }
   ],
   "source": [
    "# to get title\n",
    "soup.select(\"title\")"
   ]
  },
  {
   "cell_type": "code",
   "execution_count": 7,
   "id": "b25b7add-0096-4faf-851c-3c6738b5081d",
   "metadata": {},
   "outputs": [
    {
     "data": {
      "text/plain": [
       "'Wikipedia, the free encyclopedia'"
      ]
     },
     "execution_count": 7,
     "metadata": {},
     "output_type": "execute_result"
    }
   ],
   "source": [
    "soup.select(\"title\")[0].getText()"
   ]
  },
  {
   "cell_type": "markdown",
   "id": "a358c957-5d5a-43de-bc07-317906f482df",
   "metadata": {},
   "source": [
    "# to get paragraph pass p tag it will return all paragraph in the form of list\n",
    "soup.select('p')"
   ]
  },
  {
   "cell_type": "markdown",
   "id": "f42d0360-f864-4d1c-8572-8db74c436424",
   "metadata": {},
   "source": [
    "# to get head pass h1\n",
    "soup.select('h1')"
   ]
  },
  {
   "cell_type": "code",
   "execution_count": 23,
   "id": "b3226582-1b25-4f9f-a140-22d92cbb6964",
   "metadata": {},
   "outputs": [],
   "source": [
    "re=requests.get('https://en.wikipedia.org/wiki/Grace_Hopper')"
   ]
  },
  {
   "cell_type": "code",
   "execution_count": 24,
   "id": "c00a5745-276e-4048-973b-2748cab58176",
   "metadata": {},
   "outputs": [],
   "source": [
    "soup=bs4.BeautifulSoup(re.text,\"lxml\")"
   ]
  },
  {
   "cell_type": "code",
   "execution_count": 34,
   "id": "1fe24a7d-9daa-4ecf-8731-4a6f72333236",
   "metadata": {},
   "outputs": [
    {
     "data": {
      "text/plain": [
       "<div class=\"vector-toc-text\">\n",
       "<span class=\"vector-toc-numb\">1</span>\n",
       "<span>Early life and education</span>\n",
       "</div>"
      ]
     },
     "execution_count": 34,
     "metadata": {},
     "output_type": "execute_result"
    }
   ],
   "source": [
    "soup.select('.vector-toc-text')[1]"
   ]
  },
  {
   "cell_type": "code",
   "execution_count": 4,
   "id": "a967e134-6035-4fab-ac55-fc1eb3780f08",
   "metadata": {},
   "outputs": [],
   "source": [
    "res=requests.get('https://en.wikipedia.org/wiki/Cricket')"
   ]
  },
  {
   "cell_type": "code",
   "execution_count": 5,
   "id": "a5d26549-5e18-489b-8e48-229d84892d13",
   "metadata": {},
   "outputs": [],
   "source": [
    "soup=bs4.BeautifulSoup(res.text,'lxml')"
   ]
  },
  {
   "cell_type": "code",
   "execution_count": 9,
   "id": "79cf4d31-4112-4748-896f-17ccad457f6c",
   "metadata": {},
   "outputs": [],
   "source": [
    "#soup"
   ]
  },
  {
   "cell_type": "code",
   "execution_count": 11,
   "id": "76cc536a-d2e1-48fa-8536-722a8134702b",
   "metadata": {},
   "outputs": [],
   "source": [
    "#soup.select('img')"
   ]
  },
  {
   "cell_type": "code",
   "execution_count": 12,
   "id": "9bc1733d-c049-42a4-9df3-5475f181d56b",
   "metadata": {},
   "outputs": [
    {
     "data": {
      "text/plain": [
       "[<img alt=\"Page semi-protected\" class=\"mw-file-element\" data-file-height=\"512\" data-file-width=\"512\" decoding=\"async\" height=\"20\" src=\"//upload.wikimedia.org/wikipedia/en/thumb/1/1b/Semi-protection-shackle.svg/20px-Semi-protection-shackle.svg.png\" srcset=\"//upload.wikimedia.org/wikipedia/en/thumb/1/1b/Semi-protection-shackle.svg/30px-Semi-protection-shackle.svg.png 1.5x, //upload.wikimedia.org/wikipedia/en/thumb/1/1b/Semi-protection-shackle.svg/40px-Semi-protection-shackle.svg.png 2x\" width=\"20\"/>,\n",
       " <img class=\"mw-file-element\" data-file-height=\"555\" data-file-width=\"1280\" decoding=\"async\" height=\"130\" src=\"//upload.wikimedia.org/wikipedia/commons/thumb/7/7a/Pollock_to_Hussey.jpg/300px-Pollock_to_Hussey.jpg\" srcset=\"//upload.wikimedia.org/wikipedia/commons/thumb/7/7a/Pollock_to_Hussey.jpg/450px-Pollock_to_Hussey.jpg 1.5x, //upload.wikimedia.org/wikipedia/commons/thumb/7/7a/Pollock_to_Hussey.jpg/600px-Pollock_to_Hussey.jpg 2x\" width=\"300\"/>,\n",
       " <img alt=\"Cricket pictogram\" class=\"mw-file-element\" data-file-height=\"512\" data-file-width=\"512\" decoding=\"async\" height=\"45\" src=\"//upload.wikimedia.org/wikipedia/commons/thumb/e/e8/Cricket_-_The_Noun_Project.svg/45px-Cricket_-_The_Noun_Project.svg.png\" srcset=\"//upload.wikimedia.org/wikipedia/commons/thumb/e/e8/Cricket_-_The_Noun_Project.svg/68px-Cricket_-_The_Noun_Project.svg.png 1.5x, //upload.wikimedia.org/wikipedia/commons/thumb/e/e8/Cricket_-_The_Noun_Project.svg/90px-Cricket_-_The_Noun_Project.svg.png 2x\" width=\"45\"/>,\n",
       " <img class=\"mw-file-element\" data-file-height=\"286\" data-file-width=\"300\" decoding=\"async\" height=\"210\" src=\"//upload.wikimedia.org/wikipedia/commons/thumb/3/38/Cantigas_de_Santa_Mar%C3%ADa_-_Xogo_da_pelota.jpg/220px-Cantigas_de_Santa_Mar%C3%ADa_-_Xogo_da_pelota.jpg\" srcset=\"//upload.wikimedia.org/wikipedia/commons/3/38/Cantigas_de_Santa_Mar%C3%ADa_-_Xogo_da_pelota.jpg 1.5x\" width=\"220\"/>,\n",
       " <img class=\"mw-file-element\" data-file-height=\"866\" data-file-width=\"956\" decoding=\"async\" height=\"199\" src=\"//upload.wikimedia.org/wikipedia/commons/thumb/d/dc/Historical_cricket_bat_art.jpg/220px-Historical_cricket_bat_art.jpg\" srcset=\"//upload.wikimedia.org/wikipedia/commons/thumb/d/dc/Historical_cricket_bat_art.jpg/330px-Historical_cricket_bat_art.jpg 1.5x, //upload.wikimedia.org/wikipedia/commons/thumb/d/dc/Historical_cricket_bat_art.jpg/440px-Historical_cricket_bat_art.jpg 2x\" width=\"220\"/>,\n",
       " <img class=\"mw-file-element\" data-file-height=\"4690\" data-file-width=\"3060\" decoding=\"async\" height=\"261\" src=\"//upload.wikimedia.org/wikipedia/commons/thumb/a/a9/Francis_Cotes_-_The_young_cricketer_%281768%29.jpg/170px-Francis_Cotes_-_The_young_cricketer_%281768%29.jpg\" srcset=\"//upload.wikimedia.org/wikipedia/commons/thumb/a/a9/Francis_Cotes_-_The_young_cricketer_%281768%29.jpg/255px-Francis_Cotes_-_The_young_cricketer_%281768%29.jpg 1.5x, //upload.wikimedia.org/wikipedia/commons/thumb/a/a9/Francis_Cotes_-_The_young_cricketer_%281768%29.jpg/340px-Francis_Cotes_-_The_young_cricketer_%281768%29.jpg 2x\" width=\"170\"/>,\n",
       " <img class=\"mw-file-element\" data-file-height=\"603\" data-file-width=\"1374\" decoding=\"async\" height=\"97\" src=\"//upload.wikimedia.org/wikipedia/commons/thumb/d/d1/First_photo_of_a_cricket_match_by_Roger_Fenton.jpg/220px-First_photo_of_a_cricket_match_by_Roger_Fenton.jpg\" srcset=\"//upload.wikimedia.org/wikipedia/commons/thumb/d/d1/First_photo_of_a_cricket_match_by_Roger_Fenton.jpg/330px-First_photo_of_a_cricket_match_by_Roger_Fenton.jpg 1.5x, //upload.wikimedia.org/wikipedia/commons/thumb/d/d1/First_photo_of_a_cricket_match_by_Roger_Fenton.jpg/440px-First_photo_of_a_cricket_match_by_Roger_Fenton.jpg 2x\" width=\"220\"/>,\n",
       " <img class=\"mw-file-element\" data-file-height=\"643\" data-file-width=\"937\" decoding=\"async\" height=\"151\" src=\"//upload.wikimedia.org/wikipedia/commons/thumb/8/84/England_in_North_America_1859.jpg/220px-England_in_North_America_1859.jpg\" srcset=\"//upload.wikimedia.org/wikipedia/commons/thumb/8/84/England_in_North_America_1859.jpg/330px-England_in_North_America_1859.jpg 1.5x, //upload.wikimedia.org/wikipedia/commons/thumb/8/84/England_in_North_America_1859.jpg/440px-England_in_North_America_1859.jpg 2x\" width=\"220\"/>,\n",
       " <img class=\"mw-file-element\" data-file-height=\"802\" data-file-width=\"615\" decoding=\"async\" height=\"222\" src=\"//upload.wikimedia.org/wikipedia/commons/thumb/1/19/Bradman%26Bat.jpg/170px-Bradman%26Bat.jpg\" srcset=\"//upload.wikimedia.org/wikipedia/commons/thumb/1/19/Bradman%26Bat.jpg/255px-Bradman%26Bat.jpg 1.5x, //upload.wikimedia.org/wikipedia/commons/thumb/1/19/Bradman%26Bat.jpg/340px-Bradman%26Bat.jpg 2x\" width=\"170\"/>,\n",
       " <img class=\"mw-file-element\" data-file-height=\"342\" data-file-width=\"635\" decoding=\"async\" height=\"108\" src=\"//upload.wikimedia.org/wikipedia/commons/thumb/9/91/SRH_fans_while_an_ipl_match.jpg/200px-SRH_fans_while_an_ipl_match.jpg\" srcset=\"//upload.wikimedia.org/wikipedia/commons/thumb/9/91/SRH_fans_while_an_ipl_match.jpg/300px-SRH_fans_while_an_ipl_match.jpg 1.5x, //upload.wikimedia.org/wikipedia/commons/thumb/9/91/SRH_fans_while_an_ipl_match.jpg/400px-SRH_fans_while_an_ipl_match.jpg 2x\" width=\"200\"/>,\n",
       " <img class=\"mw-file-element\" data-file-height=\"2200\" data-file-width=\"2000\" decoding=\"async\" height=\"220\" src=\"//upload.wikimedia.org/wikipedia/commons/thumb/2/2c/Cricket_field_parts.svg/200px-Cricket_field_parts.svg.png\" srcset=\"//upload.wikimedia.org/wikipedia/commons/thumb/2/2c/Cricket_field_parts.svg/300px-Cricket_field_parts.svg.png 1.5x, //upload.wikimedia.org/wikipedia/commons/thumb/2/2c/Cricket_field_parts.svg/400px-Cricket_field_parts.svg.png 2x\" width=\"200\"/>,\n",
       " <img class=\"mw-file-element\" data-file-height=\"1000\" data-file-width=\"3200\" decoding=\"async\" height=\"234\" src=\"//upload.wikimedia.org/wikipedia/commons/thumb/c/cb/Cricket_pitch.svg/750px-Cricket_pitch.svg.png\" srcset=\"//upload.wikimedia.org/wikipedia/commons/thumb/c/cb/Cricket_pitch.svg/1125px-Cricket_pitch.svg.png 1.5x, //upload.wikimedia.org/wikipedia/commons/thumb/c/cb/Cricket_pitch.svg/1500px-Cricket_pitch.svg.png 2x\" width=\"750\"/>,\n",
       " <img class=\"mw-file-element\" data-file-height=\"2048\" data-file-width=\"1536\" decoding=\"async\" height=\"227\" src=\"//upload.wikimedia.org/wikipedia/commons/thumb/c/c6/A_modern_Cricket_bat_%28back_view%29.jpg/170px-A_modern_Cricket_bat_%28back_view%29.jpg\" srcset=\"//upload.wikimedia.org/wikipedia/commons/thumb/c/c6/A_modern_Cricket_bat_%28back_view%29.jpg/255px-A_modern_Cricket_bat_%28back_view%29.jpg 1.5x, //upload.wikimedia.org/wikipedia/commons/thumb/c/c6/A_modern_Cricket_bat_%28back_view%29.jpg/340px-A_modern_Cricket_bat_%28back_view%29.jpg 2x\" width=\"170\"/>,\n",
       " <img class=\"mw-file-element\" data-file-height=\"789\" data-file-width=\"494\" decoding=\"async\" height=\"272\" src=\"//upload.wikimedia.org/wikipedia/commons/thumb/2/2e/WGGrace.jpg/170px-WGGrace.jpg\" srcset=\"//upload.wikimedia.org/wikipedia/commons/thumb/2/2e/WGGrace.jpg/255px-WGGrace.jpg 1.5x, //upload.wikimedia.org/wikipedia/commons/thumb/2/2e/WGGrace.jpg/340px-WGGrace.jpg 2x\" width=\"170\"/>,\n",
       " <img alt=\"Used white ball\" class=\"mw-file-element\" data-file-height=\"627\" data-file-width=\"630\" decoding=\"async\" height=\"149\" src=\"//upload.wikimedia.org/wikipedia/commons/thumb/e/ee/White_ball_2_%28cropped%29.JPG/150px-White_ball_2_%28cropped%29.JPG\" srcset=\"//upload.wikimedia.org/wikipedia/commons/thumb/e/ee/White_ball_2_%28cropped%29.JPG/225px-White_ball_2_%28cropped%29.JPG 1.5x, //upload.wikimedia.org/wikipedia/commons/thumb/e/ee/White_ball_2_%28cropped%29.JPG/300px-White_ball_2_%28cropped%29.JPG 2x\" width=\"150\"/>,\n",
       " <img alt=\"Used red ball\" class=\"mw-file-element\" data-file-height=\"1108\" data-file-width=\"1110\" decoding=\"async\" height=\"150\" src=\"//upload.wikimedia.org/wikipedia/commons/thumb/1/11/Used_cricket_ball_%28cropped%29.jpg/150px-Used_cricket_ball_%28cropped%29.jpg\" srcset=\"//upload.wikimedia.org/wikipedia/commons/thumb/1/11/Used_cricket_ball_%28cropped%29.jpg/225px-Used_cricket_ball_%28cropped%29.jpg 1.5x, //upload.wikimedia.org/wikipedia/commons/thumb/1/11/Used_cricket_ball_%28cropped%29.jpg/300px-Used_cricket_ball_%28cropped%29.jpg 2x\" width=\"150\"/>,\n",
       " <img class=\"mw-file-element\" data-file-height=\"1722\" data-file-width=\"2526\" decoding=\"async\" height=\"340\" src=\"//upload.wikimedia.org/wikipedia/commons/thumb/6/69/Muralitharan_bowling_to_Adam_Gilchrist.jpg/499px-Muralitharan_bowling_to_Adam_Gilchrist.jpg\" srcset=\"//upload.wikimedia.org/wikipedia/commons/thumb/6/69/Muralitharan_bowling_to_Adam_Gilchrist.jpg/748px-Muralitharan_bowling_to_Adam_Gilchrist.jpg 1.5x, //upload.wikimedia.org/wikipedia/commons/thumb/6/69/Muralitharan_bowling_to_Adam_Gilchrist.jpg/998px-Muralitharan_bowling_to_Adam_Gilchrist.jpg 2x\" width=\"499\"/>,\n",
       " <img class=\"mw-file-element\" data-file-height=\"2690\" data-file-width=\"2010\" decoding=\"async\" height=\"321\" src=\"//upload.wikimedia.org/wikipedia/commons/thumb/9/9a/Cricket_fielding_positions2.svg/240px-Cricket_fielding_positions2.svg.png\" srcset=\"//upload.wikimedia.org/wikipedia/commons/thumb/9/9a/Cricket_fielding_positions2.svg/360px-Cricket_fielding_positions2.svg.png 1.5x, //upload.wikimedia.org/wikipedia/commons/thumb/9/9a/Cricket_fielding_positions2.svg/480px-Cricket_fielding_positions2.svg.png 2x\" width=\"240\"/>,\n",
       " <img class=\"mw-file-element\" data-file-height=\"723\" data-file-width=\"510\" decoding=\"async\" height=\"213\" src=\"//upload.wikimedia.org/wikipedia/commons/thumb/5/59/Glenn_McGrath_01_crop_2.jpg/150px-Glenn_McGrath_01_crop_2.jpg\" srcset=\"//upload.wikimedia.org/wikipedia/commons/thumb/5/59/Glenn_McGrath_01_crop_2.jpg/225px-Glenn_McGrath_01_crop_2.jpg 1.5x, //upload.wikimedia.org/wikipedia/commons/thumb/5/59/Glenn_McGrath_01_crop_2.jpg/300px-Glenn_McGrath_01_crop_2.jpg 2x\" width=\"150\"/>,\n",
       " <img class=\"mw-file-element\" data-file-height=\"2200\" data-file-width=\"2000\" decoding=\"async\" height=\"187\" src=\"//upload.wikimedia.org/wikipedia/commons/thumb/9/94/Cricket_shots.svg/170px-Cricket_shots.svg.png\" srcset=\"//upload.wikimedia.org/wikipedia/commons/thumb/9/94/Cricket_shots.svg/255px-Cricket_shots.svg.png 1.5x, //upload.wikimedia.org/wikipedia/commons/thumb/9/94/Cricket_shots.svg/340px-Cricket_shots.svg.png 2x\" width=\"170\"/>,\n",
       " <img class=\"mw-file-element\" data-file-height=\"679\" data-file-width=\"1024\" decoding=\"async\" height=\"146\" src=\"//upload.wikimedia.org/wikipedia/commons/thumb/7/72/Master_Blaster_at_work.jpg/220px-Master_Blaster_at_work.jpg\" srcset=\"//upload.wikimedia.org/wikipedia/commons/thumb/7/72/Master_Blaster_at_work.jpg/330px-Master_Blaster_at_work.jpg 1.5x, //upload.wikimedia.org/wikipedia/commons/thumb/7/72/Master_Blaster_at_work.jpg/440px-Master_Blaster_at_work.jpg 2x\" width=\"220\"/>,\n",
       " <img class=\"mw-file-element\" data-file-height=\"671\" data-file-width=\"1061\" decoding=\"async\" height=\"139\" src=\"//upload.wikimedia.org/wikipedia/commons/thumb/e/e9/Cricket_Umpire.jpg/220px-Cricket_Umpire.jpg\" srcset=\"//upload.wikimedia.org/wikipedia/commons/thumb/e/e9/Cricket_Umpire.jpg/330px-Cricket_Umpire.jpg 1.5x, //upload.wikimedia.org/wikipedia/commons/thumb/e/e9/Cricket_Umpire.jpg/440px-Cricket_Umpire.jpg 2x\" width=\"220\"/>,\n",
       " <img class=\"mw-file-element\" data-file-height=\"929\" data-file-width=\"1169\" decoding=\"async\" height=\"199\" src=\"//upload.wikimedia.org/wikipedia/commons/thumb/6/61/Adelaide_Scoreboard1206.jpg/250px-Adelaide_Scoreboard1206.jpg\" srcset=\"//upload.wikimedia.org/wikipedia/commons/thumb/6/61/Adelaide_Scoreboard1206.jpg/375px-Adelaide_Scoreboard1206.jpg 1.5x, //upload.wikimedia.org/wikipedia/commons/thumb/6/61/Adelaide_Scoreboard1206.jpg/500px-Adelaide_Scoreboard1206.jpg 2x\" width=\"250\"/>,\n",
       " <img class=\"mw-file-element\" data-file-height=\"1362\" data-file-width=\"2112\" decoding=\"async\" height=\"142\" src=\"//upload.wikimedia.org/wikipedia/commons/thumb/6/62/Mithali_Raj_Truro_2012.jpg/220px-Mithali_Raj_Truro_2012.jpg\" srcset=\"//upload.wikimedia.org/wikipedia/commons/thumb/6/62/Mithali_Raj_Truro_2012.jpg/330px-Mithali_Raj_Truro_2012.jpg 1.5x, //upload.wikimedia.org/wikipedia/commons/thumb/6/62/Mithali_Raj_Truro_2012.jpg/440px-Mithali_Raj_Truro_2012.jpg 2x\" width=\"220\"/>,\n",
       " <img class=\"mw-file-element\" data-file-height=\"260\" data-file-width=\"512\" decoding=\"async\" height=\"168\" src=\"//upload.wikimedia.org/wikipedia/commons/thumb/4/48/International_Cricket_Council_members_%28by_status%29_Current.svg/330px-International_Cricket_Council_members_%28by_status%29_Current.svg.png\" srcset=\"//upload.wikimedia.org/wikipedia/commons/thumb/4/48/International_Cricket_Council_members_%28by_status%29_Current.svg/495px-International_Cricket_Council_members_%28by_status%29_Current.svg.png 1.5x, //upload.wikimedia.org/wikipedia/commons/thumb/4/48/International_Cricket_Council_members_%28by_status%29_Current.svg/660px-International_Cricket_Council_members_%28by_status%29_Current.svg.png 2x\" width=\"330\"/>,\n",
       " <img class=\"mw-file-element\" data-file-height=\"2000\" data-file-width=\"3008\" decoding=\"async\" height=\"146\" src=\"//upload.wikimedia.org/wikipedia/commons/thumb/1/13/England_vs_South_Africa.jpg/220px-England_vs_South_Africa.jpg\" srcset=\"//upload.wikimedia.org/wikipedia/commons/thumb/1/13/England_vs_South_Africa.jpg/330px-England_vs_South_Africa.jpg 1.5x, //upload.wikimedia.org/wikipedia/commons/thumb/1/13/England_vs_South_Africa.jpg/440px-England_vs_South_Africa.jpg 2x\" width=\"220\"/>,\n",
       " <img class=\"mw-file-element\" data-file-height=\"832\" data-file-width=\"1024\" decoding=\"async\" height=\"179\" src=\"//upload.wikimedia.org/wikipedia/commons/thumb/e/e0/Yorkshire-CCC-1895.jpg/220px-Yorkshire-CCC-1895.jpg\" srcset=\"//upload.wikimedia.org/wikipedia/commons/thumb/e/e0/Yorkshire-CCC-1895.jpg/330px-Yorkshire-CCC-1895.jpg 1.5x, //upload.wikimedia.org/wikipedia/commons/thumb/e/e0/Yorkshire-CCC-1895.jpg/440px-Yorkshire-CCC-1895.jpg 2x\" width=\"220\"/>,\n",
       " <img class=\"mw-file-element\" data-file-height=\"760\" data-file-width=\"1024\" decoding=\"async\" height=\"163\" src=\"//upload.wikimedia.org/wikipedia/commons/thumb/a/a8/Y.M.C.A._women_playing_cricket%2C_Sydney_University%2C_R._Donaldson%2C_23_April_1941.jpg/220px-Y.M.C.A._women_playing_cricket%2C_Sydney_University%2C_R._Donaldson%2C_23_April_1941.jpg\" srcset=\"//upload.wikimedia.org/wikipedia/commons/thumb/a/a8/Y.M.C.A._women_playing_cricket%2C_Sydney_University%2C_R._Donaldson%2C_23_April_1941.jpg/330px-Y.M.C.A._women_playing_cricket%2C_Sydney_University%2C_R._Donaldson%2C_23_April_1941.jpg 1.5x, //upload.wikimedia.org/wikipedia/commons/thumb/a/a8/Y.M.C.A._women_playing_cricket%2C_Sydney_University%2C_R._Donaldson%2C_23_April_1941.jpg/440px-Y.M.C.A._women_playing_cricket%2C_Sydney_University%2C_R._Donaldson%2C_23_April_1941.jpg 2x\" width=\"220\"/>,\n",
       " <img class=\"mw-file-element\" data-file-height=\"731\" data-file-width=\"981\" decoding=\"async\" height=\"164\" src=\"//upload.wikimedia.org/wikipedia/commons/thumb/5/57/The_Old_Baltimore_Cricket_Club%2C_Image_2_%281927%29.png/220px-The_Old_Baltimore_Cricket_Club%2C_Image_2_%281927%29.png\" srcset=\"//upload.wikimedia.org/wikipedia/commons/thumb/5/57/The_Old_Baltimore_Cricket_Club%2C_Image_2_%281927%29.png/330px-The_Old_Baltimore_Cricket_Club%2C_Image_2_%281927%29.png 1.5x, //upload.wikimedia.org/wikipedia/commons/thumb/5/57/The_Old_Baltimore_Cricket_Club%2C_Image_2_%281927%29.png/440px-The_Old_Baltimore_Cricket_Club%2C_Image_2_%281927%29.png 2x\" width=\"220\"/>,\n",
       " <img alt=\"\" class=\"mw-file-element\" data-file-height=\"1000\" data-file-width=\"664\" decoding=\"async\" height=\"169\" src=\"//upload.wikimedia.org/wikipedia/commons/thumb/2/21/Street_cricket.jpg/112px-Street_cricket.jpg\" srcset=\"//upload.wikimedia.org/wikipedia/commons/thumb/2/21/Street_cricket.jpg/168px-Street_cricket.jpg 1.5x, //upload.wikimedia.org/wikipedia/commons/thumb/2/21/Street_cricket.jpg/224px-Street_cricket.jpg 2x\" width=\"112\"/>,\n",
       " <img alt=\"\" class=\"mw-file-element\" data-file-height=\"717\" data-file-width=\"730\" decoding=\"async\" height=\"169\" src=\"//upload.wikimedia.org/wikipedia/commons/thumb/d/d3/Jugando_la_Plaquita.JPG/172px-Jugando_la_Plaquita.JPG\" srcset=\"//upload.wikimedia.org/wikipedia/commons/thumb/d/d3/Jugando_la_Plaquita.JPG/258px-Jugando_la_Plaquita.JPG 1.5x, //upload.wikimedia.org/wikipedia/commons/thumb/d/d3/Jugando_la_Plaquita.JPG/344px-Jugando_la_Plaquita.JPG 2x\" width=\"172\"/>,\n",
       " <img class=\"mw-file-element\" data-file-height=\"607\" data-file-width=\"395\" decoding=\"async\" height=\"261\" src=\"//upload.wikimedia.org/wikipedia/commons/thumb/6/66/William_Handcock_Tom_Wills.jpg/170px-William_Handcock_Tom_Wills.jpg\" srcset=\"//upload.wikimedia.org/wikipedia/commons/thumb/6/66/William_Handcock_Tom_Wills.jpg/255px-William_Handcock_Tom_Wills.jpg 1.5x, //upload.wikimedia.org/wikipedia/commons/thumb/6/66/William_Handcock_Tom_Wills.jpg/340px-William_Handcock_Tom_Wills.jpg 2x\" width=\"170\"/>,\n",
       " <img alt=\"\" class=\"mw-file-element\" data-file-height=\"325\" data-file-width=\"325\" decoding=\"async\" height=\"28\" src=\"//upload.wikimedia.org/wikipedia/commons/thumb/b/b0/Cricketball.png/28px-Cricketball.png\" srcset=\"//upload.wikimedia.org/wikipedia/commons/thumb/b/b0/Cricketball.png/42px-Cricketball.png 1.5x, //upload.wikimedia.org/wikipedia/commons/thumb/b/b0/Cricketball.png/56px-Cricketball.png 2x\" width=\"28\"/>,\n",
       " <img alt=\"\" class=\"mw-file-element\" data-file-height=\"226\" data-file-width=\"251\" decoding=\"async\" height=\"28\" src=\"//upload.wikimedia.org/wikipedia/commons/thumb/9/95/Sports_icon.png/31px-Sports_icon.png\" srcset=\"//upload.wikimedia.org/wikipedia/commons/thumb/9/95/Sports_icon.png/47px-Sports_icon.png 1.5x, //upload.wikimedia.org/wikipedia/commons/thumb/9/95/Sports_icon.png/62px-Sports_icon.png 2x\" width=\"31\"/>,\n",
       " <img alt=\"\" class=\"mw-file-element\" data-file-height=\"391\" data-file-width=\"391\" decoding=\"async\" height=\"27\" src=\"//upload.wikimedia.org/wikipedia/en/thumb/0/06/Wiktionary-logo-v2.svg/27px-Wiktionary-logo-v2.svg.png\" srcset=\"//upload.wikimedia.org/wikipedia/en/thumb/0/06/Wiktionary-logo-v2.svg/41px-Wiktionary-logo-v2.svg.png 1.5x, //upload.wikimedia.org/wikipedia/en/thumb/0/06/Wiktionary-logo-v2.svg/54px-Wiktionary-logo-v2.svg.png 2x\" width=\"27\"/>,\n",
       " <img alt=\"\" class=\"mw-file-element\" data-file-height=\"1376\" data-file-width=\"1024\" decoding=\"async\" height=\"27\" src=\"//upload.wikimedia.org/wikipedia/en/thumb/4/4a/Commons-logo.svg/20px-Commons-logo.svg.png\" srcset=\"//upload.wikimedia.org/wikipedia/en/thumb/4/4a/Commons-logo.svg/30px-Commons-logo.svg.png 1.5x, //upload.wikimedia.org/wikipedia/en/thumb/4/4a/Commons-logo.svg/40px-Commons-logo.svg.png 2x\" width=\"20\"/>,\n",
       " <img alt=\"\" class=\"mw-file-element\" data-file-height=\"415\" data-file-width=\"759\" decoding=\"async\" height=\"15\" src=\"//upload.wikimedia.org/wikipedia/commons/thumb/2/24/Wikinews-logo.svg/27px-Wikinews-logo.svg.png\" srcset=\"//upload.wikimedia.org/wikipedia/commons/thumb/2/24/Wikinews-logo.svg/41px-Wikinews-logo.svg.png 1.5x, //upload.wikimedia.org/wikipedia/commons/thumb/2/24/Wikinews-logo.svg/54px-Wikinews-logo.svg.png 2x\" width=\"27\"/>,\n",
       " <img alt=\"\" class=\"mw-file-element\" data-file-height=\"355\" data-file-width=\"300\" decoding=\"async\" height=\"27\" src=\"//upload.wikimedia.org/wikipedia/commons/thumb/f/fa/Wikiquote-logo.svg/23px-Wikiquote-logo.svg.png\" srcset=\"//upload.wikimedia.org/wikipedia/commons/thumb/f/fa/Wikiquote-logo.svg/35px-Wikiquote-logo.svg.png 1.5x, //upload.wikimedia.org/wikipedia/commons/thumb/f/fa/Wikiquote-logo.svg/46px-Wikiquote-logo.svg.png 2x\" width=\"23\"/>,\n",
       " <img alt=\"\" class=\"mw-file-element\" data-file-height=\"430\" data-file-width=\"410\" decoding=\"async\" height=\"27\" src=\"//upload.wikimedia.org/wikipedia/commons/thumb/4/4c/Wikisource-logo.svg/26px-Wikisource-logo.svg.png\" srcset=\"//upload.wikimedia.org/wikipedia/commons/thumb/4/4c/Wikisource-logo.svg/39px-Wikisource-logo.svg.png 1.5x, //upload.wikimedia.org/wikipedia/commons/thumb/4/4c/Wikisource-logo.svg/51px-Wikisource-logo.svg.png 2x\" width=\"26\"/>,\n",
       " <img alt=\"\" class=\"mw-file-element\" data-file-height=\"300\" data-file-width=\"300\" decoding=\"async\" height=\"27\" src=\"//upload.wikimedia.org/wikipedia/commons/thumb/f/fa/Wikibooks-logo.svg/27px-Wikibooks-logo.svg.png\" srcset=\"//upload.wikimedia.org/wikipedia/commons/thumb/f/fa/Wikibooks-logo.svg/41px-Wikibooks-logo.svg.png 1.5x, //upload.wikimedia.org/wikipedia/commons/thumb/f/fa/Wikibooks-logo.svg/54px-Wikibooks-logo.svg.png 2x\" width=\"27\"/>,\n",
       " <img alt=\"\" class=\"mw-file-element\" data-file-height=\"512\" data-file-width=\"626\" decoding=\"async\" height=\"22\" src=\"//upload.wikimedia.org/wikipedia/commons/thumb/0/0b/Wikiversity_logo_2017.svg/27px-Wikiversity_logo_2017.svg.png\" srcset=\"//upload.wikimedia.org/wikipedia/commons/thumb/0/0b/Wikiversity_logo_2017.svg/41px-Wikiversity_logo_2017.svg.png 1.5x, //upload.wikimedia.org/wikipedia/commons/thumb/0/0b/Wikiversity_logo_2017.svg/54px-Wikiversity_logo_2017.svg.png 2x\" width=\"27\"/>,\n",
       " <img alt=\"\" class=\"mw-file-element\" data-file-height=\"193\" data-file-width=\"193\" decoding=\"async\" height=\"27\" src=\"//upload.wikimedia.org/wikipedia/commons/thumb/d/dd/Wikivoyage-Logo-v3-icon.svg/27px-Wikivoyage-Logo-v3-icon.svg.png\" srcset=\"//upload.wikimedia.org/wikipedia/commons/thumb/d/dd/Wikivoyage-Logo-v3-icon.svg/41px-Wikivoyage-Logo-v3-icon.svg.png 1.5x, //upload.wikimedia.org/wikipedia/commons/thumb/d/dd/Wikivoyage-Logo-v3-icon.svg/54px-Wikivoyage-Logo-v3-icon.svg.png 2x\" width=\"27\"/>,\n",
       " <img alt=\"\" class=\"mw-file-element\" data-file-height=\"590\" data-file-width=\"1050\" decoding=\"async\" height=\"15\" src=\"//upload.wikimedia.org/wikipedia/commons/thumb/f/ff/Wikidata-logo.svg/27px-Wikidata-logo.svg.png\" srcset=\"//upload.wikimedia.org/wikipedia/commons/thumb/f/ff/Wikidata-logo.svg/41px-Wikidata-logo.svg.png 1.5x, //upload.wikimedia.org/wikipedia/commons/thumb/f/ff/Wikidata-logo.svg/54px-Wikidata-logo.svg.png 2x\" width=\"27\"/>,\n",
       " <img alt=\"\" class=\"mw-file-element\" data-file-height=\"260\" data-file-width=\"512\" decoding=\"async\" height=\"142\" src=\"//upload.wikimedia.org/wikipedia/commons/thumb/4/48/International_Cricket_Council_members_%28by_status%29_Current.svg/280px-International_Cricket_Council_members_%28by_status%29_Current.svg.png\" srcset=\"//upload.wikimedia.org/wikipedia/commons/thumb/4/48/International_Cricket_Council_members_%28by_status%29_Current.svg/420px-International_Cricket_Council_members_%28by_status%29_Current.svg.png 1.5x, //upload.wikimedia.org/wikipedia/commons/thumb/4/48/International_Cricket_Council_members_%28by_status%29_Current.svg/560px-International_Cricket_Council_members_%28by_status%29_Current.svg.png 2x\" width=\"280\"/>,\n",
       " <img class=\"mw-file-element\" data-file-height=\"300\" data-file-width=\"300\" decoding=\"async\" height=\"17\" src=\"//upload.wikimedia.org/wikipedia/commons/thumb/c/cd/Cricket_pictogram.svg/17px-Cricket_pictogram.svg.png\" srcset=\"//upload.wikimedia.org/wikipedia/commons/thumb/c/cd/Cricket_pictogram.svg/26px-Cricket_pictogram.svg.png 1.5x, //upload.wikimedia.org/wikipedia/commons/thumb/c/cd/Cricket_pictogram.svg/34px-Cricket_pictogram.svg.png 2x\" width=\"17\"/>,\n",
       " <img alt=\"Afghanistan\" class=\"mw-file-element\" data-file-height=\"600\" data-file-width=\"900\" decoding=\"async\" height=\"15\" src=\"//upload.wikimedia.org/wikipedia/commons/thumb/c/cd/Flag_of_Afghanistan_%282013%E2%80%932021%29.svg/23px-Flag_of_Afghanistan_%282013%E2%80%932021%29.svg.png\" srcset=\"//upload.wikimedia.org/wikipedia/commons/thumb/c/cd/Flag_of_Afghanistan_%282013%E2%80%932021%29.svg/35px-Flag_of_Afghanistan_%282013%E2%80%932021%29.svg.png 1.5x, //upload.wikimedia.org/wikipedia/commons/thumb/c/cd/Flag_of_Afghanistan_%282013%E2%80%932021%29.svg/45px-Flag_of_Afghanistan_%282013%E2%80%932021%29.svg.png 2x\" width=\"23\"/>,\n",
       " <img alt=\"Australia\" class=\"mw-file-element\" data-file-height=\"640\" data-file-width=\"1280\" decoding=\"async\" height=\"12\" src=\"//upload.wikimedia.org/wikipedia/commons/thumb/8/88/Flag_of_Australia_%28converted%29.svg/23px-Flag_of_Australia_%28converted%29.svg.png\" srcset=\"//upload.wikimedia.org/wikipedia/commons/thumb/8/88/Flag_of_Australia_%28converted%29.svg/35px-Flag_of_Australia_%28converted%29.svg.png 1.5x, //upload.wikimedia.org/wikipedia/commons/thumb/8/88/Flag_of_Australia_%28converted%29.svg/46px-Flag_of_Australia_%28converted%29.svg.png 2x\" width=\"23\"/>,\n",
       " <img alt=\"Bangladesh\" class=\"mw-file-element\" data-file-height=\"600\" data-file-width=\"1000\" decoding=\"async\" height=\"14\" src=\"//upload.wikimedia.org/wikipedia/commons/thumb/f/f9/Flag_of_Bangladesh.svg/23px-Flag_of_Bangladesh.svg.png\" srcset=\"//upload.wikimedia.org/wikipedia/commons/thumb/f/f9/Flag_of_Bangladesh.svg/35px-Flag_of_Bangladesh.svg.png 1.5x, //upload.wikimedia.org/wikipedia/commons/thumb/f/f9/Flag_of_Bangladesh.svg/46px-Flag_of_Bangladesh.svg.png 2x\" width=\"23\"/>,\n",
       " <img alt=\"England\" class=\"mw-file-element\" data-file-height=\"480\" data-file-width=\"800\" decoding=\"async\" height=\"14\" src=\"//upload.wikimedia.org/wikipedia/en/thumb/b/be/Flag_of_England.svg/23px-Flag_of_England.svg.png\" srcset=\"//upload.wikimedia.org/wikipedia/en/thumb/b/be/Flag_of_England.svg/35px-Flag_of_England.svg.png 1.5x, //upload.wikimedia.org/wikipedia/en/thumb/b/be/Flag_of_England.svg/46px-Flag_of_England.svg.png 2x\" width=\"23\"/>,\n",
       " <img alt=\"India\" class=\"mw-file-element\" data-file-height=\"600\" data-file-width=\"900\" decoding=\"async\" height=\"15\" src=\"//upload.wikimedia.org/wikipedia/en/thumb/4/41/Flag_of_India.svg/23px-Flag_of_India.svg.png\" srcset=\"//upload.wikimedia.org/wikipedia/en/thumb/4/41/Flag_of_India.svg/35px-Flag_of_India.svg.png 1.5x, //upload.wikimedia.org/wikipedia/en/thumb/4/41/Flag_of_India.svg/45px-Flag_of_India.svg.png 2x\" width=\"23\"/>,\n",
       " <img class=\"mw-file-element\" data-file-height=\"722\" data-file-width=\"1081\" decoding=\"async\" height=\"15\" src=\"//upload.wikimedia.org/wikipedia/commons/thumb/8/85/Flag_of_Cricket_Ireland.svg/23px-Flag_of_Cricket_Ireland.svg.png\" srcset=\"//upload.wikimedia.org/wikipedia/commons/thumb/8/85/Flag_of_Cricket_Ireland.svg/35px-Flag_of_Cricket_Ireland.svg.png 1.5x, //upload.wikimedia.org/wikipedia/commons/thumb/8/85/Flag_of_Cricket_Ireland.svg/45px-Flag_of_Cricket_Ireland.svg.png 2x\" width=\"23\"/>,\n",
       " <img alt=\"New Zealand\" class=\"mw-file-element\" data-file-height=\"600\" data-file-width=\"1200\" decoding=\"async\" height=\"12\" src=\"//upload.wikimedia.org/wikipedia/commons/thumb/3/3e/Flag_of_New_Zealand.svg/23px-Flag_of_New_Zealand.svg.png\" srcset=\"//upload.wikimedia.org/wikipedia/commons/thumb/3/3e/Flag_of_New_Zealand.svg/35px-Flag_of_New_Zealand.svg.png 1.5x, //upload.wikimedia.org/wikipedia/commons/thumb/3/3e/Flag_of_New_Zealand.svg/46px-Flag_of_New_Zealand.svg.png 2x\" width=\"23\"/>,\n",
       " <img alt=\"Pakistan\" class=\"mw-file-element\" data-file-height=\"600\" data-file-width=\"900\" decoding=\"async\" height=\"15\" src=\"//upload.wikimedia.org/wikipedia/commons/thumb/3/32/Flag_of_Pakistan.svg/23px-Flag_of_Pakistan.svg.png\" srcset=\"//upload.wikimedia.org/wikipedia/commons/thumb/3/32/Flag_of_Pakistan.svg/35px-Flag_of_Pakistan.svg.png 1.5x, //upload.wikimedia.org/wikipedia/commons/thumb/3/32/Flag_of_Pakistan.svg/45px-Flag_of_Pakistan.svg.png 2x\" width=\"23\"/>,\n",
       " <img alt=\"South Africa\" class=\"mw-file-element\" data-file-height=\"600\" data-file-width=\"900\" decoding=\"async\" height=\"15\" src=\"//upload.wikimedia.org/wikipedia/commons/thumb/a/af/Flag_of_South_Africa.svg/23px-Flag_of_South_Africa.svg.png\" srcset=\"//upload.wikimedia.org/wikipedia/commons/thumb/a/af/Flag_of_South_Africa.svg/35px-Flag_of_South_Africa.svg.png 1.5x, //upload.wikimedia.org/wikipedia/commons/thumb/a/af/Flag_of_South_Africa.svg/45px-Flag_of_South_Africa.svg.png 2x\" width=\"23\"/>,\n",
       " <img alt=\"Sri Lanka\" class=\"mw-file-element\" data-file-height=\"600\" data-file-width=\"1200\" decoding=\"async\" height=\"12\" src=\"//upload.wikimedia.org/wikipedia/commons/thumb/1/11/Flag_of_Sri_Lanka.svg/23px-Flag_of_Sri_Lanka.svg.png\" srcset=\"//upload.wikimedia.org/wikipedia/commons/thumb/1/11/Flag_of_Sri_Lanka.svg/35px-Flag_of_Sri_Lanka.svg.png 1.5x, //upload.wikimedia.org/wikipedia/commons/thumb/1/11/Flag_of_Sri_Lanka.svg/46px-Flag_of_Sri_Lanka.svg.png 2x\" width=\"23\"/>,\n",
       " <img class=\"mw-file-element\" data-file-height=\"309\" data-file-width=\"486\" decoding=\"async\" height=\"15\" src=\"//upload.wikimedia.org/wikipedia/commons/thumb/1/18/WestIndiesCricketFlagPre1999.svg/23px-WestIndiesCricketFlagPre1999.svg.png\" srcset=\"//upload.wikimedia.org/wikipedia/commons/thumb/1/18/WestIndiesCricketFlagPre1999.svg/35px-WestIndiesCricketFlagPre1999.svg.png 1.5x, //upload.wikimedia.org/wikipedia/commons/thumb/1/18/WestIndiesCricketFlagPre1999.svg/46px-WestIndiesCricketFlagPre1999.svg.png 2x\" width=\"23\"/>,\n",
       " <img alt=\"Zimbabwe\" class=\"mw-file-element\" data-file-height=\"600\" data-file-width=\"1200\" decoding=\"async\" height=\"12\" src=\"//upload.wikimedia.org/wikipedia/commons/thumb/6/6a/Flag_of_Zimbabwe.svg/23px-Flag_of_Zimbabwe.svg.png\" srcset=\"//upload.wikimedia.org/wikipedia/commons/thumb/6/6a/Flag_of_Zimbabwe.svg/35px-Flag_of_Zimbabwe.svg.png 1.5x, //upload.wikimedia.org/wikipedia/commons/thumb/6/6a/Flag_of_Zimbabwe.svg/46px-Flag_of_Zimbabwe.svg.png 2x\" width=\"23\"/>,\n",
       " <img alt=\"Edit this at Wikidata\" class=\"mw-file-element\" data-file-height=\"20\" data-file-width=\"20\" decoding=\"async\" height=\"10\" src=\"//upload.wikimedia.org/wikipedia/en/thumb/8/8a/OOjs_UI_icon_edit-ltr-progressive.svg/10px-OOjs_UI_icon_edit-ltr-progressive.svg.png\" srcset=\"//upload.wikimedia.org/wikipedia/en/thumb/8/8a/OOjs_UI_icon_edit-ltr-progressive.svg/15px-OOjs_UI_icon_edit-ltr-progressive.svg.png 1.5x, //upload.wikimedia.org/wikipedia/en/thumb/8/8a/OOjs_UI_icon_edit-ltr-progressive.svg/20px-OOjs_UI_icon_edit-ltr-progressive.svg.png 2x\" width=\"10\"/>]"
      ]
     },
     "execution_count": 12,
     "metadata": {},
     "output_type": "execute_result"
    }
   ],
   "source": [
    "soup.select('.mw-file-element')"
   ]
  },
  {
   "cell_type": "code",
   "execution_count": 19,
   "id": "4ad9a054-1b44-430f-a264-0eac5832fc54",
   "metadata": {},
   "outputs": [],
   "source": [
    "ground=soup.select('.mw-file-element')[1]"
   ]
  },
  {
   "cell_type": "code",
   "execution_count": 20,
   "id": "fbd26953",
   "metadata": {},
   "outputs": [
    {
     "data": {
      "text/plain": [
       "<img class=\"mw-file-element\" data-file-height=\"555\" data-file-width=\"1280\" decoding=\"async\" height=\"130\" src=\"//upload.wikimedia.org/wikipedia/commons/thumb/7/7a/Pollock_to_Hussey.jpg/300px-Pollock_to_Hussey.jpg\" srcset=\"//upload.wikimedia.org/wikipedia/commons/thumb/7/7a/Pollock_to_Hussey.jpg/450px-Pollock_to_Hussey.jpg 1.5x, //upload.wikimedia.org/wikipedia/commons/thumb/7/7a/Pollock_to_Hussey.jpg/600px-Pollock_to_Hussey.jpg 2x\" width=\"300\"/>"
      ]
     },
     "execution_count": 20,
     "metadata": {},
     "output_type": "execute_result"
    }
   ],
   "source": [
    "ground"
   ]
  },
  {
   "cell_type": "code",
   "execution_count": 21,
   "id": "dd878d83-83a4-4eae-9349-4e35c7032e71",
   "metadata": {},
   "outputs": [
    {
     "data": {
      "text/plain": [
       "'//upload.wikimedia.org/wikipedia/commons/thumb/7/7a/Pollock_to_Hussey.jpg/300px-Pollock_to_Hussey.jpg'"
      ]
     },
     "execution_count": 21,
     "metadata": {},
     "output_type": "execute_result"
    }
   ],
   "source": [
    "ground['src']"
   ]
  },
  {
   "cell_type": "markdown",
   "id": "0e310069-7d8b-4cd0-b4b7-bb01c6a37ec5",
   "metadata": {},
   "source": [
    "<img \n",
    "src='//upload.wikimedia.org/wikipedia/commons/thumb/7/7a/Pollock_to_Hussey.jpg/300px-Pollock_to_Hussey.jpg'>"
   ]
  },
  {
   "cell_type": "code",
   "execution_count": 22,
   "id": "a7069aaa-d2a8-4431-a0ce-b92eb590e255",
   "metadata": {},
   "outputs": [],
   "source": [
    "# now make request to download the img\n",
    "im_link=requests.get('https://upload.wikimedia.org/wikipedia/commons/thumb/7/7a/Pollock_to_Hussey.jpg/300px-Pollock_to_Hussey.jpg')"
   ]
  },
  {
   "cell_type": "code",
   "execution_count": 16,
   "id": "8a03b8da-a9ca-4cea-adab-b55420e98277",
   "metadata": {},
   "outputs": [],
   "source": [
    "#im_link.content"
   ]
  },
  {
   "cell_type": "code",
   "execution_count": 23,
   "id": "e37efdc0-c3c9-4913-b12d-9267f91d4d9c",
   "metadata": {},
   "outputs": [],
   "source": [
    "f=open('Crick_image.jpg','wb')"
   ]
  },
  {
   "cell_type": "code",
   "execution_count": 18,
   "id": "49259dec-7f0d-4399-b431-19cb0ae8fe94",
   "metadata": {},
   "outputs": [
    {
     "data": {
      "text/plain": [
       "11133"
      ]
     },
     "execution_count": 18,
     "metadata": {},
     "output_type": "execute_result"
    }
   ],
   "source": [
    "f.write(im_link.content)"
   ]
  },
  {
   "cell_type": "code",
   "execution_count": 19,
   "id": "e1b1b71b-4eae-43eb-b5d3-b1398a4d1914",
   "metadata": {},
   "outputs": [],
   "source": [
    "f.close()"
   ]
  },
  {
   "cell_type": "code",
   "execution_count": 59,
   "id": "7c3e315a-e3a1-4d4f-9e39-66446cce2f43",
   "metadata": {},
   "outputs": [
    {
     "data": {
      "text/plain": [
       "'C:\\\\Users\\\\hp'"
      ]
     },
     "execution_count": 59,
     "metadata": {},
     "output_type": "execute_result"
    }
   ],
   "source": [
    "pwd"
   ]
  },
  {
   "cell_type": "markdown",
   "id": "c90e9e5e-f57d-44a6-b089-ee9bd5945071",
   "metadata": {},
   "source": [
    "# Book Scraping"
   ]
  },
  {
   "cell_type": "code",
   "execution_count": 24,
   "id": "494765f3-81ae-48ea-b959-c3884fc6e6a2",
   "metadata": {},
   "outputs": [],
   "source": [
    "url='https://books.toscrape.com/catalogue/page-2.html'"
   ]
  },
  {
   "cell_type": "code",
   "execution_count": 25,
   "id": "6e1b3ae3-7fea-48f0-a451-9900de9bc35e",
   "metadata": {},
   "outputs": [],
   "source": [
    "bas_url='https://books.toscrape.com/catalogue/page-{}.html'"
   ]
  },
  {
   "cell_type": "code",
   "execution_count": 26,
   "id": "98b5dafd-e23c-4809-ab55-8074e3d7bbc8",
   "metadata": {},
   "outputs": [
    {
     "data": {
      "text/plain": [
       "'https://books.toscrape.com/catalogue/page-5.html'"
      ]
     },
     "execution_count": 26,
     "metadata": {},
     "output_type": "execute_result"
    }
   ],
   "source": [
    "bas_url.format(5)"
   ]
  },
  {
   "cell_type": "code",
   "execution_count": 27,
   "id": "942f9ce4-2c0f-43d3-a12b-d40e20e95362",
   "metadata": {},
   "outputs": [],
   "source": [
    "re_book=requests.get(bas_url.format(1))"
   ]
  },
  {
   "cell_type": "code",
   "execution_count": 28,
   "id": "9ac1279c-4003-48ad-a33b-6ab44933a039",
   "metadata": {},
   "outputs": [],
   "source": [
    "soup=bs4.BeautifulSoup(re_book.text,\"lxml\")"
   ]
  },
  {
   "cell_type": "code",
   "execution_count": 29,
   "id": "9bcee10f-1f46-4165-995b-a21273a7de9c",
   "metadata": {},
   "outputs": [],
   "source": [
    "product=soup.select('.product_pod')"
   ]
  },
  {
   "cell_type": "code",
   "execution_count": 30,
   "id": "e8ead871-dad1-4fd1-a2db-10bc7c8fc859",
   "metadata": {},
   "outputs": [],
   "source": [
    "ex=product[10]"
   ]
  },
  {
   "cell_type": "code",
   "execution_count": 31,
   "id": "10e6161e-a00d-43a4-9736-89a08f2b92a2",
   "metadata": {},
   "outputs": [
    {
     "data": {
      "text/plain": [
       "<article class=\"product_pod\">\n",
       "<div class=\"image_container\">\n",
       "<a href=\"starving-hearts-triangular-trade-trilogy-1_990/index.html\"><img alt=\"Starving Hearts (Triangular Trade Trilogy, #1)\" class=\"thumbnail\" src=\"../media/cache/be/f4/bef44da28c98f905a3ebec0b87be8530.jpg\"/></a>\n",
       "</div>\n",
       "<p class=\"star-rating Two\">\n",
       "<i class=\"icon-star\"></i>\n",
       "<i class=\"icon-star\"></i>\n",
       "<i class=\"icon-star\"></i>\n",
       "<i class=\"icon-star\"></i>\n",
       "<i class=\"icon-star\"></i>\n",
       "</p>\n",
       "<h3><a href=\"starving-hearts-triangular-trade-trilogy-1_990/index.html\" title=\"Starving Hearts (Triangular Trade Trilogy, #1)\">Starving Hearts (Triangular Trade ...</a></h3>\n",
       "<div class=\"product_price\">\n",
       "<p class=\"price_color\">Â£13.99</p>\n",
       "<p class=\"instock availability\">\n",
       "<i class=\"icon-ok\"></i>\n",
       "    \n",
       "        In stock\n",
       "    \n",
       "</p>\n",
       "<form>\n",
       "<button class=\"btn btn-primary btn-block\" data-loading-text=\"Adding...\" type=\"submit\">Add to basket</button>\n",
       "</form>\n",
       "</div>\n",
       "</article>"
      ]
     },
     "execution_count": 31,
     "metadata": {},
     "output_type": "execute_result"
    }
   ],
   "source": [
    "ex"
   ]
  },
  {
   "cell_type": "code",
   "execution_count": 32,
   "id": "1c69e8ed-c6b1-4785-a433-81cfcc5eb8e5",
   "metadata": {},
   "outputs": [
    {
     "data": {
      "text/plain": [
       "[<p class=\"star-rating Two\">\n",
       " <i class=\"icon-star\"></i>\n",
       " <i class=\"icon-star\"></i>\n",
       " <i class=\"icon-star\"></i>\n",
       " <i class=\"icon-star\"></i>\n",
       " <i class=\"icon-star\"></i>\n",
       " </p>]"
      ]
     },
     "execution_count": 32,
     "metadata": {},
     "output_type": "execute_result"
    }
   ],
   "source": [
    "# to find ratig\n",
    "ex.select(\".star-rating.Two\")"
   ]
  },
  {
   "cell_type": "code",
   "execution_count": 36,
   "id": "48bb3514-243e-4acc-9071-4554289055d0",
   "metadata": {},
   "outputs": [
    {
     "data": {
      "text/plain": [
       "[<a href=\"starving-hearts-triangular-trade-trilogy-1_990/index.html\"><img alt=\"Starving Hearts (Triangular Trade Trilogy, #1)\" class=\"thumbnail\" src=\"../media/cache/be/f4/bef44da28c98f905a3ebec0b87be8530.jpg\"/></a>,\n",
       " <a href=\"starving-hearts-triangular-trade-trilogy-1_990/index.html\" title=\"Starving Hearts (Triangular Trade Trilogy, #1)\">Starving Hearts (Triangular Trade ...</a>]"
      ]
     },
     "execution_count": 36,
     "metadata": {},
     "output_type": "execute_result"
    }
   ],
   "source": [
    "# to find title\n",
    "ex.select('a')\n",
    "# here looks like 1st one is image and 2nd is title"
   ]
  },
  {
   "cell_type": "code",
   "execution_count": 37,
   "id": "4109a7b7-50a1-4b48-8719-90e1c89b4a35",
   "metadata": {},
   "outputs": [
    {
     "data": {
      "text/plain": [
       "'Starving Hearts (Triangular Trade Trilogy, #1)'"
      ]
     },
     "execution_count": 37,
     "metadata": {},
     "output_type": "execute_result"
    }
   ],
   "source": [
    "ex.select('a')[1]['title']"
   ]
  },
  {
   "cell_type": "code",
   "execution_count": 43,
   "id": "cb1a8a2c-e6c3-4b29-a369-795f053b64c3",
   "metadata": {},
   "outputs": [],
   "source": [
    "Tow_star_book_Title=[]"
   ]
  },
  {
   "cell_type": "code",
   "execution_count": 58,
   "id": "4094bd3b-c4c6-4945-a913-104f6bcbee62",
   "metadata": {},
   "outputs": [],
   "source": [
    "Tow_star_book_Title=[]\n",
    "for i in range(1,51):\n",
    "    bas_url='https://books.toscrape.com/catalogue/page-{}.html'\n",
    "    url=bas_url.format(i)\n",
    "    re=requests.get(url)\n",
    "    soup=bs4.BeautifulSoup(re.text,\"lxml\")\n",
    "    Books=soup.select(\".product_pod\")\n",
    "    for book in Books:\n",
    "        if len(book.select(\".star-rating.Two\")) !=0: \n",
    "            book_title=book.select('a')[1]['title']\n",
    "            Tow_star_book_Title.append(book_title)\n",
    "            \n",
    "            \n",
    "   \n",
    "    \n",
    "    "
   ]
  },
  {
   "cell_type": "code",
   "execution_count": 61,
   "id": "fb7b517e-1b2b-4582-9caf-b4df931daa70",
   "metadata": {},
   "outputs": [
    {
     "data": {
      "text/plain": [
       "196"
      ]
     },
     "execution_count": 61,
     "metadata": {},
     "output_type": "execute_result"
    }
   ],
   "source": [
    "len(Tow_star_book_Title)"
   ]
  },
  {
   "cell_type": "code",
   "execution_count": null,
   "id": "dbd1e392-1e92-4c0f-8d02-714ea3448e6b",
   "metadata": {},
   "outputs": [],
   "source": []
  }
 ],
 "metadata": {
  "kernelspec": {
   "display_name": "Python 3 (ipykernel)",
   "language": "python",
   "name": "python3"
  },
  "language_info": {
   "codemirror_mode": {
    "name": "ipython",
    "version": 3
   },
   "file_extension": ".py",
   "mimetype": "text/x-python",
   "name": "python",
   "nbconvert_exporter": "python",
   "pygments_lexer": "ipython3",
   "version": "3.10.9"
  }
 },
 "nbformat": 4,
 "nbformat_minor": 5
}
